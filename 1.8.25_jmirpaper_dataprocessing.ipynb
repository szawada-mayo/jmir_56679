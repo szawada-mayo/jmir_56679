{
 "cells": [
  {
   "cell_type": "code",
   "execution_count": 1,
   "id": "94ed4f34-7ed9-4af3-9722-41ea7ed0a501",
   "metadata": {
    "tags": []
   },
   "outputs": [],
   "source": [
    "#run \"pip install fancyimpute\" in terminal if fancyimpute is not installed\n",
    "#launch spark \n",
    "import pyspark\n",
    "import dxpy\n",
    "import dxdata\n",
    "import pandas as pd\n",
    "import numpy as np\n",
    "import datetime\n",
    "import matplotlib.pyplot as plt\n",
    "from scipy import stats\n",
    "from fancyimpute import IterativeImputer\n",
    "from scipy.stats import chi2_contingency\n",
    "sc = pyspark.SparkContext()\n",
    "spark = pyspark.sql.SparkSession(sc)"
   ]
  },
  {
   "cell_type": "code",
   "execution_count": 2,
   "id": "48491e17-0872-4e51-89d1-b65490c50e9f",
   "metadata": {
    "tags": []
   },
   "outputs": [],
   "source": [
    "import warnings\n",
    "warnings.filterwarnings(\"ignore\", category=pd.errors.SettingWithCopyWarning)"
   ]
  },
  {
   "cell_type": "code",
   "execution_count": 3,
   "id": "47dc4214-fc54-4f76-b948-0b56e707d396",
   "metadata": {
    "tags": []
   },
   "outputs": [],
   "source": [
    "#prep database \n",
    "dispensed_database_name = dxpy.find_one_data_object(classname=\"database\", name=\"app*\", folder=\"/\", name_mode=\"glob\", describe=True)[\"describe\"][\"name\"]\n",
    "dispensed_dataset_id = dxpy.find_one_data_object(typename=\"Dataset\", name=\"app*.dataset\", folder=\"/\", name_mode=\"glob\")[\"id\"]"
   ]
  },
  {
   "cell_type": "code",
   "execution_count": 4,
   "id": "54b7377a-5f5f-45cb-9bb4-dbc0efe7af81",
   "metadata": {
    "tags": []
   },
   "outputs": [],
   "source": [
    "#prep dataset\n",
    "dataset = dxdata.load_dataset(id=dispensed_dataset_id)\n",
    "participant = dataset[\"participant\"]"
   ]
  },
  {
   "cell_type": "code",
   "execution_count": 5,
   "id": "a31b977c-629d-42a5-8874-f15c8cdca821",
   "metadata": {
    "tags": []
   },
   "outputs": [],
   "source": [
    "#pull all relevant columns\n",
    "field_names = ['eid', 'p31','p134_i0', 'p130840', 'p130836', 'p130842' , 'p20510', 'p20400', 'p40005_i0', 'p130898', 'p130900', 'p130902', 'p21000_i0', 'p21003_i0', 'p131298', 'p131286', 'p131294', 'p130814', 'p130706', 'p130708', 'p53_i0', 'p130892',  'p130894', 'p130896', 'p130838', 'p131056', 'p131058', 'p131180',  'p131360', 'p131362', 'p131364', 'p131366', 'p131368', 'p131370', 'p131372', 'p131374', 'p131376',  'p131378',  'p90012', 'p90185', 'p90187', 'p90017', 'p90016', 'p90051',  'p90010', 'p90011', 'p131354', 'p131306', 'p40046_i0', 'p40047_i0',   'p40048_i0',  'p40049_i0', 'p40049_i0', 'p90027', 'p90028', 'p90029', 'p90030', 'p90031', 'p90032', 'p90033', 'p90034', 'p90035', 'p90036', 'p90037', 'p90038', 'p90039', 'p90040', 'p90041', 'p90042', 'p90043', 'p90044', 'p90045', 'p90010', 'p90011', 'p90046', 'p90047', 'p90048', 'p90049', 'p90050', 'p90051', 'p40030_i0',  'p40031_i0', 'p40032_i0', 'p40033_i0']\n",
    "#check that rename worked\n",
    "df = participant.retrieve_fields(names=field_names, engine=dxdata.connect())"
   ]
  },
  {
   "cell_type": "code",
   "execution_count": 6,
   "id": "fbb2a4e4-b991-41a0-8dd7-5a287b48cf30",
   "metadata": {
    "tags": []
   },
   "outputs": [
    {
     "name": "stderr",
     "output_type": "stream",
     "text": [
      "/cluster/spark/python/pyspark/sql/pandas/conversion.py:194: FutureWarning: Passing unit-less datetime64 dtype to .astype is deprecated and will raise in a future version. Pass 'datetime64[ns]' instead\n",
      "  series = series.astype(t, copy=False)\n",
      "/cluster/spark/python/pyspark/sql/pandas/conversion.py:194: FutureWarning: Passing unit-less datetime64 dtype to .astype is deprecated and will raise in a future version. Pass 'datetime64[ns]' instead\n",
      "  series = series.astype(t, copy=False)\n"
     ]
    }
   ],
   "source": [
    "#create pandas dataframe\n",
    "pdf = df.toPandas()"
   ]
  },
  {
   "cell_type": "code",
   "execution_count": 7,
   "id": "32b6dc04-2731-4280-8068-103f5d2bb5e6",
   "metadata": {
    "tags": []
   },
   "outputs": [
    {
     "data": {
      "text/html": [
       "<div>\n",
       "<style scoped>\n",
       "    .dataframe tbody tr th:only-of-type {\n",
       "        vertical-align: middle;\n",
       "    }\n",
       "\n",
       "    .dataframe tbody tr th {\n",
       "        vertical-align: top;\n",
       "    }\n",
       "\n",
       "    .dataframe thead th {\n",
       "        text-align: right;\n",
       "    }\n",
       "</style>\n",
       "<table border=\"1\" class=\"dataframe\">\n",
       "  <thead>\n",
       "    <tr style=\"text-align: right;\">\n",
       "      <th></th>\n",
       "      <th>pID</th>\n",
       "      <th>male</th>\n",
       "      <th>p134_i0</th>\n",
       "      <th>f02_date</th>\n",
       "      <th>f00_date</th>\n",
       "      <th>f03_date</th>\n",
       "      <th>p20510</th>\n",
       "      <th>online_dep_date</th>\n",
       "      <th>p40005_i0</th>\n",
       "      <th>f34_date</th>\n",
       "      <th>...</th>\n",
       "      <th>pa_time_19</th>\n",
       "      <th>pa_time_20</th>\n",
       "      <th>pa_time_21</th>\n",
       "      <th>pa_time_22</th>\n",
       "      <th>pa_time_23</th>\n",
       "      <th>pa_time_24</th>\n",
       "      <th>pa_sleep_day_hour</th>\n",
       "      <th>pa_sed_day_hour</th>\n",
       "      <th>pa_light_day_hour</th>\n",
       "      <th>pa_mv_day_hour</th>\n",
       "    </tr>\n",
       "  </thead>\n",
       "  <tbody>\n",
       "    <tr>\n",
       "      <th>0</th>\n",
       "      <td>1469512</td>\n",
       "      <td>0</td>\n",
       "      <td>0.0</td>\n",
       "      <td>None</td>\n",
       "      <td>None</td>\n",
       "      <td>None</td>\n",
       "      <td>NaN</td>\n",
       "      <td>None</td>\n",
       "      <td>None</td>\n",
       "      <td>None</td>\n",
       "      <td>...</td>\n",
       "      <td>NaN</td>\n",
       "      <td>NaN</td>\n",
       "      <td>NaN</td>\n",
       "      <td>NaN</td>\n",
       "      <td>NaN</td>\n",
       "      <td>NaN</td>\n",
       "      <td>None</td>\n",
       "      <td>None</td>\n",
       "      <td>None</td>\n",
       "      <td>None</td>\n",
       "    </tr>\n",
       "    <tr>\n",
       "      <th>1</th>\n",
       "      <td>1047672</td>\n",
       "      <td>1</td>\n",
       "      <td>0.0</td>\n",
       "      <td>None</td>\n",
       "      <td>None</td>\n",
       "      <td>None</td>\n",
       "      <td>NaN</td>\n",
       "      <td>None</td>\n",
       "      <td>None</td>\n",
       "      <td>None</td>\n",
       "      <td>...</td>\n",
       "      <td>NaN</td>\n",
       "      <td>NaN</td>\n",
       "      <td>NaN</td>\n",
       "      <td>NaN</td>\n",
       "      <td>NaN</td>\n",
       "      <td>NaN</td>\n",
       "      <td>None</td>\n",
       "      <td>None</td>\n",
       "      <td>None</td>\n",
       "      <td>None</td>\n",
       "    </tr>\n",
       "    <tr>\n",
       "      <th>2</th>\n",
       "      <td>3039452</td>\n",
       "      <td>1</td>\n",
       "      <td>0.0</td>\n",
       "      <td>None</td>\n",
       "      <td>None</td>\n",
       "      <td>None</td>\n",
       "      <td>1.0</td>\n",
       "      <td>2016-09-23</td>\n",
       "      <td>2017-01-28</td>\n",
       "      <td>None</td>\n",
       "      <td>...</td>\n",
       "      <td>22.03</td>\n",
       "      <td>16.86</td>\n",
       "      <td>11.99</td>\n",
       "      <td>7.07</td>\n",
       "      <td>18.02</td>\n",
       "      <td>10.81</td>\n",
       "      <td>0.84,0.98,1,0.96,1,1,0.98,0.99,0.77,0.36,0.15,...</td>\n",
       "      <td>0.13,0.02,0,0.04,0,0,0,0,0.14,0.48,0.49,0.6,0....</td>\n",
       "      <td>0.03,0,0,0,0,0,0.02,0.01,0.08,0.16,0.34,0.31,0...</td>\n",
       "      <td>0,0,0,0,0,0,0,0,0,0,0.02,0.06,0.06,0,0.08,0.21...</td>\n",
       "    </tr>\n",
       "    <tr>\n",
       "      <th>3</th>\n",
       "      <td>3722260</td>\n",
       "      <td>0</td>\n",
       "      <td>0.0</td>\n",
       "      <td>None</td>\n",
       "      <td>None</td>\n",
       "      <td>None</td>\n",
       "      <td>NaN</td>\n",
       "      <td>None</td>\n",
       "      <td>None</td>\n",
       "      <td>None</td>\n",
       "      <td>...</td>\n",
       "      <td>NaN</td>\n",
       "      <td>NaN</td>\n",
       "      <td>NaN</td>\n",
       "      <td>NaN</td>\n",
       "      <td>NaN</td>\n",
       "      <td>NaN</td>\n",
       "      <td>None</td>\n",
       "      <td>None</td>\n",
       "      <td>None</td>\n",
       "      <td>None</td>\n",
       "    </tr>\n",
       "    <tr>\n",
       "      <th>4</th>\n",
       "      <td>5178861</td>\n",
       "      <td>0</td>\n",
       "      <td>0.0</td>\n",
       "      <td>None</td>\n",
       "      <td>None</td>\n",
       "      <td>None</td>\n",
       "      <td>1.0</td>\n",
       "      <td>2016-09-07</td>\n",
       "      <td>None</td>\n",
       "      <td>None</td>\n",
       "      <td>...</td>\n",
       "      <td>17.32</td>\n",
       "      <td>10.67</td>\n",
       "      <td>16.60</td>\n",
       "      <td>8.41</td>\n",
       "      <td>8.47</td>\n",
       "      <td>21.68</td>\n",
       "      <td>0.6,0.92,1,1,1,1,1,1,0.52,0.02,0,0.14,0.03,0.0...</td>\n",
       "      <td>0.35,0.08,0,0,0,0,0,0,0.47,0.63,0.68,0.39,0.71...</td>\n",
       "      <td>0.06,0,0,0,0,0,0,0,0.01,0.35,0.29,0.25,0.19,0....</td>\n",
       "      <td>0,0,0,0,0,0,0,0,0,0,0.03,0.22,0.08,0.02,0.02,0...</td>\n",
       "    </tr>\n",
       "  </tbody>\n",
       "</table>\n",
       "<p>5 rows × 80 columns</p>\n",
       "</div>"
      ],
      "text/plain": [
       "       pID  male  p134_i0 f02_date f00_date f03_date  p20510 online_dep_date  \\\n",
       "0  1469512     0      0.0     None     None     None     NaN            None   \n",
       "1  1047672     1      0.0     None     None     None     NaN            None   \n",
       "2  3039452     1      0.0     None     None     None     1.0      2016-09-23   \n",
       "3  3722260     0      0.0     None     None     None     NaN            None   \n",
       "4  5178861     0      0.0     None     None     None     1.0      2016-09-07   \n",
       "\n",
       "    p40005_i0 f34_date  ... pa_time_19 pa_time_20  pa_time_21  pa_time_22  \\\n",
       "0        None     None  ...        NaN        NaN         NaN         NaN   \n",
       "1        None     None  ...        NaN        NaN         NaN         NaN   \n",
       "2  2017-01-28     None  ...      22.03      16.86       11.99        7.07   \n",
       "3        None     None  ...        NaN        NaN         NaN         NaN   \n",
       "4        None     None  ...      17.32      10.67       16.60        8.41   \n",
       "\n",
       "  pa_time_23 pa_time_24                                  pa_sleep_day_hour  \\\n",
       "0        NaN        NaN                                               None   \n",
       "1        NaN        NaN                                               None   \n",
       "2      18.02      10.81  0.84,0.98,1,0.96,1,1,0.98,0.99,0.77,0.36,0.15,...   \n",
       "3        NaN        NaN                                               None   \n",
       "4       8.47      21.68  0.6,0.92,1,1,1,1,1,1,0.52,0.02,0,0.14,0.03,0.0...   \n",
       "\n",
       "                                     pa_sed_day_hour  \\\n",
       "0                                               None   \n",
       "1                                               None   \n",
       "2  0.13,0.02,0,0.04,0,0,0,0,0.14,0.48,0.49,0.6,0....   \n",
       "3                                               None   \n",
       "4  0.35,0.08,0,0,0,0,0,0,0.47,0.63,0.68,0.39,0.71...   \n",
       "\n",
       "                                   pa_light_day_hour  \\\n",
       "0                                               None   \n",
       "1                                               None   \n",
       "2  0.03,0,0,0,0,0,0.02,0.01,0.08,0.16,0.34,0.31,0...   \n",
       "3                                               None   \n",
       "4  0.06,0,0,0,0,0,0,0,0.01,0.35,0.29,0.25,0.19,0....   \n",
       "\n",
       "                                      pa_mv_day_hour  \n",
       "0                                               None  \n",
       "1                                               None  \n",
       "2  0,0,0,0,0,0,0,0,0,0,0.02,0.06,0.06,0,0.08,0.21...  \n",
       "3                                               None  \n",
       "4  0,0,0,0,0,0,0,0,0,0,0.03,0.22,0.08,0.02,0.02,0...  \n",
       "\n",
       "[5 rows x 80 columns]"
      ]
     },
     "execution_count": 7,
     "metadata": {},
     "output_type": "execute_result"
    }
   ],
   "source": [
    "#rename columns\n",
    "pdf_rename = pdf.rename(columns={'eid': 'pID', 'p130840':'f02_date', 'p130836':'f00_date', 'p130842': 'f03_date' ,   'p20400':'online_dep_date', 'p90010': 'acc_start_date',  'p90011': 'acc_end_date', 'p31': 'male', 'p21000_i0': 'ethnicity',  'p1558_i0': 'alc_freq', 'p1558_i1': 'alc_freq_1', 'p20002_i0': 'sr_illness', 'p20002_i1': 'sr_illness_1', 'p21003_i0': 'age_i0', 'p21003_i1': 'age_i1',  'p131298': 'i21_date', 'p131298': 'i21_date', 'p131286': 'i10_date', 'p131294': 'i15_date', 'p130814': 'e78_date', 'p130706': 'e10_date', 'p130708': 'e11_date', 'p53_i0': 'date_i0', 'p53_i1': 'date_i1', 'p130892': 'f31_date',  'p130894': 'f32_date', 'p130896': 'f33_date',  'p130838': 'f01_date', 'p131056': 'g45_date', 'p131058': 'g46_date', 'p131180': 'h34_date', 'p131360': 'i60_date', 'p131362': 'i61_date', 'p131364': 'i62_date', 'p131366': 'i63_date', 'p131368': 'i64_date', 'p131370': 'i65_date', 'p131372': 'i66_date', 'p131374': 'i67_date', 'p131376': 'i68_date', 'p131378': 'i69_date',  'p90012': 'aac_overall_avg', 'p90185': 'acc_exceed8g_aftercal', 'p90187': 'acc_total_data_read', 'p90017': 'acc_calib_own', 'p90016': 'acc_calib_all', 'p90051': 'acc_weartime', 'p90010': 'acc_start_date', 'p90011': 'acc_end_date', 'p6138_i0': 'education', 'p6138_i1': 'education_1',  'p131354': 'i50_date', 'p131306': 'i25_date', 'p40046_i0': 'pa_sleep_over_avg', 'p40047_i0': 'pa_seden_over_avg', 'p40048_i0': 'pa_light_over_avg',  'p40049_i0': 'pa_mv_over_avg', 'p40049_i0': 'pa_mv_over_avg', 'p90010': 'acc_start_date', 'p90011': 'acc_end_date', 'p90027':'pa_time_1', 'p90028':'pa_time_2', 'p90029':'pa_time_3', 'p90030':'pa_time_4', 'p90031':'pa_time_5', 'p90032':'pa_time_6', 'p90033':'pa_time_7', 'p90034':'pa_time_8', 'p90035':'pa_time_9', 'p90036':'pa_time_10', 'p90037':'pa_time_11', 'p90038':'pa_time_12', 'p90039':'pa_time_13', 'p90040':'pa_time_14', 'p90041':'pa_time_15', 'p90042':'pa_time_16', 'p90043':'pa_time_17', 'p90044':'pa_time_18', 'p90045':'pa_time_19', 'p90046':'pa_time_20', 'p90047':'pa_time_21', 'p90048':'pa_time_22', 'p90049':'pa_time_23', 'p90050':'pa_time_24',  'p40030_i0': 'pa_sleep_day_hour', 'p40031_i0': 'pa_sed_day_hour', 'p40032_i0': 'pa_light_day_hour', 'p40033_i0': 'pa_mv_day_hour', 'p6146_i0': 'gov_assistance', 'p6146_i1': 'gov_assistance_1', 'p22040_i0': 'met_minweek', 'p22037_i0':'met_lpa_0', 'p22037_i1':'met_lpa_1', 'p22038_i0':'met_mpa_0',  'p22038_i1':'met_mpa_1',  'p22039_i0':'met_vpa_0',  'p22039_i1':'met_vpa_1', 'p30710_i0':'crp', 'p30710_i2':'crp_1', 'p130898':'f34_date', 'p130900':'f38_date', 'p130902':'f39_date'})\n",
    "\n",
    "#check that rename worked\n",
    "pdf_rename.head(5)"
   ]
  },
  {
   "cell_type": "code",
   "execution_count": 8,
   "id": "fa696e69-4427-4675-bf01-48333511740e",
   "metadata": {
    "tags": []
   },
   "outputs": [
    {
     "data": {
      "text/plain": [
       "502151"
      ]
     },
     "execution_count": 8,
     "metadata": {},
     "output_type": "execute_result"
    }
   ],
   "source": [
    "len(pdf_rename)"
   ]
  },
  {
   "cell_type": "code",
   "execution_count": 9,
   "id": "fb11eabe-6267-42c5-9de9-ea078fd2c7f6",
   "metadata": {
    "tags": []
   },
   "outputs": [
    {
     "data": {
      "text/plain": [
       "157269"
      ]
     },
     "execution_count": 9,
     "metadata": {},
     "output_type": "execute_result"
    }
   ],
   "source": [
    "pdf_rename =  pdf_rename.dropna(subset=['online_dep_date'])\n",
    "len(pdf_rename)"
   ]
  },
  {
   "cell_type": "code",
   "execution_count": 10,
   "id": "57d2c15f-4444-4f3f-901e-00b5edf5a62a",
   "metadata": {
    "tags": []
   },
   "outputs": [
    {
     "data": {
      "text/plain": [
       "156697"
      ]
     },
     "execution_count": 10,
     "metadata": {},
     "output_type": "execute_result"
    }
   ],
   "source": [
    "#drop phq2 scores where response was \"-3/prefer not to answer\"\n",
    "pdf_rename = pdf_rename.drop(pdf_rename.loc[pdf_rename['p20510'] < 0].index)\n",
    "len(pdf_rename)"
   ]
  },
  {
   "cell_type": "code",
   "execution_count": 11,
   "id": "2c22b40f-d9f4-4c4c-a25a-62d57b43ff78",
   "metadata": {
    "tags": []
   },
   "outputs": [
    {
     "data": {
      "text/plain": [
       "72652"
      ]
     },
     "execution_count": 11,
     "metadata": {},
     "output_type": "execute_result"
    }
   ],
   "source": [
    "pdf_rename =  pdf_rename.dropna(subset=['acc_start_date'])\n",
    "len(pdf_rename)"
   ]
  },
  {
   "cell_type": "code",
   "execution_count": 12,
   "id": "92bc654d-9522-46aa-94ed-5d00625d5cc9",
   "metadata": {
    "tags": []
   },
   "outputs": [],
   "source": [
    "pdf_rename['acc_end_date'] = pd.to_datetime(pdf_rename['acc_end_date'])\n",
    "pdf_rename['online_dep_date'] = pd.to_datetime(pdf_rename['online_dep_date'])\n",
    "pdf_rename['date_i0'] = pd.to_datetime(pdf_rename['date_i0'])\n",
    "pdf_rename['f01_date'] = pd.to_datetime(pdf_rename['f01_date'])\n",
    "pdf_rename['g45_date'] = pd.to_datetime(pdf_rename['g45_date'])\n",
    "pdf_rename['g46_date'] = pd.to_datetime(pdf_rename['g46_date'])\n",
    "pdf_rename['i60_date'] = pd.to_datetime(pdf_rename['i60_date'])\n",
    "pdf_rename['i61_date'] = pd.to_datetime(pdf_rename['i61_date'])\n",
    "pdf_rename['i62_date'] = pd.to_datetime(pdf_rename['i62_date'])\n",
    "pdf_rename['i63_date'] = pd.to_datetime(pdf_rename['i63_date'])\n",
    "pdf_rename['i64_date'] = pd.to_datetime(pdf_rename['i64_date'])\n",
    "pdf_rename['i65_date'] = pd.to_datetime(pdf_rename['i65_date'])\n",
    "pdf_rename['i66_date'] = pd.to_datetime(pdf_rename['i66_date'])\n",
    "pdf_rename['i67_date'] = pd.to_datetime(pdf_rename['i67_date'])\n",
    "pdf_rename['i68_date'] = pd.to_datetime(pdf_rename['i68_date'])\n",
    "pdf_rename['i69_date'] = pd.to_datetime(pdf_rename['i69_date'])\n",
    "pdf_rename['h34_date'] = pd.to_datetime(pdf_rename['h34_date'])\n",
    "pdf_rename['f32_date'] = pd.to_datetime(pdf_rename['f32_date'])\n",
    "pdf_rename['f33_date'] = pd.to_datetime(pdf_rename['f33_date'])\n",
    "pdf_rename['f34_date'] = pd.to_datetime(pdf_rename['f34_date'])\n",
    "pdf_rename['f38_date'] = pd.to_datetime(pdf_rename['f38_date'])\n",
    "pdf_rename['f39_date'] = pd.to_datetime(pdf_rename['f39_date'])\n",
    "pdf_rename['f31_date'] = pd.to_datetime(pdf_rename['f31_date']) \n",
    "pdf_rename['f00_date'] = pd.to_datetime(pdf_rename['f00_date'])\n",
    "pdf_rename['f02_date'] = pd.to_datetime(pdf_rename['f02_date'])\n",
    "pdf_rename['f03_date'] = pd.to_datetime(pdf_rename['f03_date'])"
   ]
  },
  {
   "cell_type": "code",
   "execution_count": 13,
   "id": "87fc95ce-37f6-4dbe-80cc-876d895d40f8",
   "metadata": {
    "tags": []
   },
   "outputs": [],
   "source": [
    "pdf_rename['f39_time'] = (pdf_rename['acc_start_date'] - pdf_rename['f39_date']).dt.days\n",
    "pdf_rename['f31_time'] = (pdf_rename['acc_start_date'] - pdf_rename['f31_date']).dt.days\n",
    "pdf_rename['f32_time'] = (pdf_rename['acc_start_date'] - pdf_rename['f32_date']).dt.days\n",
    "pdf_rename['f33_time'] = (pdf_rename['acc_start_date'] - pdf_rename['f33_date']).dt.days\n",
    "pdf_rename['f34_time'] = (pdf_rename['acc_start_date'] - pdf_rename['f34_date']).dt.days\n",
    "pdf_rename['f38_time'] = (pdf_rename['acc_start_date'] - pdf_rename['f38_date']).dt.days"
   ]
  },
  {
   "cell_type": "code",
   "execution_count": 14,
   "id": "5cb05c0d-5735-43ed-9c90-86429d1a395e",
   "metadata": {
    "tags": []
   },
   "outputs": [
    {
     "name": "stdout",
     "output_type": "stream",
     "text": [
      "Number of px with depression diagnosis (F31, F32, F33): 6549\n"
     ]
    }
   ],
   "source": [
    "# check for dep diag; if yes, return 1\n",
    "def check_for_dep_diag(row):\n",
    "    if row['f34_time'] > 0 or row['f32_time'] > 0 or row['f33_time'] > 0  or row['f39_time'] > 0 or row['f38_time'] > 0:\n",
    "        return 1\n",
    "    else:\n",
    "        return 0\n",
    "\n",
    "pdf_rename['dep_diag_yes'] = pdf_rename.apply(check_for_dep_diag, axis=1)\n",
    "check_dep_diag = pdf_rename['dep_diag_yes'].sum()\n",
    "print(\"Number of px with depression diagnosis (F31, F32, F33):\", check_dep_diag)"
   ]
  },
  {
   "cell_type": "code",
   "execution_count": 15,
   "id": "dfcd3dcf-46b8-427c-aa76-4cef7d9bfb66",
   "metadata": {
    "tags": []
   },
   "outputs": [],
   "source": [
    "#drop cases with a prior vascular dementia (F01)\n",
    "pdf_rename['f01_time'] = (pdf_rename['acc_start_date'] - pdf_rename['f01_date']).dt.days\n",
    "pdf_rename = pdf_rename.loc[(pdf_rename['f01_time'] < 0) | (pdf_rename['f01_time'].isna())]\n",
    "#drop cases with a prior any dementia \n",
    "pdf_rename['f02_time'] = (pdf_rename['acc_start_date'] - pdf_rename['f02_date']).dt.days\n",
    "pdf_rename = pdf_rename.loc[(pdf_rename['f02_time'] < 0) | (pdf_rename['f02_time'].isna())]\n",
    "pdf_rename['f00_time'] = (pdf_rename['acc_start_date'] - pdf_rename['f00_date']).dt.days\n",
    "pdf_rename = pdf_rename.loc[(pdf_rename['f00_time'] < 0) | (pdf_rename['f00_time'].isna())]\n",
    "pdf_rename['f03_time'] = (pdf_rename['acc_start_date'] - pdf_rename['f03_date']).dt.days\n",
    "pdf_rename = pdf_rename.loc[(pdf_rename['f03_time'] < 0) | (pdf_rename['f03_time'].isna())]"
   ]
  },
  {
   "cell_type": "code",
   "execution_count": 16,
   "id": "5851ff9e-a87e-4a63-853d-3808533508b1",
   "metadata": {
    "tags": []
   },
   "outputs": [
    {
     "data": {
      "text/plain": [
       "72629"
      ]
     },
     "execution_count": 16,
     "metadata": {},
     "output_type": "execute_result"
    }
   ],
   "source": [
    "len(pdf_rename)"
   ]
  },
  {
   "cell_type": "code",
   "execution_count": 17,
   "id": "4e2c6e97-a4c6-4bf8-a7b3-86ab15cfc7c5",
   "metadata": {
    "tags": []
   },
   "outputs": [],
   "source": [
    "incidentcevd_pdf = pdf_rename"
   ]
  },
  {
   "cell_type": "code",
   "execution_count": 18,
   "id": "337e979e-f4bb-4f50-8bbc-9f9c5006d0ce",
   "metadata": {
    "tags": []
   },
   "outputs": [
    {
     "name": "stdout",
     "output_type": "stream",
     "text": [
      "after dropping px with CeVD diagnoses in medical records prior to baseline 72629\n"
     ]
    }
   ],
   "source": [
    "#drop prior CevD px who have recorded diagnosis in medical records\n",
    "#drop cases with a prior vascular dementia (F01)\n",
    "pdf_rename['f01_time'] = (pdf_rename['acc_start_date'] - pdf_rename['f01_date']).dt.days\n",
    "#pdf_rename = pdf_rename.loc[(pdf_rename['f01_time'] < 0) | (pdf_rename['f01_time'].isna())]\n",
    "\n",
    "#drop cases with a prior TIA (G45)\n",
    "pdf_rename['g45_time'] = (pdf_rename['acc_start_date'] - pdf_rename['g45_date']).dt.days\n",
    "#pdf_rename = pdf_rename.loc[(pdf_rename['g45_time'] < 0) | (pdf_rename['g45_time'].isna())]\n",
    "\n",
    "#drop cases with a prior vascular brain syndromes of CeVD (G46)\n",
    "pdf_rename['g46_time'] = (pdf_rename['acc_start_date'] - pdf_rename['g46_date']).dt.days\n",
    "#pdf_rename = pdf_rename.loc[(pdf_rename['g46_time'] < 0) | (pdf_rename['g46_time'].isna())]\n",
    "\n",
    "#drop cases with a prior RAO (H34)\n",
    "pdf_rename['h34_time'] = (pdf_rename['acc_start_date'] - pdf_rename['h34_date']).dt.days\n",
    "#pdf_rename = pdf_rename.loc[(pdf_rename['h34_time'] < 0) | (pdf_rename['h34_time'].isna())]\n",
    "\n",
    "#drop cases with a prior Nontraumatic subarachnoid hemorrhage (I60)\n",
    "pdf_rename['i60_time'] = (pdf_rename['acc_start_date'] - pdf_rename['i60_date']).dt.days\n",
    "#pdf_rename = pdf_rename.loc[(pdf_rename['i60_time'] < 0) | (pdf_rename['i60_time'].isna())]\n",
    "\n",
    "#drop cases with a prior Nontraumatic intracerebral hemorrhage (I61)\n",
    "pdf_rename['i61_time'] = (pdf_rename['acc_start_date'] - pdf_rename['i61_date']).dt.days\n",
    "#pdf_rename = pdf_rename.loc[(pdf_rename['i61_time'] < 0) | (pdf_rename['i61_time'].isna())]\n",
    "\n",
    "#drop cases with a prior Other and unspecified nontraumatic intracranial hemorrhage (I62)\n",
    "pdf_rename['i62_time'] = (pdf_rename['acc_start_date'] - pdf_rename['i62_date']).dt.days\n",
    "#pdf_rename = pdf_rename.loc[(pdf_rename['i62_time'] < 0) | (pdf_rename['i62_time'].isna())]\n",
    "\n",
    "#drop cases with a prior intracerebral infarction (I63)\n",
    "pdf_rename['i63_time'] = (pdf_rename['acc_start_date'] - pdf_rename['i63_date']).dt.days\n",
    "#pdf_rename = pdf_rename.loc[(pdf_rename['i63_time'] < 0) | (pdf_rename['i63_time'].isna())]\n",
    "\n",
    "#drop cases with a prior unspecified stroke (I64)\n",
    "pdf_rename['i64_time'] = (pdf_rename['acc_start_date'] - pdf_rename['i64_date']).dt.days\n",
    "#pdf_rename = pdf_rename.loc[(pdf_rename['i64_time'] < 0) | (pdf_rename['i64_time'].isna())]\n",
    "\n",
    "#drop cases with a prior occlusion/stenosis precerebral arteries (I65)\n",
    "pdf_rename['i65_time'] = (pdf_rename['acc_start_date'] - pdf_rename['i65_date']).dt.days\n",
    "#pdf_rename = pdf_rename.loc[(pdf_rename['i65_time'] < 0) | (pdf_rename['i65_time'].isna())]\n",
    "\n",
    "#drop cases with a prior occlusion/stenosis cerebral arteries (I66)\n",
    "pdf_rename['i66_time'] = (pdf_rename['acc_start_date'] - pdf_rename['i66_date']).dt.days\n",
    "#pdf_rename = pdf_rename.loc[(pdf_rename['i66_time'] < 0) | (pdf_rename['i66_time'].isna())]\n",
    "\n",
    "#drop cases with a prior Other cerebrovascular diseases (I67)\n",
    "pdf_rename['i67_time'] = (pdf_rename['acc_start_date'] - pdf_rename['i67_date']).dt.days\n",
    "#pdf_rename = pdf_rename.loc[(pdf_rename['i67_time'] < 0) | (pdf_rename['i67_time'].isna())]\n",
    "\n",
    "#drop cases with a prior Cerebrovascular disorders in diseases classified elsewhere (I68)\n",
    "pdf_rename['i68_time'] = (pdf_rename['acc_start_date'] - pdf_rename['i68_date']).dt.days\n",
    "#pdf_rename = pdf_rename.loc[(pdf_rename['i68_time'] < 0) | (pdf_rename['i68_time'].isna())]\n",
    "\n",
    "#drop cases with a prior Sequelae of cerebrovascular disease (I69)\n",
    "pdf_rename['i69_time'] = (pdf_rename['acc_start_date'] - pdf_rename['i69_date']).dt.days\n",
    "#pdf_rename = pdf_rename.loc[(pdf_rename['i69_time'] < 0) | (pdf_rename['i69_time'].isna())]\n",
    "\n",
    "print('after dropping px with CeVD diagnoses in medical records prior to baseline', len(pdf_rename))"
   ]
  },
  {
   "cell_type": "code",
   "execution_count": 19,
   "id": "4e9326d6-7bd1-48cd-9704-926cf4afcc3c",
   "metadata": {
    "tags": []
   },
   "outputs": [
    {
     "data": {
      "text/plain": [
       "325"
      ]
     },
     "execution_count": 19,
     "metadata": {},
     "output_type": "execute_result"
    }
   ],
   "source": [
    "pdf_rename['first_dep_date'] = pdf_rename[['f34_date', 'f32_date', 'f33_date', 'f39_date', 'f38_date']].max(axis=1)\n",
    "pdf_rename['first_stroke_date'] = pdf_rename[['h34_date', 'g45_date', 'i60_date', 'i61_date', 'i62_date', 'i63_date', 'i64_date']].max(axis=1)\n",
    "\n",
    "# Check if the date is between start_date and end_date\n",
    "pdf_rename['prestroke_dep'] = pdf_rename.apply(lambda x: 1 if  x['first_dep_date'] <= x['first_stroke_date'] else 0, axis=1)\n",
    "pdf_rename['prestroke_dep'].sum()"
   ]
  },
  {
   "cell_type": "code",
   "execution_count": 20,
   "id": "dfca8dcf-999f-4045-aac8-5548b0027ab2",
   "metadata": {
    "tags": []
   },
   "outputs": [],
   "source": [
    "#convert ethnicity data to be workable\n",
    "pdf_rename['ethnicity'].dtype\n",
    "pdf_rename['ethnicity'] = pd.to_numeric(pdf_rename['ethnicity'], errors='coerce')\n",
    "pdf_rename['ethnicity'].dtype\n",
    "for index, row in pdf_rename.iterrows():\n",
    "    if row['ethnicity'] == 1.0 or row['ethnicity'] == 1001.0 or row['ethnicity'] == 1002.0 or row['ethnicity'] == 1003.0:\n",
    "        pdf_rename.at[index, 'white_yes'] = 1\n",
    "\n",
    "#fill empty rows in white_yes with 0; some 0 variables did not convert correctly and need manual imput\n",
    "pdf_rename['white_yes'].fillna(0, inplace=True)"
   ]
  },
  {
   "cell_type": "code",
   "execution_count": 21,
   "id": "3efe3004-c986-4015-b4a0-0e69b5efa8f6",
   "metadata": {
    "tags": []
   },
   "outputs": [
    {
     "name": "stdout",
     "output_type": "stream",
     "text": [
      "after dropping px with poor calibration (outer) 72622\n",
      "after dropping px with poor calibration (self) 70793\n",
      "after dropping px with more than 1% clips 70793\n",
      "after dropping px with avg acceleration > 100 mg 70785\n"
     ]
    }
   ],
   "source": [
    "pdf_rename['diff_acc_date'] = pdf_rename['acc_start_date']-pdf_rename['date_i0'] #new age and variable for days between acc and online follow up\n",
    "pdf_rename['diff_acc_date'].head(5)\n",
    "pdf_rename['diff_acc_date'] = pdf_rename['diff_acc_date'].astype(str)\n",
    "# Extract numeric part (number of days)\n",
    "pdf_rename['diff_acc_date'] = pdf_rename['diff_acc_date'].str.split().str[0].astype(int)\n",
    "pdf_rename['diff_acc_date'] = pdf_rename['diff_acc_date']/365\n",
    "pdf_rename['diff_acc_date'].head(5)\n",
    "pdf_rename['acc_age'] = pdf_rename['diff_acc_date']+pdf_rename['age_i0']\n",
    "pdf_rename['acc_age'].head(5)\n",
    "\n",
    "pdf_rename = pdf_rename[pdf_rename['acc_calib_all'] == 1]\n",
    "print('after dropping px with poor calibration (outer)', len(pdf_rename))\n",
    "pdf_rename = pdf_rename[pdf_rename['acc_calib_own'] == 1]\n",
    "print('after dropping px with poor calibration (self)', len(pdf_rename))\n",
    "pdf_rename['clip_perc'] = pdf_rename['acc_exceed8g_aftercal']/pdf_rename['acc_total_data_read']\n",
    "pdf_rename['clip_perc'].head(10)\n",
    "pdf_rename = pdf_rename[pdf_rename['clip_perc'] <= 0.01]\n",
    "print('after dropping px with more than 1% clips', len(pdf_rename))\n",
    "pdf_rename = pdf_rename[pdf_rename['aac_overall_avg'] <= 100]\n",
    "print('after dropping px with avg acceleration > 100 mg', len(pdf_rename))"
   ]
  },
  {
   "cell_type": "code",
   "execution_count": 22,
   "id": "604a5cbf-8b0b-418f-9423-ea75eeeef36e",
   "metadata": {
    "tags": []
   },
   "outputs": [],
   "source": [
    "#calculate sum values of time spent in exercise for the 4 divided times per day (0:00-5:59; 6:00-11:59,etc)\n",
    "for index, row in pdf_rename.iterrows():\n",
    "    pdf_rename.at[index, 'pa_time_a'] = row['pa_time_1'] + row['pa_time_2'] + row['pa_time_3'] + row['pa_time_4'] + row['pa_time_5'] + row['pa_time_6']\n",
    "\n",
    "for index, row in pdf_rename.iterrows():\n",
    "    pdf_rename.at[index, 'pa_time_b'] = row['pa_time_7'] + row['pa_time_8'] + row['pa_time_9'] + row['pa_time_10'] + row['pa_time_11'] + row['pa_time_12']\n",
    "\n",
    "for index, row in pdf_rename.iterrows():\n",
    "    pdf_rename.at[index, 'pa_time_c'] = row['pa_time_13'] + row['pa_time_14'] + row['pa_time_15'] + row['pa_time_16'] + row['pa_time_17'] + row['pa_time_18']\n",
    "\n",
    "for index, row in pdf_rename.iterrows():\n",
    "    pdf_rename.at[index, 'pa_time_d'] = row['pa_time_19'] + row['pa_time_20'] + row['pa_time_21'] + row['pa_time_22'] + row['pa_time_23'] + row['pa_time_24']"
   ]
  },
  {
   "cell_type": "code",
   "execution_count": 23,
   "id": "ccc2f33e-48f3-4229-9ba7-ed5129212add",
   "metadata": {
    "tags": []
   },
   "outputs": [
    {
     "data": {
      "text/plain": [
       "2     [0.84, 0.98, 1, 0.96, 1, 1, 0.98, 0.99, 0.77, ...\n",
       "4     [0.6, 0.92, 1, 1, 1, 1, 1, 1, 0.52, 0.02, 0, 0...\n",
       "13    [1, 1, 1, 1, 0.99, 1, 0.85, 0.57, 0.06, 0.03, ...\n",
       "15    [1, 1, 0.98, 1, 0.99, 1, 1, 0.98, 0.29, 0.06, ...\n",
       "21    [0.86, 0.86, 0.86, 0.86, 0.86, 0.84, 0.81, 0.4...\n",
       "Name: pa_sleep_day_hour_array, dtype: object"
      ]
     },
     "execution_count": 23,
     "metadata": {},
     "output_type": "execute_result"
    }
   ],
   "source": [
    "#check pa types are in object non-array format\n",
    "pdf_rename['pa_sleep_day_hour'].head(5)\n",
    "#convert pa types to array for iterating\n",
    "def convert_patypes_array(x):\n",
    "    if pd.notna(x):\n",
    "        return np.array(x.split(','))\n",
    "    else:\n",
    "        return np.array([])\n",
    "\n",
    "pdf_rename['pa_sleep_day_hour_array'] = pdf_rename['pa_sleep_day_hour'].apply(convert_patypes_array)\n",
    "pdf_rename['pa_sed_day_hour_array'] = pdf_rename['pa_sed_day_hour'].apply(convert_patypes_array)\n",
    "pdf_rename['pa_light_day_hour_array'] = pdf_rename['pa_light_day_hour'].apply(convert_patypes_array)\n",
    "pdf_rename['pa_mv_day_hour_array'] = pdf_rename['pa_mv_day_hour'].apply(convert_patypes_array)\n",
    "#check array conversion successful\n",
    "pdf_rename['pa_sleep_day_hour_array'].head(5)"
   ]
  },
  {
   "cell_type": "code",
   "execution_count": 24,
   "id": "5a5a7f2b-9a40-493c-98a9-4c00e04926c8",
   "metadata": {
    "tags": []
   },
   "outputs": [
    {
     "data": {
      "text/plain": [
       "2     [50.4, 58.8, 60, 57.599999999999994, 60, 60, 5...\n",
       "4     [36.0, 55.2, 60, 60, 60, 60, 60, 60, 31.200000...\n",
       "13    [60, 60, 60, 60, 59.4, 60, 51.0, 34.1999999999...\n",
       "15    [60, 60, 58.8, 60, 59.4, 60, 60, 58.8, 17.4, 3...\n",
       "21    [51.6, 51.6, 51.6, 51.6, 51.6, 50.4, 48.6, 24....\n",
       "Name: pa_sleep_day_hour_array_clean, dtype: object"
      ]
     },
     "execution_count": 24,
     "metadata": {},
     "output_type": "execute_result"
    }
   ],
   "source": [
    "#convert all values in arrays to numeric\n",
    "def array_to_numeric(arr):\n",
    "    return [pd.to_numeric(val, errors='coerce') for val in arr]\n",
    "\n",
    "pdf_rename['pa_sleep_day_hour_array'] = pdf_rename['pa_sleep_day_hour_array'].apply(array_to_numeric)\n",
    "pdf_rename['pa_sed_day_hour_array'] = pdf_rename['pa_sed_day_hour_array'].apply(array_to_numeric)\n",
    "pdf_rename['pa_light_day_hour_array'] = pdf_rename['pa_light_day_hour_array'].apply(array_to_numeric)\n",
    "pdf_rename['pa_mv_day_hour_array'] = pdf_rename['pa_mv_day_hour_array'].apply(array_to_numeric)\n",
    "#convert values in arrays from % per hour per day to total minutes per hour per day\n",
    "def array_perc_to_min(arr):\n",
    "    return [x * 60 for x in arr]\n",
    "pdf_rename['pa_sleep_day_hour_array_clean'] = pdf_rename['pa_sleep_day_hour_array'].apply(array_perc_to_min)\n",
    "pdf_rename['pa_sed_day_hour_array_clean'] = pdf_rename['pa_sed_day_hour_array'].apply(array_perc_to_min)\n",
    "pdf_rename['pa_light_day_hour_array_clean'] = pdf_rename['pa_light_day_hour_array'].apply(array_perc_to_min)\n",
    "pdf_rename['pa_mv_day_hour_array_clean'] = pdf_rename['pa_mv_day_hour_array'].apply(array_perc_to_min)\n",
    "#check conversion to min is successful\n",
    "pdf_rename['pa_sleep_day_hour_array_clean'].head(5)"
   ]
  },
  {
   "cell_type": "code",
   "execution_count": 25,
   "id": "194e9168-fe07-4bce-8e20-e627009d5846",
   "metadata": {
    "tags": []
   },
   "outputs": [
    {
     "name": "stderr",
     "output_type": "stream",
     "text": [
      "/tmp/ipykernel_130/997299406.py:10: FutureWarning: The default dtype for empty Series will be 'object' instead of 'float64' in a future version. Specify a dtype explicitly to silence this warning.\n",
      "  pdf_rename[['pa_sleep_day_1', 'pa_sleep_day_2', 'pa_sleep_day_3', 'pa_sleep_day_4']] = pdf_rename['pa_sleep_day_hour_array_clean'].apply(create_pa_timeepochs).apply(pd.Series)\n",
      "/tmp/ipykernel_130/997299406.py:11: FutureWarning: The default dtype for empty Series will be 'object' instead of 'float64' in a future version. Specify a dtype explicitly to silence this warning.\n",
      "  pdf_rename[['pa_sed_day_1', 'pa_sed_day_2', 'pa_sed_day_3', 'pa_sed_day_4']] = pdf_rename['pa_sed_day_hour_array_clean'].apply(create_pa_timeepochs).apply(pd.Series)\n",
      "/tmp/ipykernel_130/997299406.py:12: FutureWarning: The default dtype for empty Series will be 'object' instead of 'float64' in a future version. Specify a dtype explicitly to silence this warning.\n",
      "  pdf_rename[['pa_light_day_1', 'pa_light_day_2', 'pa_light_day_3', 'pa_light_day_4']] = pdf_rename['pa_light_day_hour_array_clean'].apply(create_pa_timeepochs).apply(pd.Series)\n",
      "/tmp/ipykernel_130/997299406.py:13: FutureWarning: The default dtype for empty Series will be 'object' instead of 'float64' in a future version. Specify a dtype explicitly to silence this warning.\n",
      "  pdf_rename[['pa_mv_day_1', 'pa_mv_day_2', 'pa_mv_day_3', 'pa_mv_day_4']] = pdf_rename['pa_mv_day_hour_array_clean'].apply(create_pa_timeepochs).apply(pd.Series)\n"
     ]
    },
    {
     "data": {
      "text/plain": [
       "2     0.0\n",
       "4     0.0\n",
       "13    0.0\n",
       "15    0.0\n",
       "21    7.8\n",
       "Name: pa_mv_day_1, dtype: float64"
      ]
     },
     "execution_count": 25,
     "metadata": {},
     "output_type": "execute_result"
    }
   ],
   "source": [
    "#create variables stratified by time of day (4 groups) consisting of 6 hours each\n",
    "def create_pa_timeepochs(arr):\n",
    "    sums = []\n",
    "    for i in range(0, len(arr), 6):\n",
    "        block = arr[i:i+6]\n",
    "        sum_block = sum(block)\n",
    "        sums.append(sum_block)\n",
    "    return sums\n",
    "\n",
    "pdf_rename[['pa_sleep_day_1', 'pa_sleep_day_2', 'pa_sleep_day_3', 'pa_sleep_day_4']] = pdf_rename['pa_sleep_day_hour_array_clean'].apply(create_pa_timeepochs).apply(pd.Series)\n",
    "pdf_rename[['pa_sed_day_1', 'pa_sed_day_2', 'pa_sed_day_3', 'pa_sed_day_4']] = pdf_rename['pa_sed_day_hour_array_clean'].apply(create_pa_timeepochs).apply(pd.Series)\n",
    "pdf_rename[['pa_light_day_1', 'pa_light_day_2', 'pa_light_day_3', 'pa_light_day_4']] = pdf_rename['pa_light_day_hour_array_clean'].apply(create_pa_timeepochs).apply(pd.Series)\n",
    "pdf_rename[['pa_mv_day_1', 'pa_mv_day_2', 'pa_mv_day_3', 'pa_mv_day_4']] = pdf_rename['pa_mv_day_hour_array_clean'].apply(create_pa_timeepochs).apply(pd.Series)\n",
    "#check conversion successful\n",
    "pdf_rename['pa_mv_day_1'].head(5)"
   ]
  },
  {
   "cell_type": "code",
   "execution_count": 26,
   "id": "c8db4dbf-0538-4f27-b378-79d42a4cff7c",
   "metadata": {
    "tags": []
   },
   "outputs": [
    {
     "data": {
      "text/plain": [
       "2      0.0\n",
       "4      0.0\n",
       "13     0.0\n",
       "15     0.0\n",
       "21     7.8\n",
       "23     0.0\n",
       "26     0.0\n",
       "37     0.0\n",
       "40     0.0\n",
       "46     0.0\n",
       "56     0.0\n",
       "59     0.0\n",
       "60     2.4\n",
       "62     0.0\n",
       "67     0.0\n",
       "70     0.0\n",
       "86     0.0\n",
       "99     0.0\n",
       "100    0.0\n",
       "101    0.0\n",
       "Name: pa_mv_day_1, dtype: float64"
      ]
     },
     "execution_count": 26,
     "metadata": {},
     "output_type": "execute_result"
    }
   ],
   "source": [
    "pdf_rename['pa_mv_day_1'].head(20)"
   ]
  },
  {
   "cell_type": "code",
   "execution_count": 27,
   "id": "fb1aa5dc-800c-4295-8bce-768ed665bcac",
   "metadata": {
    "tags": []
   },
   "outputs": [
    {
     "data": {
      "text/plain": [
       "2      1.0\n",
       "4      1.0\n",
       "13     1.0\n",
       "15     1.0\n",
       "21     1.0\n",
       "23     1.0\n",
       "26     1.0\n",
       "37     2.0\n",
       "40     1.0\n",
       "46     4.0\n",
       "56     2.0\n",
       "59     2.0\n",
       "60     3.0\n",
       "62     1.0\n",
       "67     1.0\n",
       "70     1.0\n",
       "86     1.0\n",
       "99     1.0\n",
       "100    1.0\n",
       "101    3.0\n",
       "Name: p20510, dtype: float64"
      ]
     },
     "execution_count": 27,
     "metadata": {},
     "output_type": "execute_result"
    }
   ],
   "source": [
    "pdf_rename['p20510'].head(20)"
   ]
  },
  {
   "cell_type": "code",
   "execution_count": 28,
   "id": "3cf26b88-4608-45ed-92db-94ed85237357",
   "metadata": {
    "tags": []
   },
   "outputs": [
    {
     "data": {
      "text/plain": [
       "2     602.7696\n",
       "4     538.5744\n",
       "13    506.9808\n",
       "15    533.2320\n",
       "Name: pa_sleep_convert, dtype: float64"
      ]
     },
     "execution_count": 28,
     "metadata": {},
     "output_type": "execute_result"
    }
   ],
   "source": [
    "#convert physical activity (pa) data to numeric\n",
    "pdf_rename['pa_sum_wear'] = pd.to_numeric(pdf_rename['acc_weartime'], errors='coerce')\n",
    "pdf_rename['pa_seden_over_avg'] = pd.to_numeric(pdf_rename['pa_seden_over_avg'], errors='coerce')\n",
    "pdf_rename['pa_sleep_over_avg'] = pd.to_numeric(pdf_rename['pa_sleep_over_avg'], errors='coerce')\n",
    "pdf_rename['pa_light_over_avg'] = pd.to_numeric(pdf_rename['pa_light_over_avg'], errors='coerce')\n",
    "pdf_rename['pa_mv_over_avg'] = pd.to_numeric(pdf_rename['pa_mv_over_avg'], errors='coerce')\n",
    "#; convert total wear value/day to minutes\n",
    "pdf_rename['pa_sum_wear_min'] = pdf_rename['pa_sum_wear']*24*60\n",
    "#convert PA type to minutes/day/week = daily minutes in PA type\n",
    "pdf_rename['pa_sed_convert'] = (pdf_rename['pa_sum_wear_min']*pdf_rename['pa_seden_over_avg'])/pdf_rename['pa_sum_wear']\n",
    "pdf_rename['pa_sleep_convert'] = (pdf_rename['pa_sum_wear_min']*pdf_rename['pa_sleep_over_avg'])/pdf_rename['pa_sum_wear']\n",
    "pdf_rename['pa_light_convert'] = (pdf_rename['pa_sum_wear_min']*pdf_rename['pa_light_over_avg'])/pdf_rename['pa_sum_wear']\n",
    "pdf_rename['pa_mv_convert'] = (pdf_rename['pa_sum_wear_min']*pdf_rename['pa_mv_over_avg'])/pdf_rename['pa_sum_wear']\n",
    "#check conversion\n",
    "pdf_rename['pa_sleep_convert'].head(4)"
   ]
  },
  {
   "cell_type": "code",
   "execution_count": 29,
   "id": "eca9e3aa-42d9-4c64-9c2b-3b3a320771c8",
   "metadata": {
    "tags": []
   },
   "outputs": [
    {
     "data": {
      "text/plain": [
       "2     10.04616\n",
       "4      8.97624\n",
       "13     8.44968\n",
       "15     8.88720\n",
       "Name: pa_sleep_convert_hr, dtype: float64"
      ]
     },
     "execution_count": 29,
     "metadata": {},
     "output_type": "execute_result"
    }
   ],
   "source": [
    "pdf_rename['pa_sleep_convert_hr'] = pdf_rename['pa_sleep_convert']/60\n",
    "pdf_rename['pa_sleep_convert_hr'].head(4)"
   ]
  },
  {
   "cell_type": "code",
   "execution_count": 30,
   "id": "60ffb199-e325-49e1-bb4b-977cc1f27b40",
   "metadata": {
    "tags": []
   },
   "outputs": [
    {
     "data": {
      "image/png": "[encoded data removed]",
      "text/plain": [
       "<Figure size 640x480 with 1 Axes>"
      ]
     },
     "metadata": {},
     "output_type": "display_data"
    }
   ],
   "source": [
    "import matplotlib.pyplot as plt\n",
    "plt.hist(pdf_rename['pa_mv_convert'], bins=50)\n",
    "plt.show()"
   ]
  },
  {
   "cell_type": "code",
   "execution_count": 31,
   "id": "025ad5b7-88ad-4665-a624-06ea7faef7d4",
   "metadata": {
    "tags": []
   },
   "outputs": [
    {
     "data": {
      "image/png": "[encoded data removed]",
      "text/plain": [
       "<Figure size 640x480 with 1 Axes>"
      ]
     },
     "metadata": {},
     "output_type": "display_data"
    }
   ],
   "source": [
    "# Apply log transformation to the data\n",
    "pdf_rename['pa_mv_convert_log'] = np.log(pdf_rename['pa_mv_convert']+1.0)\n",
    "\n",
    "# Plot the original data and the log-transformed data\n",
    "import matplotlib.pyplot as plt\n",
    "#plt.hist(data, bins=50, label='Original Data')\n",
    "plt.hist(pdf_rename['pa_mv_convert_log'], bins=50, label='Log-Transformed Data')\n",
    "plt.legend()\n",
    "plt.show()"
   ]
  },
  {
   "cell_type": "code",
   "execution_count": 32,
   "id": "437495d7-126a-479f-9ab7-ce91fec012e6",
   "metadata": {
    "tags": []
   },
   "outputs": [
    {
     "data": {
      "text/plain": [
       "2     415 days 14:00:00\n",
       "4     599 days 14:00:00\n",
       "13    481 days 14:00:00\n",
       "15    968 days 14:00:00\n",
       "21    932 days 14:00:00\n",
       "23   1134 days 14:00:00\n",
       "26    511 days 14:00:00\n",
       "37    584 days 14:00:00\n",
       "40    588 days 14:00:00\n",
       "46   1061 days 14:00:00\n",
       "Name: study_t2e, dtype: timedelta64[ns]"
      ]
     },
     "execution_count": 32,
     "metadata": {},
     "output_type": "execute_result"
    }
   ],
   "source": [
    "pdf_rename['acc_end_date'] = pd.to_datetime(pdf_rename['acc_end_date'])\n",
    "pdf_rename['study_t2e'] = pdf_rename[\"online_dep_date\"] - pdf_rename[\"acc_start_date\"] \n",
    "pdf_rename['study_t2e'].head(10)"
   ]
  },
  {
   "cell_type": "code",
   "execution_count": 33,
   "id": "82b87a69-4e0b-47ce-a4a6-c3e03158a5e5",
   "metadata": {
    "tags": []
   },
   "outputs": [
    {
     "data": {
      "text/plain": [
       "2     1.136986\n",
       "4     1.641096\n",
       "13    1.317808\n",
       "15    2.652055\n",
       "21    2.553425\n",
       "Name: study_t2e, dtype: float64"
      ]
     },
     "execution_count": 33,
     "metadata": {},
     "output_type": "execute_result"
    }
   ],
   "source": [
    "pdf_rename['study_t2e'] = pdf_rename['study_t2e'].astype(str)\n",
    "# Extract numeric part (number of days)\n",
    "pdf_rename['study_t2e'] = pdf_rename['study_t2e'].str.split().str[0].astype(int)\n",
    "pdf_rename['study_t2e'] = pdf_rename['study_t2e']/365\n",
    "pdf_rename['study_t2e'].head(5)"
   ]
  },
  {
   "cell_type": "code",
   "execution_count": 34,
   "id": "7a1e3ef4-9bff-4ffd-86fc-f1215dcb2ccc",
   "metadata": {
    "tags": []
   },
   "outputs": [],
   "source": [
    "pdf_rename[\"acc_start_date\"] = pd.to_datetime(pdf_rename[\"acc_start_date\"])\n",
    "pdf_rename[\"i21_date\"] = pd.to_datetime(pdf_rename[\"i21_date\"])\n",
    "#convert comorbidity diagnosis dates to datetime format\n",
    "pdf_rename[\"i10_date\"] = pd.to_datetime(pdf_rename[\"i10_date\"])\n",
    "pdf_rename[\"i15_date\"] = pd.to_datetime(pdf_rename[\"i15_date\"])\n",
    "pdf_rename[\"e78_date\"] = pd.to_datetime(pdf_rename[\"e78_date\"])\n",
    "pdf_rename[\"e10_date\"] = pd.to_datetime(pdf_rename[\"e10_date\"])\n",
    "pdf_rename[\"e11_date\"] = pd.to_datetime(pdf_rename[\"e11_date\"])\n",
    "pdf_rename[\"i50_date\"] = pd.to_datetime(pdf_rename[\"i50_date\"])\n",
    "pdf_rename[\"i25_date\"] = pd.to_datetime(pdf_rename[\"i25_date\"])"
   ]
  },
  {
   "cell_type": "code",
   "execution_count": 35,
   "id": "f5d813d9-d4d8-437f-9bc8-cea47da7d4af",
   "metadata": {
    "tags": []
   },
   "outputs": [],
   "source": [
    "#create hypertension category\n",
    "#prep htn cases\n",
    "pdf_rename['i10_time'] = (pdf_rename['acc_start_date'] - pdf_rename['i10_date']).dt.days\n",
    "pdf_rename['i15_time'] = (pdf_rename['acc_start_date'] - pdf_rename['i15_date']).dt.days\n",
    "\n",
    "# check for htn; if yes, return 1\n",
    "def check_htn_criteria(row):\n",
    "    if row['i10_time'] > 0 or row['i15_time'] > 0 or '1065':\n",
    "        return 1\n",
    "    else:\n",
    "        return 0\n",
    "\n",
    "pdf_rename['htn_yes'] = pdf_rename.apply(check_htn_criteria, axis=1)"
   ]
  },
  {
   "cell_type": "code",
   "execution_count": 36,
   "id": "a40f6812-951e-426a-b584-88e75f7b5429",
   "metadata": {
    "tags": []
   },
   "outputs": [],
   "source": [
    "#create heart failure category\n",
    "#prep  cases\n",
    "pdf_rename['i50_time'] = (pdf_rename['acc_start_date'] - pdf_rename['i50_date']).dt.days\n",
    "\n",
    "# check for htn; if yes, return 1\n",
    "def check_htn_criteria(row):\n",
    "    if row['i50_time'] > 0 :# or '1076' in row['sr_illness']:\n",
    "        return 1\n",
    "    else:\n",
    "        return 0\n",
    "\n",
    "pdf_rename['hf_yes'] = pdf_rename.apply(check_htn_criteria, axis=1)"
   ]
  },
  {
   "cell_type": "code",
   "execution_count": 37,
   "id": "63121cf3-57d9-48d0-bae8-5a081c88ff5a",
   "metadata": {
    "tags": []
   },
   "outputs": [],
   "source": [
    "#create cad category\n",
    "#prep  cases\n",
    "pdf_rename['i25_time'] = (pdf_rename['acc_start_date'] - pdf_rename['i25_date']).dt.days\n",
    "\n",
    "# check for htn; if yes, return 1\n",
    "def check_htn_criteria(row):\n",
    "    if row['i25_time'] > 0:\n",
    "        return 1\n",
    "    else:\n",
    "        return 0\n",
    "\n",
    "pdf_rename['cad_yes'] = pdf_rename.apply(check_htn_criteria, axis=1)"
   ]
  },
  {
   "cell_type": "code",
   "execution_count": 38,
   "id": "8f9d1148-370f-4b43-b2fc-a19dce89363f",
   "metadata": {
    "tags": []
   },
   "outputs": [],
   "source": [
    "#create cancer covariate\n",
    "pdf_rename['cancer_yes'] = pdf_rename['p134_i0'].apply(lambda x: 1 if x > 0 else 0)"
   ]
  },
  {
   "cell_type": "code",
   "execution_count": 39,
   "id": "3a2c42da-451d-4b3f-be87-b1f86a27dcbc",
   "metadata": {
    "tags": []
   },
   "outputs": [],
   "source": [
    "#create cancer category\n",
    "#prep  cases\n",
    "pdf_rename[\"p40005_i0\"] = pd.to_datetime(pdf_rename[\"p40005_i0\"])\n",
    "pdf_rename['cancer_time'] = (pdf_rename['acc_start_date'] - pdf_rename['p40005_i0']).dt.days\n",
    "\n",
    "# check for htn; if yes, return 1\n",
    "def check_htn_criteria(row):\n",
    "    if row['cancer_time'] > 0:\n",
    "        return 1\n",
    "    else:\n",
    "        return 0\n",
    "\n",
    "pdf_rename['cancer_time_yes'] = pdf_rename.apply(check_htn_criteria, axis=1)"
   ]
  },
  {
   "cell_type": "code",
   "execution_count": 40,
   "id": "7fefa92c-518e-4f34-b756-2ec3c0cf371b",
   "metadata": {
    "tags": []
   },
   "outputs": [],
   "source": [
    "# check for htn; if yes, return 1\n",
    "def check_can_criteria(row):\n",
    "    if row['cancer_time_yes'] > 0 or row['cancer_yes'] > 0:\n",
    "        return 1\n",
    "    else:\n",
    "        return 0\n",
    "\n",
    "pdf_rename['cancer_comp_yes'] = pdf_rename.apply(check_can_criteria, axis=1)"
   ]
  },
  {
   "cell_type": "code",
   "execution_count": 41,
   "id": "2bb00a95-5ee5-48d7-aff4-4b2661a34fa3",
   "metadata": {
    "tags": []
   },
   "outputs": [],
   "source": [
    "#create hyperlipidemia category\n",
    "#prep hchol cases\n",
    "pdf_rename['e78_time'] = (pdf_rename['acc_start_date'] - pdf_rename['e78_date']).dt.days\n",
    "def check_hchol_criteria(row):\n",
    "    if row['e78_time'] > 0:# or '1473' in row['sr_illness']:\n",
    "        return 1\n",
    "    else:\n",
    "        return 0\n",
    "    \n",
    "pdf_rename['hchol_yes'] = pdf_rename.apply(check_hchol_criteria, axis=1)"
   ]
  },
  {
   "cell_type": "code",
   "execution_count": 42,
   "id": "634878a1-d6f3-49d3-8b86-d532eb3cfe7a",
   "metadata": {
    "tags": []
   },
   "outputs": [],
   "source": [
    "#create diabetes category\n",
    "#prep diabetes cases\n",
    "pdf_rename['e10_date'] = pd.to_datetime(pdf_rename['e10_date'])\n",
    "pdf_rename['e11_date'] = pd.to_datetime(pdf_rename['e11_date'])\n",
    "pdf_rename['acc_end_date'] = pd.to_datetime(pdf_rename['acc_end_date'])\n",
    "pdf_rename['e10_time'] = (pdf_rename['acc_start_date'] - pdf_rename['e10_date']).dt.days\n",
    "pdf_rename['e11_time'] = (pdf_rename['acc_start_date'] - pdf_rename['e11_date']).dt.days\n",
    "\n",
    "def check_diab_criteria(row):\n",
    "    if row['e10_time'] > 0 or row['e11_time'] > 0:# or '1222' in row['sr_illness'] or '1223' in row['sr_illness']:\n",
    "        return 1\n",
    "    else:\n",
    "        return 0\n",
    "\n",
    "pdf_rename['diab_yes'] = pdf_rename.apply(check_diab_criteria, axis=1)"
   ]
  },
  {
   "cell_type": "code",
   "execution_count": 43,
   "id": "bfca9706-a1a4-4978-abc0-29a440ff3257",
   "metadata": {
    "tags": []
   },
   "outputs": [],
   "source": [
    "#create comorbidity covariate for analysis and filter covariate for baseline characteristics table considering set of comorbidities created above\n",
    "pdf_rename['card_sum'] = pdf_rename[['htn_yes', 'hf_yes', 'cad_yes']].sum(axis=1)\n",
    "pdf_rename['card_sum_filter'] = pdf_rename['card_sum'].apply(lambda x: 1 if x > 0 else 0)"
   ]
  },
  {
   "cell_type": "code",
   "execution_count": 44,
   "id": "fcaceda1-e2f0-4fcc-9d94-b71aad2b3b4a",
   "metadata": {
    "tags": []
   },
   "outputs": [
    {
     "data": {
      "text/plain": [
       "70785"
      ]
     },
     "execution_count": 44,
     "metadata": {},
     "output_type": "execute_result"
    }
   ],
   "source": [
    "pdf_rename['card_sum_filter'].sum()"
   ]
  },
  {
   "cell_type": "code",
   "execution_count": null,
   "id": "905a096f-26af-4e16-9b48-074c90b9c815",
   "metadata": {},
   "outputs": [],
   "source": []
  },
  {
   "cell_type": "code",
   "execution_count": null,
   "id": "e142879f-2b70-48f6-b7c9-f2e141248493",
   "metadata": {},
   "outputs": [],
   "source": []
  },
  {
   "cell_type": "code",
   "execution_count": null,
   "id": "e7184f4e-0abf-450d-a085-34804d81c4d8",
   "metadata": {},
   "outputs": [],
   "source": []
  },
  {
   "cell_type": "code",
   "execution_count": null,
   "id": "f52ec121-c385-4bc9-8117-2beb447f0dd7",
   "metadata": {},
   "outputs": [],
   "source": []
  },
  {
   "cell_type": "code",
   "execution_count": 45,
   "id": "f7a21aa5-fdff-4bac-9125-475693fcc8c4",
   "metadata": {
    "tags": []
   },
   "outputs": [
    {
     "data": {
      "text/plain": [
       "1660"
      ]
     },
     "execution_count": 45,
     "metadata": {},
     "output_type": "execute_result"
    }
   ],
   "source": [
    "prior_stroke_df = pdf_rename.loc[(pdf_rename['g45_time'] > 0) | (pdf_rename['h34_time'] > 0)| (pdf_rename['i60_time'] > 0) | (pdf_rename['i61_time'] > 0) | (pdf_rename['i62_time'] > 0)| (pdf_rename['i63_time'] > 0) | (pdf_rename['i64_time'] > 0)]\n",
    "len(prior_stroke_df)"
   ]
  },
  {
   "cell_type": "code",
   "execution_count": 46,
   "id": "decb1fc0-bc72-47f2-a721-b6a7c286d73e",
   "metadata": {
    "tags": []
   },
   "outputs": [
    {
     "data": {
      "text/plain": [
       "158"
      ]
     },
     "execution_count": 46,
     "metadata": {},
     "output_type": "execute_result"
    }
   ],
   "source": [
    "prior_stroke_df.prestroke_dep.sum()"
   ]
  },
  {
   "cell_type": "code",
   "execution_count": null,
   "id": "d75bee9a-7b64-4a8c-b68b-d17ed27e5ad8",
   "metadata": {},
   "outputs": [],
   "source": []
  },
  {
   "cell_type": "code",
   "execution_count": 47,
   "id": "aca06ffb-c159-4d94-99c1-b1c0315e8a8c",
   "metadata": {
    "tags": []
   },
   "outputs": [
    {
     "data": {
      "text/plain": [
       "69125"
      ]
     },
     "execution_count": 47,
     "metadata": {},
     "output_type": "execute_result"
    }
   ],
   "source": [
    "incidentcevd_df = pdf_rename.loc[~((pdf_rename['g45_time'] > 0) | (pdf_rename['h34_time'] > 0)| (pdf_rename['i60_time'] > 0) | (pdf_rename['i61_time'] > 0) | (pdf_rename['i62_time'] > 0)| (pdf_rename['i63_time'] > 0) | (pdf_rename['i64_time'] > 0))]\n",
    "len(incidentcevd_df)"
   ]
  },
  {
   "cell_type": "code",
   "execution_count": 48,
   "id": "73ca7dbf-223c-4dc8-8ea0-90b9a6085c2b",
   "metadata": {
    "tags": []
   },
   "outputs": [
    {
     "data": {
      "text/plain": [
       "69125"
      ]
     },
     "execution_count": 48,
     "metadata": {},
     "output_type": "execute_result"
    }
   ],
   "source": [
    "pdf_rename = incidentcevd_df\n",
    "len(pdf_rename)"
   ]
  },
  {
   "cell_type": "code",
   "execution_count": 49,
   "id": "d3084199-d5f4-4b02-a40b-8093e71dc44f",
   "metadata": {
    "tags": []
   },
   "outputs": [
    {
     "name": "stdout",
     "output_type": "stream",
     "text": [
      "after dropping px with CeVD diagnoses in medical records prior to baseline 68685\n"
     ]
    }
   ],
   "source": [
    "#drop prior CevD px who have recorded diagnosis in medical records\n",
    "#drop cases with a prior vascular dementia (F01)\n",
    "pdf_rename['f01_time'] = (pdf_rename['online_dep_date'] - pdf_rename['f01_date']).dt.days\n",
    "pdf_rename = pdf_rename.loc[(pdf_rename['f01_time'] < 0) | (pdf_rename['f01_time'].isna())]\n",
    "\n",
    "#drop cases with a prior TIA (G45)\n",
    "pdf_rename['g45_time'] = (pdf_rename['online_dep_date'] - pdf_rename['g45_date']).dt.days\n",
    "pdf_rename = pdf_rename.loc[(pdf_rename['g45_time'] < 0) | (pdf_rename['g45_time'].isna())]\n",
    "\n",
    "#drop cases with a prior vascular brain syndromes of CeVD (G46)\n",
    "pdf_rename['g46_time'] = (pdf_rename['online_dep_date'] - pdf_rename['g46_date']).dt.days\n",
    "pdf_rename = pdf_rename.loc[(pdf_rename['g46_time'] < 0) | (pdf_rename['g46_time'].isna())]\n",
    "\n",
    "#drop cases with a prior RAO (H34)\n",
    "pdf_rename['h34_time'] = (pdf_rename['online_dep_date'] - pdf_rename['h34_date']).dt.days\n",
    "pdf_rename = pdf_rename.loc[(pdf_rename['h34_time'] < 0) | (pdf_rename['h34_time'].isna())]\n",
    "\n",
    "#drop cases with a prior Nontraumatic subarachnoid hemorrhage (I60)\n",
    "pdf_rename['i60_time'] = (pdf_rename['online_dep_date'] - pdf_rename['i60_date']).dt.days\n",
    "pdf_rename = pdf_rename.loc[(pdf_rename['i60_time'] < 0) | (pdf_rename['i60_time'].isna())]\n",
    "\n",
    "#drop cases with a prior Nontraumatic intracerebral hemorrhage (I61)\n",
    "pdf_rename['i61_time'] = (pdf_rename['online_dep_date'] - pdf_rename['i61_date']).dt.days\n",
    "pdf_rename = pdf_rename.loc[(pdf_rename['i61_time'] < 0) | (pdf_rename['i61_time'].isna())]\n",
    "\n",
    "#drop cases with a prior Other and unspecified nontraumatic intracranial hemorrhage (I62)\n",
    "pdf_rename['i62_time'] = (pdf_rename['online_dep_date'] - pdf_rename['i62_date']).dt.days\n",
    "pdf_rename = pdf_rename.loc[(pdf_rename['i62_time'] < 0) | (pdf_rename['i62_time'].isna())]\n",
    "\n",
    "#drop cases with a prior intracerebral infarction (I63)\n",
    "pdf_rename['i63_time'] = (pdf_rename['online_dep_date'] - pdf_rename['i63_date']).dt.days\n",
    "pdf_rename = pdf_rename.loc[(pdf_rename['i63_time'] < 0) | (pdf_rename['i63_time'].isna())]\n",
    "\n",
    "#drop cases with a prior unspecified stroke (I64)\n",
    "pdf_rename['i64_time'] = (pdf_rename['online_dep_date'] - pdf_rename['i64_date']).dt.days\n",
    "pdf_rename = pdf_rename.loc[(pdf_rename['i64_time'] < 0) | (pdf_rename['i64_time'].isna())]\n",
    "\n",
    "#drop cases with a prior occlusion/stenosis precerebral arteries (I65)\n",
    "pdf_rename['i65_time'] = (pdf_rename['online_dep_date'] - pdf_rename['i65_date']).dt.days\n",
    "pdf_rename = pdf_rename.loc[(pdf_rename['i65_time'] < 0) | (pdf_rename['i65_time'].isna())]\n",
    "\n",
    "#drop cases with a prior occlusion/stenosis cerebral arteries (I66)\n",
    "pdf_rename['i66_time'] = (pdf_rename['online_dep_date'] - pdf_rename['i66_date']).dt.days\n",
    "pdf_rename = pdf_rename.loc[(pdf_rename['i66_time'] < 0) | (pdf_rename['i66_time'].isna())]\n",
    "\n",
    "#drop cases with a prior Other cerebrovascular diseases (I67)\n",
    "pdf_rename['i67_time'] = (pdf_rename['online_dep_date'] - pdf_rename['i67_date']).dt.days\n",
    "pdf_rename = pdf_rename.loc[(pdf_rename['i67_time'] < 0) | (pdf_rename['i67_time'].isna())]\n",
    "\n",
    "#drop cases with a prior Cerebrovascular disorders in diseases classified elsewhere (I68)\n",
    "pdf_rename['i68_time'] = (pdf_rename['online_dep_date'] - pdf_rename['i68_date']).dt.days\n",
    "pdf_rename = pdf_rename.loc[(pdf_rename['i68_time'] < 0) | (pdf_rename['i68_time'].isna())]\n",
    "\n",
    "#drop cases with a prior Sequelae of cerebrovascular disease (I69)\n",
    "pdf_rename['i69_time'] = (pdf_rename['online_dep_date'] - pdf_rename['i69_date']).dt.days\n",
    "pdf_rename = pdf_rename.loc[(pdf_rename['i69_time'] < 0) | (pdf_rename['i69_time'].isna())]\n",
    "\n",
    "print('after dropping px with CeVD diagnoses in medical records prior to baseline', len(pdf_rename))"
   ]
  },
  {
   "cell_type": "code",
   "execution_count": 50,
   "id": "c254ec10-798c-4c44-abae-3a52e7d7b468",
   "metadata": {
    "tags": []
   },
   "outputs": [
    {
     "name": "stdout",
     "output_type": "stream",
     "text": [
      "Number of CeVD events (total) 1678.0\n"
     ]
    }
   ],
   "source": [
    "#if assessment date - event date < 0, then copy absolute value to corresponding column\n",
    "pdf_rename.loc[pdf_rename['f01_time'] < 0, 'f01_t2e'] = abs(pdf_rename['f01_time'])\n",
    "pdf_rename.loc[pdf_rename['g45_time'] < 0, 'g45_t2e'] = abs(pdf_rename['g45_time'])\n",
    "pdf_rename.loc[pdf_rename['g46_time'] < 0, 'g46_t2e'] = abs(pdf_rename['g46_time'])\n",
    "pdf_rename.loc[pdf_rename['h34_time'] < 0, 'h34_t2e'] = abs(pdf_rename['h34_time'])\n",
    "pdf_rename.loc[pdf_rename['i60_time'] < 0, 'i60_t2e'] = abs(pdf_rename['i60_time'])\n",
    "pdf_rename.loc[pdf_rename['i61_time'] < 0, 'i61_t2e'] = abs(pdf_rename['i61_time'])\n",
    "pdf_rename.loc[pdf_rename['i62_time'] < 0, 'i62_t2e'] = abs(pdf_rename['i62_time'])\n",
    "pdf_rename.loc[pdf_rename['i63_time'] < 0, 'i63_t2e'] = abs(pdf_rename['i63_time'])\n",
    "pdf_rename.loc[pdf_rename['i64_time'] < 0, 'i64_t2e'] = abs(pdf_rename['i64_time'])\n",
    "pdf_rename.loc[pdf_rename['i65_time'] < 0, 'i65_t2e'] = abs(pdf_rename['i65_time'])\n",
    "pdf_rename.loc[pdf_rename['i66_time'] < 0, 'i66_t2e'] = abs(pdf_rename['i66_time'])\n",
    "pdf_rename.loc[pdf_rename['i67_time'] < 0, 'i67_t2e'] = abs(pdf_rename['i67_time'])\n",
    "pdf_rename.loc[pdf_rename['i68_time'] < 0, 'i68_t2e'] = abs(pdf_rename['i68_time'])\n",
    "pdf_rename.loc[pdf_rename['i69_time'] < 0, 'i69_t2e'] = abs(pdf_rename['i69_time'])\n",
    "#if there is a time-to-event in XXX_t2e, then place 1 in outcome column for each CeVD\n",
    "pdf_rename.loc[pdf_rename['f01_t2e'].notna(), 'f01_event'] = 1\n",
    "pdf_rename.loc[pdf_rename['g45_t2e'].notna(), 'g45_event'] = 1\n",
    "pdf_rename.loc[pdf_rename['g46_t2e'].notna(), 'g46_event'] = 1\n",
    "pdf_rename.loc[pdf_rename['h34_t2e'].notna(), 'h34_event'] = 1\n",
    "pdf_rename.loc[pdf_rename['i60_t2e'].notna(), 'i60_event'] = 1\n",
    "pdf_rename.loc[pdf_rename['i61_t2e'].notna(), 'i61_event'] = 1\n",
    "pdf_rename.loc[pdf_rename['i62_t2e'].notna(), 'i62_event'] = 1\n",
    "pdf_rename.loc[pdf_rename['i63_t2e'].notna(), 'i63_event'] = 1\n",
    "pdf_rename.loc[pdf_rename['i64_t2e'].notna(), 'i64_event'] = 1\n",
    "pdf_rename.loc[pdf_rename['i65_t2e'].notna(), 'i65_event'] = 1\n",
    "pdf_rename.loc[pdf_rename['i66_t2e'].notna(), 'i66_event'] = 1\n",
    "pdf_rename.loc[pdf_rename['i67_t2e'].notna(), 'i67_event'] = 1\n",
    "pdf_rename.loc[pdf_rename['i68_t2e'].notna(), 'i68_event'] = 1\n",
    "pdf_rename.loc[pdf_rename['i69_t2e'].notna(), 'i69_event'] = 1\n",
    "#create composite cevd outcome value\n",
    "pdf_rename.loc[(pdf_rename['f01_event'].notna()) | (pdf_rename['g45_event'].notna()) | (pdf_rename['g46_event'].notna()) | (pdf_rename['h34_event'].notna()) | (pdf_rename['i60_event'].notna()) | (pdf_rename['i61_event'].notna()) | (pdf_rename['i62_event'].notna()) | (pdf_rename['i63_event'].notna()) | (pdf_rename['i64_event'].notna()) | (pdf_rename['i65_event'].notna()) | (pdf_rename['i66_event'].notna()) | (pdf_rename['i67_event'].notna()) | (pdf_rename['i68_event'].notna()) | (pdf_rename['i69_event'].notna()), 'cevd_event'] = 1\n",
    "pdf_rename['cevd_event'] = pdf_rename['cevd_event'].fillna(0)\n",
    "\n",
    "#check number of future cevd_events \n",
    "sum_cevdevents = pdf_rename['cevd_event'].sum()\n",
    "print('Number of CeVD events (total)', sum_cevdevents)"
   ]
  },
  {
   "cell_type": "code",
   "execution_count": 51,
   "id": "e3d4f711-f479-44f8-a35d-811372c41dc0",
   "metadata": {
    "tags": []
   },
   "outputs": [],
   "source": [
    "#create cevd time-to-event value for earliest cevd event\n",
    "pdf_rename['cevd_t2e'] = pdf_rename[['f01_t2e', 'g45_t2e', 'g46_t2e', 'h34_t2e', 'i60_t2e', 'i61_t2e', 'i62_t2e', 'i63_t2e', 'i64_t2e', 'i65_t2e', 'i66_t2e', 'i67_t2e', 'i68_t2e', 'i69_t2e']].min(axis=1)"
   ]
  },
  {
   "cell_type": "code",
   "execution_count": 52,
   "id": "36bea70d-ea10-4e33-a038-38e8e2fe8d1b",
   "metadata": {
    "tags": []
   },
   "outputs": [],
   "source": [
    "#convert all t2e columns to numeric for filtering\n",
    "def convert_t2e_to_numeric(df):\n",
    "    df['f01_t2e'] = pd.to_numeric(df['f01_t2e'], errors='coerce').astype(pd.Int64Dtype())\n",
    "    df['g45_t2e'] = pd.to_numeric(df['g45_t2e'], errors='coerce').astype(pd.Int64Dtype())\n",
    "    df['g46_t2e'] = pd.to_numeric(df['g46_t2e'], errors='coerce').astype(pd.Int64Dtype())\n",
    "    df['h34_t2e'] = pd.to_numeric(df['h34_t2e'], errors='coerce').astype(pd.Int64Dtype())\n",
    "    df['i60_t2e'] = pd.to_numeric(df['i60_t2e'], errors='coerce').astype(pd.Int64Dtype())\n",
    "    df['i61_t2e'] = pd.to_numeric(df['i61_t2e'], errors='coerce').astype(pd.Int64Dtype())\n",
    "    df['i62_t2e'] = pd.to_numeric(df['i62_t2e'], errors='coerce').astype(pd.Int64Dtype())\n",
    "    df['i63_t2e'] = pd.to_numeric(df['i63_t2e'], errors='coerce').astype(pd.Int64Dtype())\n",
    "    df['i64_t2e'] = pd.to_numeric(df['i64_t2e'], errors='coerce').astype(pd.Int64Dtype())\n",
    "    df['i65_t2e'] = pd.to_numeric(df['i65_t2e'], errors='coerce').astype(pd.Int64Dtype())\n",
    "    df['i66_t2e'] = pd.to_numeric(df['i66_t2e'], errors='coerce').astype(pd.Int64Dtype())\n",
    "    df['i67_t2e'] = pd.to_numeric(df['i67_t2e'], errors='coerce').astype(pd.Int64Dtype())\n",
    "    df['i68_t2e'] = pd.to_numeric(df['i68_t2e'], errors='coerce').astype(pd.Int64Dtype())\n",
    "    df['i69_t2e'] = pd.to_numeric(df['i69_t2e'], errors='coerce').astype(pd.Int64Dtype())\n",
    "    df['cevd_t2e'] = pd.to_numeric(df['cevd_t2e'], errors='coerce').astype(pd.Int64Dtype())\n",
    "    return df\n",
    "\n",
    "pdf_rename = convert_t2e_to_numeric(pdf_rename)"
   ]
  },
  {
   "cell_type": "code",
   "execution_count": 53,
   "id": "6f83b072-579c-445a-863f-9daac46da4e3",
   "metadata": {
    "tags": []
   },
   "outputs": [],
   "source": [
    "#clean all cevd types to only have t2e for the initial CeVD diagnosis after online depression survey\n",
    "def check_cevd_types(df):\n",
    "    for index, row in df.iterrows():\n",
    "        if pd.notna(row['f01_t2e']):\n",
    "            if row['f01_t2e'] != row['cevd_t2e']:\n",
    "                df.at[index, 'f01_t2e'] = None\n",
    "        if pd.notna(row['g45_t2e']):\n",
    "            if row['g45_t2e'] != row['cevd_t2e']:\n",
    "                 df.at[index, 'g45_t2e'] = None\n",
    "        if pd.notna(row['g46_t2e']):\n",
    "            if row['g46_t2e'] != row['cevd_t2e']:\n",
    "                 df.at[index, 'g46_t2e'] = None\n",
    "        if pd.notna(row['h34_t2e']):\n",
    "            if row['h34_t2e'] != row['cevd_t2e']:\n",
    "                 df.at[index, 'h34_t2e'] = None\n",
    "        if pd.notna(row['i60_t2e']):\n",
    "            if row['i60_t2e'] != row['cevd_t2e']:\n",
    "                 df.at[index, 'i60_t2e'] = None\n",
    "        if pd.notna(row['i61_t2e']):\n",
    "            if row['i61_t2e'] != row['cevd_t2e']:\n",
    "                 df.at[index, 'i61_t2e'] = None\n",
    "        if pd.notna(row['i62_t2e']):\n",
    "            if row['i62_t2e'] != row['cevd_t2e']:\n",
    "                 df.at[index, 'i62_t2e'] = None\n",
    "        if pd.notna(row['i63_t2e']):\n",
    "            if row['i63_t2e'] != row['cevd_t2e']:\n",
    "                 df.at[index, 'i63_t2e'] = None\n",
    "        if pd.notna(row['i64_t2e']):\n",
    "            if row['i64_t2e'] != row['cevd_t2e']:\n",
    "                 df.at[index, 'i64_t2e'] = None\n",
    "        if pd.notna(row['i65_t2e']):\n",
    "            if row['i65_t2e'] != row['cevd_t2e']:\n",
    "                 df.at[index, 'i65_t2e'] = None\n",
    "        if pd.notna(row['i66_t2e']):\n",
    "            if row['i66_t2e'] != row['cevd_t2e']:\n",
    "                 df.at[index, 'i66_t2e'] = None\n",
    "        if pd.notna(row['i67_t2e']):\n",
    "            if row['i67_t2e'] != row['cevd_t2e']:\n",
    "                 df.at[index, 'i67_t2e'] = None\n",
    "        if pd.notna(row['i68_t2e']):\n",
    "            if row['i68_t2e'] != row['cevd_t2e']:\n",
    "                 df.at[index, 'i68_t2e'] = None\n",
    "        if pd.notna(row['i69_t2e']):\n",
    "            if row['i69_t2e'] != row['cevd_t2e']:\n",
    "                 df.at[index, 'i69_t2e'] = None\n",
    "    return df\n",
    "\n",
    "pdf_rename = check_cevd_types(pdf_rename)"
   ]
  },
  {
   "cell_type": "code",
   "execution_count": 54,
   "id": "c7f7127b-7cff-461e-800a-e3fa4fdf9bb0",
   "metadata": {
    "tags": []
   },
   "outputs": [
    {
     "data": {
      "text/plain": [
       "2     <NA>\n",
       "4     <NA>\n",
       "13    <NA>\n",
       "15    <NA>\n",
       "21    <NA>\n",
       "23    <NA>\n",
       "26    <NA>\n",
       "37    <NA>\n",
       "40    <NA>\n",
       "46    <NA>\n",
       "Name: cevd_t2e, dtype: Int64"
      ]
     },
     "execution_count": 54,
     "metadata": {},
     "output_type": "execute_result"
    }
   ],
   "source": [
    "pdf_rename.cevd_t2e.head(10)"
   ]
  },
  {
   "cell_type": "code",
   "execution_count": 55,
   "id": "b4725ecf-0c64-431c-93b1-d3262378415a",
   "metadata": {
    "tags": []
   },
   "outputs": [
    {
     "name": "stdout",
     "output_type": "stream",
     "text": [
      "Number of px with future CeVD:\n"
     ]
    },
    {
     "data": {
      "text/plain": [
       "1678"
      ]
     },
     "execution_count": 55,
     "metadata": {},
     "output_type": "execute_result"
    }
   ],
   "source": [
    "incident_cevd_sort = pdf_rename.loc[(pdf_rename['cevd_event']==1)]\n",
    "#control_df = pdf_rename.loc[~(pdf_rename['cevd_event']==1)]\n",
    "control_df = pdf_rename\n",
    "print(\"Number of px with future CeVD:\")\n",
    "len(incident_cevd_sort)"
   ]
  },
  {
   "cell_type": "code",
   "execution_count": 56,
   "id": "ebe402cf-8045-4f75-a15e-075c62a2b658",
   "metadata": {
    "tags": []
   },
   "outputs": [
    {
     "name": "stdout",
     "output_type": "stream",
     "text": [
      "Number of px in general population cohort:\n"
     ]
    },
    {
     "data": {
      "text/plain": [
       "68685"
      ]
     },
     "execution_count": 56,
     "metadata": {},
     "output_type": "execute_result"
    }
   ],
   "source": [
    "print(\"Number of px in general population cohort:\")\n",
    "len(control_df)"
   ]
  },
  {
   "cell_type": "code",
   "execution_count": 57,
   "id": "532ff8b3-c955-48cf-8078-dee80472b33b",
   "metadata": {
    "tags": []
   },
   "outputs": [
    {
     "data": {
      "text/plain": [
       "1173"
      ]
     },
     "execution_count": 57,
     "metadata": {},
     "output_type": "execute_result"
    }
   ],
   "source": [
    "incidentstroke_df = pdf_rename.loc[((pdf_rename['g45_time'] < 0) | (pdf_rename['h34_time'] < 0)| (pdf_rename['i60_time'] < 0) | (pdf_rename['i61_time'] < 0) | (pdf_rename['i62_time'] < 0)| (pdf_rename['i63_time'] < 0) | (pdf_rename['i64_time'] < 0))]\n",
    "len(incidentstroke_df)"
   ]
  },
  {
   "cell_type": "code",
   "execution_count": 58,
   "id": "ddd743a5-c400-4612-9fdd-a7988988a94d",
   "metadata": {
    "tags": []
   },
   "outputs": [
    {
     "data": {
      "text/plain": [
       "1603"
      ]
     },
     "execution_count": 58,
     "metadata": {},
     "output_type": "execute_result"
    }
   ],
   "source": [
    "# Drop rows where classroom = 2 and building = 1\n",
    "prior_stroke_df = prior_stroke_df[~((prior_stroke_df['dep_diag_yes'] == 1) & (prior_stroke_df['prestroke_dep'] == 0))]\n",
    "len(prior_stroke_df)"
   ]
  },
  {
   "cell_type": "code",
   "execution_count": 59,
   "id": "b2a2bae9-d238-4274-9e6d-93bb0dcaab7a",
   "metadata": {
    "tags": []
   },
   "outputs": [
    {
     "data": {
      "text/plain": [
       "1603"
      ]
     },
     "execution_count": 59,
     "metadata": {},
     "output_type": "execute_result"
    }
   ],
   "source": [
    "len(prior_stroke_df)"
   ]
  },
  {
   "cell_type": "code",
   "execution_count": 60,
   "id": "8a0e2ae2-3703-444c-9d7a-dab7761c0340",
   "metadata": {
    "tags": []
   },
   "outputs": [
    {
     "data": {
      "text/plain": [
       "155"
      ]
     },
     "execution_count": 60,
     "metadata": {},
     "output_type": "execute_result"
    }
   ],
   "source": [
    "controlpriorcohort = prior_stroke_df[prior_stroke_df['dep_diag_yes']==1]\n",
    "len(controlpriorcohort)\n",
    "                                "
   ]
  },
  {
   "cell_type": "code",
   "execution_count": 61,
   "id": "ce7d08fc-8502-4e64-8bdc-6870ad27ac66",
   "metadata": {
    "tags": []
   },
   "outputs": [
    {
     "data": {
      "text/plain": [
       "708"
      ]
     },
     "execution_count": 61,
     "metadata": {},
     "output_type": "execute_result"
    }
   ],
   "source": [
    "prior_stroke_df['pa_sleep_more'] = 0  # Initialize columnA with zeros\n",
    "prior_stroke_df.loc[prior_stroke_df['pa_sleep_convert_hr'] > 9, 'pa_sleep_more'] = 1  # Set 1 where the condition is met\n",
    "prior_stroke_df['pa_sleep_more'].sum()"
   ]
  },
  {
   "cell_type": "code",
   "execution_count": 62,
   "id": "c04dff44-8f4a-419b-b431-48f2cb6ca18a",
   "metadata": {
    "tags": []
   },
   "outputs": [
    {
     "data": {
      "text/plain": [
       "88"
      ]
     },
     "execution_count": 62,
     "metadata": {},
     "output_type": "execute_result"
    }
   ],
   "source": [
    "prior_stroke_df['pa_sleep_less'] = 0  # Initialize columnA with zeros\n",
    "prior_stroke_df.loc[prior_stroke_df['pa_sleep_convert_hr'] < 7, 'pa_sleep_less'] = 1  # Set 1 where the condition is met\n",
    "prior_stroke_df['pa_sleep_less'].sum()"
   ]
  },
  {
   "cell_type": "code",
   "execution_count": 63,
   "id": "c3195ca6-1c90-45d6-9050-eeee379864ac",
   "metadata": {
    "tags": []
   },
   "outputs": [
    {
     "data": {
      "text/plain": [
       "1448"
      ]
     },
     "execution_count": 63,
     "metadata": {},
     "output_type": "execute_result"
    }
   ],
   "source": [
    "deppriorcohort = prior_stroke_df[prior_stroke_df['dep_diag_yes']==0]\n",
    "len(deppriorcohort)                 "
   ]
  },
  {
   "cell_type": "code",
   "execution_count": 64,
   "id": "c1255de1-d7dd-4c3a-a5f1-3add1bb4f603",
   "metadata": {
    "tags": []
   },
   "outputs": [
    {
     "name": "stdout",
     "output_type": "stream",
     "text": [
      "Count of participants who sleep longer than 9 hr: 633\n",
      "Count of participants who sleep less than 7 hr: 79\n"
     ]
    }
   ],
   "source": [
    "count_9_sleep = (deppriorcohort['pa_sleep_convert_hr'] > 9).sum()\n",
    "print(\"Count of participants who sleep longer than 9 hr:\", count_9_sleep)\n",
    "count_7_sleep = (deppriorcohort['pa_sleep_convert_hr'] <7).sum()\n",
    "print(\"Count of participants who sleep less than 7 hr:\", count_7_sleep)"
   ]
  },
  {
   "cell_type": "code",
   "execution_count": 65,
   "id": "6f3108c9-9574-4c14-b70b-069bfc99e6a1",
   "metadata": {
    "tags": []
   },
   "outputs": [
    {
     "name": "stdout",
     "output_type": "stream",
     "text": [
      "Count of participants who sleep longer than 9 hr: 633\n",
      "Count of participants who sleep less than 7 hr: 79\n"
     ]
    }
   ],
   "source": [
    "prior_stroke_df['pa_sleep_more']  = (prior_stroke_df['pa_sleep_convert_hr'] > 9).sum()\n",
    "print(\"Count of participants who sleep longer than 9 hr:\", count_9_sleep)\n",
    "prior_stroke_df['pa_sleep_less']  = (prior_stroke_df['pa_sleep_convert_hr'] <7).sum()\n",
    "print(\"Count of participants who sleep less than 7 hr:\", count_7_sleep)"
   ]
  },
  {
   "cell_type": "code",
   "execution_count": 66,
   "id": "dd8cea50-b72e-44ea-b068-aa45abab0ef1",
   "metadata": {
    "tags": []
   },
   "outputs": [],
   "source": [
    "#to csv for dataframe for follow-up cross-sectional analysis\n",
    "prior_stroke_df.to_csv('prior_stroke_model.csv', index=False)\n",
    "\n",
    "#to csv for dataframe for follow-up cross-sectional analysis\n",
    "incident_cevd_sort.to_csv('incident_cevd_sort_model.csv', index=False)\n",
    "\n",
    "#to csv for dataframe for follow-up cross-sectional analysis\n",
    "control_df.to_csv('control_model.csv', index=False)\n",
    "\n",
    "incidentstroke_df.to_csv('incidentstroke_df.csv', index=False)"
   ]
  },
  {
   "cell_type": "code",
   "execution_count": 67,
   "id": "957a74cd-6463-4949-ba19-2cd5b5e22623",
   "metadata": {
    "tags": []
   },
   "outputs": [
    {
     "data": {
      "text/plain": [
       "155"
      ]
     },
     "execution_count": 67,
     "metadata": {},
     "output_type": "execute_result"
    }
   ],
   "source": [
    "prior_stroke_df.dep_diag_yes.sum()"
   ]
  },
  {
   "cell_type": "code",
   "execution_count": 68,
   "id": "fb7641b2-e2bd-4b61-883f-cbc3e647842e",
   "metadata": {
    "tags": []
   },
   "outputs": [],
   "source": [
    "def find_first_stroke(row):\n",
    "    positives = row[row > 0]  \n",
    "    return positives.max() if not positives.empty else np.nan  \n",
    "\n",
    "prior_stroke_df['stroke_t2e'] = prior_stroke_df[['h34_time', 'g45_time', 'i60_time', 'i61_time', 'i62_time', 'i63_time', 'i64_time']].apply(find_first_stroke, axis=1)"
   ]
  },
  {
   "cell_type": "code",
   "execution_count": 69,
   "id": "865fa639-3290-4fde-8d47-1651aeb66880",
   "metadata": {
    "tags": []
   },
   "outputs": [],
   "source": [
    "#to csv for dataframe for follow-up cross-sectional analysis\n",
    "prior_stroke_df.to_csv('prior_stroke_model.csv', index=False)"
   ]
  },
  {
   "cell_type": "code",
   "execution_count": 70,
   "id": "e3619287-c72b-412f-93bc-3a9a3deceb1d",
   "metadata": {
    "tags": []
   },
   "outputs": [
    {
     "data": {
      "text/plain": [
       "15.0"
      ]
     },
     "execution_count": 70,
     "metadata": {},
     "output_type": "execute_result"
    }
   ],
   "source": [
    "incident_cevd_sort['g46_event'].sum() "
   ]
  },
  {
   "cell_type": "code",
   "execution_count": 71,
   "id": "6421799e-e1b7-4321-a761-3569fe2e7709",
   "metadata": {
    "tags": []
   },
   "outputs": [
    {
     "data": {
      "text/plain": [
       "814     1.594521\n",
       "1217    0.967123\n",
       "1717    3.178082\n",
       "2118    0.786301\n",
       "2152    2.526027\n",
       "2334    1.736986\n",
       "2623    1.934247\n",
       "2720    2.241096\n",
       "3508    1.868493\n",
       "3536    1.131507\n",
       "Name: study_t2e, dtype: float64"
      ]
     },
     "execution_count": 71,
     "metadata": {},
     "output_type": "execute_result"
    }
   ],
   "source": [
    "prior_stroke_df.study_t2e.head(10)"
   ]
  },
  {
   "cell_type": "code",
   "execution_count": 72,
   "id": "7223ac15-92c0-4d64-a102-72cad944edc1",
   "metadata": {
    "tags": []
   },
   "outputs": [
    {
     "data": {
      "text/plain": [
       "1678"
      ]
     },
     "execution_count": 72,
     "metadata": {},
     "output_type": "execute_result"
    }
   ],
   "source": [
    "len(incident_cevd_sort)"
   ]
  },
  {
   "cell_type": "code",
   "execution_count": 73,
   "id": "971ea421-c45a-4d8b-ab51-3f5520eab1c4",
   "metadata": {
    "tags": []
   },
   "outputs": [
    {
     "data": {
      "text/plain": [
       "1633.0"
      ]
     },
     "execution_count": 73,
     "metadata": {},
     "output_type": "execute_result"
    }
   ],
   "source": [
    "incident_cevd_sort.white_yes.sum()"
   ]
  },
  {
   "cell_type": "code",
   "execution_count": 74,
   "id": "6c4a5dee-b13d-4d65-a498-d16482c010d1",
   "metadata": {
    "tags": []
   },
   "outputs": [
    {
     "name": "stdout",
     "output_type": "stream",
     "text": [
      "            pID  male  p134_i0 f02_date f00_date f03_date  p20510  \\\n",
      "101     3860356     1      0.0      NaT      NaT      NaT     3.0   \n",
      "189     1941855     1      0.0      NaT      NaT      NaT     1.0   \n",
      "249     5587070     1      0.0      NaT      NaT      NaT     1.0   \n",
      "387     1800154     1      0.0      NaT      NaT      NaT     1.0   \n",
      "402     4581473     1      0.0      NaT      NaT      NaT     2.0   \n",
      "...         ...   ...      ...      ...      ...      ...     ...   \n",
      "499682  4025744     0      0.0      NaT      NaT      NaT     2.0   \n",
      "500300  5994148     0      0.0      NaT      NaT      NaT     1.0   \n",
      "501040  1859154     0      0.0      NaT      NaT      NaT     1.0   \n",
      "501225  2012206     0      0.0      NaT      NaT      NaT     2.0   \n",
      "502078  3923259     0      1.0      NaT      NaT      NaT     1.0   \n",
      "\n",
      "       online_dep_date  p40005_i0 f34_date  ... i62_event i63_event  \\\n",
      "101         2016-09-01        NaT      NaT  ...       NaN       1.0   \n",
      "189         2016-08-30        NaT      NaT  ...       NaN       1.0   \n",
      "249         2016-09-08        NaT      NaT  ...       NaN       NaN   \n",
      "387         2016-08-24 2016-10-24      NaT  ...       1.0       NaN   \n",
      "402         2017-01-23        NaT      NaT  ...       NaN       NaN   \n",
      "...                ...        ...      ...  ...       ...       ...   \n",
      "499682      2016-09-20        NaT      NaT  ...       NaN       1.0   \n",
      "500300      2016-08-24        NaT      NaT  ...       NaN       1.0   \n",
      "501040      2016-09-13 2020-08-04      NaT  ...       NaN       1.0   \n",
      "501225      2016-09-11        NaT      NaT  ...       NaN       NaN   \n",
      "502078      2016-09-06        NaT      NaT  ...       NaN       1.0   \n",
      "\n",
      "        i64_event  i65_event i66_event i67_event i68_event i69_event  \\\n",
      "101           NaN        NaN       NaN       NaN       NaN       NaN   \n",
      "189           NaN        NaN       NaN       NaN       NaN       NaN   \n",
      "249           NaN        NaN       NaN       NaN       NaN       NaN   \n",
      "387           NaN        NaN       NaN       NaN       NaN       NaN   \n",
      "402           NaN        NaN       NaN       NaN       NaN       NaN   \n",
      "...           ...        ...       ...       ...       ...       ...   \n",
      "499682        NaN        NaN       NaN       1.0       NaN       NaN   \n",
      "500300        NaN        NaN       NaN       1.0       NaN       NaN   \n",
      "501040        NaN        NaN       NaN       NaN       NaN       NaN   \n",
      "501225        NaN        NaN       NaN       NaN       NaN       NaN   \n",
      "502078        1.0        NaN       NaN       NaN       NaN       NaN   \n",
      "\n",
      "       cevd_event cevd_t2e  \n",
      "101           1.0     1914  \n",
      "189           1.0      549  \n",
      "249           1.0       74  \n",
      "387           1.0      434  \n",
      "402           1.0     1494  \n",
      "...           ...      ...  \n",
      "499682        1.0     1082  \n",
      "500300        1.0      805  \n",
      "501040        1.0     1213  \n",
      "501225        1.0      944  \n",
      "502078        1.0      831  \n",
      "\n",
      "[1173 rows x 196 columns]\n"
     ]
    }
   ],
   "source": [
    "#inidentstroke_df = control_df[['p20510', 'dep_diag_yes', 'pa_sleep_convert_hr', 'white_yes', 'acc_age', 'male', 'pa_sed_convert', 'pa_light_convert', 'pa_mv_convert_log']] \n",
    "print(incidentstroke_df)"
   ]
  },
  {
   "cell_type": "code",
   "execution_count": 75,
   "id": "87be822c-a5dd-47e8-8ae4-9e124530e2e3",
   "metadata": {
    "tags": []
   },
   "outputs": [
    {
     "data": {
      "text/plain": [
       "99.0"
      ]
     },
     "execution_count": 75,
     "metadata": {},
     "output_type": "execute_result"
    }
   ],
   "source": [
    "depfuturestroke_df = incidentstroke_df[incidentstroke_df['dep_diag_yes'] == 1]\n",
    "depfuturestroke_df.white_yes.sum()"
   ]
  },
  {
   "cell_type": "code",
   "execution_count": 76,
   "id": "bb7ef592-f592-49cc-b0be-051e56fcd314",
   "metadata": {
    "tags": []
   },
   "outputs": [
    {
     "data": {
      "text/plain": [
       "100"
      ]
     },
     "execution_count": 76,
     "metadata": {},
     "output_type": "execute_result"
    }
   ],
   "source": [
    "len(depfuturestroke_df)"
   ]
  },
  {
   "cell_type": "code",
   "execution_count": 77,
   "id": "b359cd2b-e562-4e74-8253-409f5715dab6",
   "metadata": {
    "tags": []
   },
   "outputs": [],
   "source": [
    "incidentstroke_df.to_csv('incidentstroke_df.csv', index=False)"
   ]
  },
  {
   "cell_type": "code",
   "execution_count": 78,
   "id": "78bd581d-057e-4ad6-8284-4b991d3735d1",
   "metadata": {
    "tags": []
   },
   "outputs": [],
   "source": [
    "###### incident cevd"
   ]
  },
  {
   "cell_type": "code",
   "execution_count": 79,
   "id": "f539f920-3ece-4477-b776-241495efd945",
   "metadata": {
    "tags": []
   },
   "outputs": [
    {
     "data": {
      "text/plain": [
       "316.0"
      ]
     },
     "execution_count": 79,
     "metadata": {},
     "output_type": "execute_result"
    }
   ],
   "source": [
    "incidentstroke_df.g45_event.sum()"
   ]
  },
  {
   "cell_type": "code",
   "execution_count": 80,
   "id": "d901cbd5-0026-42d8-bbf3-109aa0b0eb96",
   "metadata": {
    "tags": []
   },
   "outputs": [
    {
     "data": {
      "text/plain": [
       "104.0"
      ]
     },
     "execution_count": 80,
     "metadata": {},
     "output_type": "execute_result"
    }
   ],
   "source": [
    "incidentstroke_df.h34_event.sum()"
   ]
  },
  {
   "cell_type": "code",
   "execution_count": 81,
   "id": "86fa2cbb-2df7-4c4d-8aa5-c02ea2b503be",
   "metadata": {
    "tags": []
   },
   "outputs": [
    {
     "data": {
      "text/plain": [
       "77.0"
      ]
     },
     "execution_count": 81,
     "metadata": {},
     "output_type": "execute_result"
    }
   ],
   "source": [
    "incidentstroke_df.i60_event.sum()"
   ]
  },
  {
   "cell_type": "code",
   "execution_count": 82,
   "id": "7f6f14a1-f79e-43ab-90b8-a6cf86517888",
   "metadata": {
    "tags": []
   },
   "outputs": [
    {
     "data": {
      "text/plain": [
       "125.0"
      ]
     },
     "execution_count": 82,
     "metadata": {},
     "output_type": "execute_result"
    }
   ],
   "source": [
    "incidentstroke_df.i61_event.sum()"
   ]
  },
  {
   "cell_type": "code",
   "execution_count": 83,
   "id": "f99f2892-1c87-4e06-972b-626d5917a2ac",
   "metadata": {
    "tags": []
   },
   "outputs": [
    {
     "data": {
      "text/plain": [
       "63.0"
      ]
     },
     "execution_count": 83,
     "metadata": {},
     "output_type": "execute_result"
    }
   ],
   "source": [
    "incidentstroke_df.i62_event.sum()"
   ]
  },
  {
   "cell_type": "code",
   "execution_count": 84,
   "id": "ce985708-d5fe-42e3-be41-708e6b21bbc9",
   "metadata": {
    "tags": []
   },
   "outputs": [
    {
     "data": {
      "text/plain": [
       "539.0"
      ]
     },
     "execution_count": 84,
     "metadata": {},
     "output_type": "execute_result"
    }
   ],
   "source": [
    "incidentstroke_df.i63_event.sum()"
   ]
  },
  {
   "cell_type": "code",
   "execution_count": 85,
   "id": "08279865-2a5d-4077-b04a-3dc0d51a10c4",
   "metadata": {
    "tags": []
   },
   "outputs": [
    {
     "data": {
      "text/plain": [
       "137.0"
      ]
     },
     "execution_count": 85,
     "metadata": {},
     "output_type": "execute_result"
    }
   ],
   "source": [
    "incidentstroke_df.i64_event.sum()"
   ]
  },
  {
   "cell_type": "code",
   "execution_count": 86,
   "id": "35031d29-b304-4aa2-817f-15cd73ebd34e",
   "metadata": {
    "tags": []
   },
   "outputs": [],
   "source": [
    "# file needs to be converted quickly in order to work; import back from .csv\n",
    "incidentstroke_df_clean = pd.read_csv('incidentstroke_df.csv')"
   ]
  },
  {
   "cell_type": "code",
   "execution_count": 87,
   "id": "8bdfdc6a-ab0e-463d-989f-d2aa86b01c9e",
   "metadata": {
    "tags": []
   },
   "outputs": [
    {
     "data": {
      "text/plain": [
       "0    0.0\n",
       "1    0.0\n",
       "2    1.0\n",
       "3    0.0\n",
       "4    0.0\n",
       "Name: g45_event, dtype: float64"
      ]
     },
     "execution_count": 87,
     "metadata": {},
     "output_type": "execute_result"
    }
   ],
   "source": [
    "incidentstroke_df_clean['i64_event'].fillna(0,inplace=True)\n",
    "incidentstroke_df_clean['i63_event'].fillna(0,inplace=True)\n",
    "incidentstroke_df_clean['i62_event'].fillna(0,inplace=True)\n",
    "incidentstroke_df_clean['i61_event'].fillna(0,inplace=True)\n",
    "incidentstroke_df_clean['i60_event'].fillna(0,inplace=True)\n",
    "incidentstroke_df_clean['h34_event'].fillna(0,inplace=True)\n",
    "incidentstroke_df_clean['g45_event'].fillna(0,inplace=True)\n",
    "incidentstroke_df_clean['g45_event'].head()"
   ]
  },
  {
   "cell_type": "code",
   "execution_count": 88,
   "id": "344b6219-11ee-4887-ae71-fd0a22db575a",
   "metadata": {
    "tags": []
   },
   "outputs": [
    {
     "data": {
      "text/plain": [
       "0    0\n",
       "1    0\n",
       "2    0\n",
       "3    0\n",
       "4    0\n",
       "Name: multi_post_stroke, dtype: int64"
      ]
     },
     "execution_count": 88,
     "metadata": {},
     "output_type": "execute_result"
    }
   ],
   "source": [
    "#create a variable that tells you whether a participant has had multiple strokes\n",
    "def check_multiplestrokes(row):\n",
    "    return 1 if (row['i64_event'] + row['i63_event'] + row['i62_event'] + row['i61_event'] + row['i60_event'] + row['h34_event'] + row['g45_event']) > 1 else 0\n",
    "\n",
    "incidentstroke_df_clean['multi_post_stroke'] = incidentstroke_df_clean.apply(check_multiplestrokes, axis=1)\n",
    "incidentstroke_df_clean['multi_post_stroke'].head()"
   ]
  },
  {
   "cell_type": "code",
   "execution_count": 89,
   "id": "b02efbc0-af0c-4d0d-8b24-02cbe5ef45d3",
   "metadata": {
    "tags": []
   },
   "outputs": [
    {
     "data": {
      "text/plain": [
       "172"
      ]
     },
     "execution_count": 89,
     "metadata": {},
     "output_type": "execute_result"
    }
   ],
   "source": [
    "incidentstroke_df_clean['multi_post_stroke'].sum()"
   ]
  },
  {
   "cell_type": "code",
   "execution_count": 90,
   "id": "6e09b964-18fd-4dc4-bcfd-77803efed9be",
   "metadata": {
    "tags": []
   },
   "outputs": [
    {
     "data": {
      "text/plain": [
       "1173"
      ]
     },
     "execution_count": 90,
     "metadata": {},
     "output_type": "execute_result"
    }
   ],
   "source": [
    "len(incidentstroke_df_clean)"
   ]
  },
  {
   "cell_type": "code",
   "execution_count": 91,
   "id": "bbb8a6cf-14f8-48a2-b7d4-fefc47e286a6",
   "metadata": {
    "tags": []
   },
   "outputs": [
    {
     "data": {
      "text/plain": [
       "101    0\n",
       "189    0\n",
       "249    0\n",
       "387    0\n",
       "402    0\n",
       "Name: multi_post_stroke, dtype: int64"
      ]
     },
     "execution_count": 91,
     "metadata": {},
     "output_type": "execute_result"
    }
   ],
   "source": [
    "# Apply the function to each row\n",
    "incident_cevd_sort['multi_post_stroke'] = incident_cevd_sort.apply(check_multiplestrokes, axis=1)\n",
    "incident_cevd_sort['multi_post_stroke'].head()"
   ]
  },
  {
   "cell_type": "code",
   "execution_count": 92,
   "id": "c79a5469-115d-4dfe-a9fe-aca709ae85c6",
   "metadata": {
    "tags": []
   },
   "outputs": [
    {
     "data": {
      "text/plain": [
       "0    0.0\n",
       "1    0.0\n",
       "2    1.0\n",
       "3    0.0\n",
       "4    0.0\n",
       "Name: g45_event, dtype: float64"
      ]
     },
     "execution_count": 92,
     "metadata": {},
     "output_type": "execute_result"
    }
   ],
   "source": [
    "incidentstroke_df_clean['g46_event'].fillna(0,inplace=True)\n",
    "incidentstroke_df_clean['i65_event'].fillna(0,inplace=True)\n",
    "incidentstroke_df_clean['i66_event'].fillna(0,inplace=True)\n",
    "incidentstroke_df_clean['i67_event'].fillna(0,inplace=True)\n",
    "incidentstroke_df_clean['i68_event'].fillna(0,inplace=True)\n",
    "incidentstroke_df_clean['i69_event'].fillna(0,inplace=True)\n",
    "incidentstroke_df_clean['g45_event'].head()"
   ]
  },
  {
   "cell_type": "code",
   "execution_count": 93,
   "id": "1e6d0b2f-278c-4b2c-a60e-05eb8b9fe86b",
   "metadata": {
    "tags": []
   },
   "outputs": [
    {
     "data": {
      "text/plain": [
       "0    0\n",
       "1    0\n",
       "2    0\n",
       "3    0\n",
       "4    0\n",
       "Name: post_cevd_nonstroke, dtype: int64"
      ]
     },
     "execution_count": 93,
     "metadata": {},
     "output_type": "execute_result"
    }
   ],
   "source": [
    "#add up the number of non-stroke cevds for this cohort; create a summary variable\n",
    "def sum_nonstrokecevd(row):\n",
    "    return 1 if (row['g46_event'] + row['i65_event'] + row['i66_event'] + row['i67_event'] + row['i68_event'] + row['i69_event']) > 0 else 0\n",
    "\n",
    "incidentstroke_df_clean['post_cevd_nonstroke'] = incidentstroke_df_clean.apply(sum_nonstrokecevd, axis=1)\n",
    "incidentstroke_df_clean['post_cevd_nonstroke'].head()"
   ]
  },
  {
   "cell_type": "code",
   "execution_count": 94,
   "id": "37511189-5e4f-425d-866b-99d24e7f60f7",
   "metadata": {
    "tags": []
   },
   "outputs": [
    {
     "data": {
      "text/plain": [
       "341"
      ]
     },
     "execution_count": 94,
     "metadata": {},
     "output_type": "execute_result"
    }
   ],
   "source": [
    "incidentstroke_df_clean['post_cevd_nonstroke'].sum()"
   ]
  },
  {
   "cell_type": "code",
   "execution_count": 95,
   "id": "72589242-61a8-41ba-bce6-5fe1b3b087bb",
   "metadata": {
    "tags": []
   },
   "outputs": [
    {
     "data": {
      "text/plain": [
       "101    0.0\n",
       "189    0.0\n",
       "249    1.0\n",
       "387    0.0\n",
       "402    0.0\n",
       "Name: g45_event, dtype: float64"
      ]
     },
     "execution_count": 95,
     "metadata": {},
     "output_type": "execute_result"
    }
   ],
   "source": [
    "incident_cevd_sort['i64_event'].fillna(0,inplace=True)\n",
    "incident_cevd_sort['i63_event'].fillna(0,inplace=True)\n",
    "incident_cevd_sort['i62_event'].fillna(0,inplace=True)\n",
    "incident_cevd_sort['i61_event'].fillna(0,inplace=True)\n",
    "incident_cevd_sort['i60_event'].fillna(0,inplace=True)\n",
    "incident_cevd_sort['h34_event'].fillna(0,inplace=True)\n",
    "incident_cevd_sort['g45_event'].fillna(0,inplace=True)\n",
    "incident_cevd_sort['g45_event'].head()"
   ]
  },
  {
   "cell_type": "code",
   "execution_count": 96,
   "id": "2684dbd4-aa54-439e-b67a-72f5b92b8268",
   "metadata": {
    "tags": []
   },
   "outputs": [
    {
     "data": {
      "text/plain": [
       "101    1\n",
       "189    1\n",
       "249    1\n",
       "387    1\n",
       "402    1\n",
       "Name: post_stroke, dtype: int64"
      ]
     },
     "execution_count": 96,
     "metadata": {},
     "output_type": "execute_result"
    }
   ],
   "source": [
    "#use this function to check if the incident cevd diagnoses are strokes\n",
    "def check_cevd_stroke(row):\n",
    "    return 1 if (row['i64_event'] + row['i63_event'] + row['i62_event'] + row['i61_event'] + row['i60_event'] + row['h34_event'] + row['g45_event']) > 0 else 0\n",
    "\n",
    "incident_cevd_sort['post_stroke'] = incident_cevd_sort.apply(check_cevd_stroke, axis=1)\n",
    "incident_cevd_sort['post_stroke'].head()"
   ]
  },
  {
   "cell_type": "code",
   "execution_count": 97,
   "id": "22335f7d-9191-400a-9574-76196da27fee",
   "metadata": {
    "tags": []
   },
   "outputs": [
    {
     "data": {
      "text/plain": [
       "101    0.0\n",
       "189    0.0\n",
       "249    1.0\n",
       "387    0.0\n",
       "402    0.0\n",
       "Name: g45_event, dtype: float64"
      ]
     },
     "execution_count": 97,
     "metadata": {},
     "output_type": "execute_result"
    }
   ],
   "source": [
    "incident_cevd_sort['g46_event'].fillna(0,inplace=True)\n",
    "incident_cevd_sort['i65_event'].fillna(0,inplace=True)\n",
    "incident_cevd_sort['i66_event'].fillna(0,inplace=True)\n",
    "incident_cevd_sort['i67_event'].fillna(0,inplace=True)\n",
    "incident_cevd_sort['i68_event'].fillna(0,inplace=True)\n",
    "incident_cevd_sort['i69_event'].fillna(0,inplace=True)\n",
    "incident_cevd_sort['g45_event'].head()"
   ]
  },
  {
   "cell_type": "code",
   "execution_count": 98,
   "id": "1c77fe0c-6791-4fed-a346-e0dcd8cb2866",
   "metadata": {
    "tags": []
   },
   "outputs": [
    {
     "data": {
      "text/plain": [
       "101    0\n",
       "189    0\n",
       "249    0\n",
       "387    0\n",
       "402    0\n",
       "Name: post_cevd_nonstroke, dtype: int64"
      ]
     },
     "execution_count": 98,
     "metadata": {},
     "output_type": "execute_result"
    }
   ],
   "source": [
    "#create a variable (yes/no) for non-stroke cevds\n",
    "def check_cevds_nonstroke(row):\n",
    "    return 1 if (row['g46_event'] + row['i65_event'] + row['i66_event'] + row['i67_event'] + row['i68_event'] + row['i69_event']) > 0 else 0\n",
    "\n",
    "# Apply the function to each row\n",
    "incident_cevd_sort['post_cevd_nonstroke'] = incident_cevd_sort.apply(check_cevds_nonstroke, axis=1)\n",
    "incident_cevd_sort['post_cevd_nonstroke'].head()"
   ]
  },
  {
   "cell_type": "code",
   "execution_count": 99,
   "id": "f67703f6-d8e6-4dbb-a976-f4a188843c0c",
   "metadata": {
    "tags": []
   },
   "outputs": [
    {
     "data": {
      "text/plain": [
       "814"
      ]
     },
     "execution_count": 99,
     "metadata": {},
     "output_type": "execute_result"
    }
   ],
   "source": [
    "incident_cevd_sort['post_cevd_nonstroke'].sum()"
   ]
  },
  {
   "cell_type": "code",
   "execution_count": null,
   "id": "0e8fd40d-e1a7-4567-88b2-803cb36d2dd0",
   "metadata": {},
   "outputs": [],
   "source": []
  },
  {
   "cell_type": "code",
   "execution_count": 100,
   "id": "34f0ca93-3a3d-44b2-b1d3-cdd57a4bd851",
   "metadata": {
    "tags": []
   },
   "outputs": [],
   "source": [
    "###stats for prior stroke"
   ]
  },
  {
   "cell_type": "code",
   "execution_count": 101,
   "id": "582930c6-6466-4b8f-80f0-9a9c819d5def",
   "metadata": {
    "tags": []
   },
   "outputs": [
    {
     "data": {
      "text/plain": [
       "814     1\n",
       "1217    0\n",
       "1717    0\n",
       "2118    0\n",
       "2152    0\n",
       "Name: g45_event, dtype: int64"
      ]
     },
     "execution_count": 101,
     "metadata": {},
     "output_type": "execute_result"
    }
   ],
   "source": [
    "prior_stroke_df['g46_time'].fillna(0,inplace=True)\n",
    "prior_stroke_df['i65_time'].fillna(0,inplace=True)\n",
    "prior_stroke_df['i66_time'].fillna(0,inplace=True)\n",
    "prior_stroke_df['i67_time'].fillna(0,inplace=True)\n",
    "prior_stroke_df['i68_time'].fillna(0,inplace=True)\n",
    "prior_stroke_df['i69_time'].fillna(0,inplace=True)\n",
    "prior_stroke_df['g45_time'].head()\n",
    "\n",
    "#create a prior g45 variable (yes/no)\n",
    "def filter_g45_prior(row):\n",
    "    return 1 if (row['g45_time'] > 0) else 0\n",
    "prior_stroke_df['g45_event'] = prior_stroke_df.apply(filter_g45_prior, axis=1)\n",
    "prior_stroke_df['g45_event'].head()"
   ]
  },
  {
   "cell_type": "code",
   "execution_count": 102,
   "id": "64c7c489-3c1f-40f4-902d-47bc9be9a657",
   "metadata": {
    "tags": []
   },
   "outputs": [
    {
     "data": {
      "text/plain": [
       "814     0\n",
       "1217    0\n",
       "1717    0\n",
       "2118    0\n",
       "2152    0\n",
       "Name: i69_event, dtype: int64"
      ]
     },
     "execution_count": 102,
     "metadata": {},
     "output_type": "execute_result"
    }
   ],
   "source": [
    "#create prior XXX variables (yes/no)\n",
    "def filter_g46_prior(row):\n",
    "    return 1 if (row['g46_time'] > 0) else 0\n",
    "prior_stroke_df['g46_event'] = prior_stroke_df.apply(filter_g46_prior, axis=1)\n",
    "prior_stroke_df['g46_event'].head()\n",
    "def filter_h34_prior(row):\n",
    "    return 1 if (row['h34_time'] > 0) else 0\n",
    "prior_stroke_df['h34_event'] = prior_stroke_df.apply(filter_h34_prior, axis=1)\n",
    "prior_stroke_df['h34_event'].head()\n",
    "def filter_i60_prior(row):\n",
    "    return 1 if (row['i60_time'] > 0) else 0\n",
    "prior_stroke_df['i60_event'] = prior_stroke_df.apply(filter_i60_prior, axis=1)\n",
    "prior_stroke_df['i60_event'].head()\n",
    "def filter_i61_prior(row):\n",
    "    return 1 if (row['i61_time'] > 0) else 0\n",
    "prior_stroke_df['i61_event'] = prior_stroke_df.apply(filter_i61_prior, axis=1)\n",
    "prior_stroke_df['i61_event'].head()\n",
    "def filter_i62_prior(row):\n",
    "    return 1 if (row['i62_time'] > 0) else 0\n",
    "prior_stroke_df['i62_event'] = prior_stroke_df.apply(filter_i62_prior, axis=1)\n",
    "prior_stroke_df['i62_event'].head()\n",
    "def filter_i63_prior(row):\n",
    "    return 1 if (row['i63_time'] > 0) else 0\n",
    "prior_stroke_df['i63_event'] = prior_stroke_df.apply(filter_i63_prior, axis=1)\n",
    "prior_stroke_df['i63_event'].head()\n",
    "def filter_i64_prior(row):\n",
    "    return 1 if (row['i64_time'] > 0) else 0\n",
    "prior_stroke_df['i64_event'] = prior_stroke_df.apply(filter_i64_prior, axis=1)\n",
    "prior_stroke_df['i64_event'].head()\n",
    "def filter_i65_prior(row):\n",
    "    return 1 if (row['i65_time'] > 0) else 0\n",
    "prior_stroke_df['i65_event'] = prior_stroke_df.apply(filter_i65_prior, axis=1)\n",
    "prior_stroke_df['i65_event'].head()\n",
    "def filter_i66_prior(row):\n",
    "    return 1 if (row['i66_time'] > 0) else 0\n",
    "prior_stroke_df['i66_event'] = prior_stroke_df.apply(filter_i66_prior, axis=1)\n",
    "prior_stroke_df['i66_event'].head()\n",
    "def filter_i67_prior(row):\n",
    "    return 1 if (row['i67_time'] > 0) else 0\n",
    "prior_stroke_df['i67_event'] = prior_stroke_df.apply(filter_i67_prior, axis=1)\n",
    "prior_stroke_df['i67_event'].head()\n",
    "def filter_i68_prior(row):\n",
    "    return 1 if (row['i68_time'] > 0) else 0\n",
    "prior_stroke_df['i68_event'] = prior_stroke_df.apply(filter_i68_prior, axis=1)\n",
    "prior_stroke_df['i68_event'].head()\n",
    "def filter_i69_prior(row):\n",
    "    return 1 if (row['i69_time'] > 0) else 0\n",
    "prior_stroke_df['i69_event'] = prior_stroke_df.apply(filter_i69_prior, axis=1)\n",
    "prior_stroke_df['i69_event'].head()"
   ]
  },
  {
   "cell_type": "code",
   "execution_count": 103,
   "id": "cc7f3a41-88a6-4870-9ec8-942c13b9be81",
   "metadata": {
    "tags": []
   },
   "outputs": [
    {
     "data": {
      "text/plain": [
       "814     0\n",
       "1217    0\n",
       "1717    0\n",
       "2118    0\n",
       "2152    1\n",
       "Name: cevd_priorstroke, dtype: int64"
      ]
     },
     "execution_count": 103,
     "metadata": {},
     "output_type": "execute_result"
    }
   ],
   "source": [
    "#check to see which non-stroke CeVDs patients in the post-stroke cohort have\n",
    "prior_stroke_df['cevd_priorstroke'] = prior_stroke_df.apply(check_cevds_nonstroke, axis=1)\n",
    "prior_stroke_df['cevd_priorstroke'].head()"
   ]
  },
  {
   "cell_type": "code",
   "execution_count": 104,
   "id": "6d7ae2cc-c340-487d-a796-e450f0c1b740",
   "metadata": {
    "tags": []
   },
   "outputs": [
    {
     "data": {
      "text/plain": [
       "187"
      ]
     },
     "execution_count": 104,
     "metadata": {},
     "output_type": "execute_result"
    }
   ],
   "source": [
    "prior_stroke_df['cevd_priorstroke'].sum()"
   ]
  },
  {
   "cell_type": "code",
   "execution_count": 105,
   "id": "d4dfef0c-99e7-4ec2-a963-c00e0919fdeb",
   "metadata": {
    "tags": []
   },
   "outputs": [
    {
     "data": {
      "text/plain": [
       "814     2162.0\n",
       "1217       0.0\n",
       "1717       0.0\n",
       "2118       0.0\n",
       "2152       0.0\n",
       "Name: g45_time, dtype: float64"
      ]
     },
     "execution_count": 105,
     "metadata": {},
     "output_type": "execute_result"
    }
   ],
   "source": [
    "prior_stroke_df['i64_time'].fillna(0,inplace=True)\n",
    "prior_stroke_df['i63_time'].fillna(0,inplace=True)\n",
    "prior_stroke_df['i62_time'].fillna(0,inplace=True)\n",
    "prior_stroke_df['i61_time'].fillna(0,inplace=True)\n",
    "prior_stroke_df['i60_time'].fillna(0,inplace=True)\n",
    "prior_stroke_df['h34_time'].fillna(0,inplace=True)\n",
    "prior_stroke_df['g45_time'].fillna(0,inplace=True)\n",
    "prior_stroke_df['g45_time'].head()"
   ]
  },
  {
   "cell_type": "code",
   "execution_count": 106,
   "id": "0c509eb8-0559-4e69-b787-31e11d21137e",
   "metadata": {
    "tags": []
   },
   "outputs": [
    {
     "data": {
      "text/plain": [
       "814     0\n",
       "1217    0\n",
       "1717    0\n",
       "2118    0\n",
       "2152    0\n",
       "Name: multi_pre_stroke, dtype: int64"
      ]
     },
     "execution_count": 106,
     "metadata": {},
     "output_type": "execute_result"
    }
   ],
   "source": [
    "#create a variable that tells you whether a participant has had multiple strokes\n",
    "prior_stroke_df['multi_pre_stroke'] = prior_stroke_df.apply(check_multiplestrokes, axis=1)\n",
    "prior_stroke_df['multi_pre_stroke'].head()"
   ]
  },
  {
   "cell_type": "code",
   "execution_count": 107,
   "id": "ff662045-891b-40fd-81cf-594a0baba3d8",
   "metadata": {
    "tags": []
   },
   "outputs": [
    {
     "data": {
      "text/plain": [
       "388"
      ]
     },
     "execution_count": 107,
     "metadata": {},
     "output_type": "execute_result"
    }
   ],
   "source": [
    "prior_stroke_df['multi_pre_stroke'].sum()"
   ]
  },
  {
   "cell_type": "code",
   "execution_count": 108,
   "id": "ee881b59-5ee9-4d2f-81d8-8d9a22a2e919",
   "metadata": {
    "tags": []
   },
   "outputs": [
    {
     "name": "stdout",
     "output_type": "stream",
     "text": [
      "Mean with exp cohort: 64.28627485638533\n",
      "Standard Deviation with exp cohort: 6.981243592469274\n",
      "P-value :\n",
      "Mean with control cohort: 66.2287103610081\n",
      "Standard Deviation with control cohort: 6.53406451757663\n",
      "P-value:\n"
     ]
    },
    {
     "data": {
      "text/plain": [
       "MannwhitneyuResult(statistic=2569609.0, pvalue=0.0)"
      ]
     },
     "execution_count": 108,
     "metadata": {},
     "output_type": "execute_result"
    }
   ],
   "source": [
    "######AGE\n",
    "split_df = prior_stroke_df[prior_stroke_df['dep_diag_yes'] == 1]\n",
    "mean = split_df['acc_age'].mean()\n",
    "std = split_df['acc_age'].std()\n",
    "\n",
    "print(\"Mean with exp cohort:\", mean)\n",
    "print(\"Standard Deviation with exp cohort:\", std)\n",
    "print('P-value :')\n",
    "stats.mannwhitneyu(x=prior_stroke_df['acc_age'], y=prior_stroke_df['dep_diag_yes'], alternative = 'two-sided')\n",
    "\n",
    "split_df = prior_stroke_df[prior_stroke_df['dep_diag_yes'] == 0]\n",
    "mean = split_df['acc_age'].mean()\n",
    "std = split_df['acc_age'].std()\n",
    "\n",
    "print(\"Mean with control cohort:\", mean)\n",
    "print(\"Standard Deviation with control cohort:\", std)\n",
    "print('P-value:')\n",
    "stats.mannwhitneyu(x=prior_stroke_df['acc_age'], y=prior_stroke_df['dep_diag_yes'], alternative = 'two-sided')"
   ]
  },
  {
   "cell_type": "code",
   "execution_count": 109,
   "id": "8acc2802-d91f-4995-8709-cec3de8951db",
   "metadata": {
    "tags": []
   },
   "outputs": [
    {
     "name": "stdout",
     "output_type": "stream",
     "text": [
      "exp Cohort Percent male: 41.29032258064516\n",
      "exp Cohort Total male: 64\n",
      "Control Cohort Percent male: 59.32320441988951\n",
      "Control Cohort Total male: 859\n",
      "MALE - Chi-square test statistic: 17.90935280667811\n",
      "MALE - P-value: 2.31679760905926e-05\n"
     ]
    }
   ],
   "source": [
    "#get male/female data\n",
    "percent_male_d = prior_stroke_df.loc[prior_stroke_df['dep_diag_yes'] == 1, 'male'].mean() * 100\n",
    "male_sum_d = prior_stroke_df.loc[prior_stroke_df['dep_diag_yes'] == 1, 'male'].sum()\n",
    "print('exp Cohort Percent male:', percent_male_d)\n",
    "print('exp Cohort Total male:', male_sum_d)\n",
    "percent_male_c = prior_stroke_df.loc[prior_stroke_df['dep_diag_yes'] == 0, 'male'].mean() * 100\n",
    "male_sum_c = prior_stroke_df.loc[prior_stroke_df['dep_diag_yes'] == 0, 'male'].sum()\n",
    "print('Control Cohort Percent male:', percent_male_c)\n",
    "print('Control Cohort Total male:', male_sum_c)\n",
    "data = pd.crosstab(prior_stroke_df['male'], prior_stroke_df['dep_diag_yes']).to_numpy()\n",
    "# chi-square test for independence for male data\n",
    "chi2_stat, p_val, dof, expected = chi2_contingency(data)\n",
    "print('MALE - Chi-square test statistic:', chi2_stat)\n",
    "print('MALE - P-value:', p_val)"
   ]
  },
  {
   "cell_type": "code",
   "execution_count": 110,
   "id": "36c1cacf-c01d-4216-8656-3605df926cc6",
   "metadata": {
    "tags": []
   },
   "outputs": [
    {
     "name": "stdout",
     "output_type": "stream",
     "text": [
      "exp Cohort Percent : 98.70967741935483\n",
      "exp Cohort Total : 153.0\n",
      "Control Cohort Percent : 97.85911602209944\n",
      "Control Cohort Total : 1417.0\n",
      "MALE - Chi-square test statistic: 0.1690858012441164\n",
      "MALE - P-value: 0.6809255662152194\n"
     ]
    }
   ],
   "source": [
    "#get ETHNICITY data\n",
    "percent_male_d = prior_stroke_df.loc[prior_stroke_df['dep_diag_yes'] == 1, 'white_yes'].mean() * 100\n",
    "male_sum_d = prior_stroke_df.loc[prior_stroke_df['dep_diag_yes'] == 1, 'white_yes'].sum()\n",
    "print('exp Cohort Percent :', percent_male_d)\n",
    "print('exp Cohort Total :', male_sum_d)\n",
    "percent_male_c = prior_stroke_df.loc[prior_stroke_df['dep_diag_yes'] == 0, 'white_yes'].mean() * 100\n",
    "male_sum_c = prior_stroke_df.loc[prior_stroke_df['dep_diag_yes'] == 0, 'white_yes'].sum()\n",
    "print('Control Cohort Percent :', percent_male_c)\n",
    "print('Control Cohort Total :', male_sum_c)\n",
    "data = pd.crosstab(prior_stroke_df['white_yes'], prior_stroke_df['dep_diag_yes']).to_numpy()\n",
    "# chi-square test for independence for male data\n",
    "chi2_stat, p_val, dof, expected = chi2_contingency(data)\n",
    "print('MALE - Chi-square test statistic:', chi2_stat)\n",
    "print('MALE - P-value:', p_val)"
   ]
  },
  {
   "cell_type": "code",
   "execution_count": 111,
   "id": "173955c9-9ac1-4d7f-b7e0-717cc75599fb",
   "metadata": {
    "tags": []
   },
   "outputs": [
    {
     "name": "stdout",
     "output_type": "stream",
     "text": [
      "Mean with exp cohort: 9.153022451612904\n",
      "Standard Deviation with exp cohort: 1.84883975368525\n",
      "P-value :\n",
      "Mean with control cohort: 9.016240939226519\n",
      "Standard Deviation with control cohort: 1.76811241172129\n",
      "P-value:\n"
     ]
    },
    {
     "data": {
      "text/plain": [
       "MannwhitneyuResult(statistic=2569454.0, pvalue=0.0)"
      ]
     },
     "execution_count": 111,
     "metadata": {},
     "output_type": "execute_result"
    }
   ],
   "source": [
    "split_df = prior_stroke_df[prior_stroke_df['dep_diag_yes'] == 1]\n",
    "mean = split_df['pa_sleep_convert_hr'].mean()\n",
    "std = split_df['pa_sleep_convert_hr'].std()\n",
    "\n",
    "print(\"Mean with exp cohort:\", mean)\n",
    "print(\"Standard Deviation with exp cohort:\", std)\n",
    "print('P-value :')\n",
    "stats.mannwhitneyu(x=prior_stroke_df['pa_sleep_convert_hr'], y=prior_stroke_df['dep_diag_yes'], alternative = 'two-sided')\n",
    "split_df = prior_stroke_df[prior_stroke_df['dep_diag_yes'] == 0]\n",
    "mean = split_df['pa_sleep_convert_hr'].mean()\n",
    "std = split_df['pa_sleep_convert_hr'].std()\n",
    "\n",
    "print(\"Mean with control cohort:\", mean)\n",
    "print(\"Standard Deviation with control cohort:\", std)\n",
    "print('P-value:')\n",
    "stats.mannwhitneyu(x=prior_stroke_df['pa_sleep_convert_hr'], y=prior_stroke_df['dep_diag_yes'], alternative = 'two-sided')"
   ]
  },
  {
   "cell_type": "code",
   "execution_count": 112,
   "id": "b1d9e046-f621-47be-be92-fe2e1d2d777a",
   "metadata": {
    "tags": []
   },
   "outputs": [
    {
     "name": "stdout",
     "output_type": "stream",
     "text": [
      "Mean with exp cohort: 281.42365935483866\n",
      "Standard Deviation with exp cohort: 106.87103530612589\n",
      "P-value :\n",
      "Mean with control cohort: 278.19335138121545\n",
      "Standard Deviation with control cohort: 102.43841447014316\n",
      "P-value:\n"
     ]
    },
    {
     "data": {
      "text/plain": [
       "MannwhitneyuResult(statistic=2564335.0, pvalue=0.0)"
      ]
     },
     "execution_count": 112,
     "metadata": {},
     "output_type": "execute_result"
    }
   ],
   "source": [
    "split_df = prior_stroke_df[prior_stroke_df['dep_diag_yes'] == 1]\n",
    "mean = split_df['pa_light_convert'].mean()\n",
    "std = split_df['pa_light_convert'].std()\n",
    "\n",
    "print(\"Mean with exp cohort:\", mean)\n",
    "print(\"Standard Deviation with exp cohort:\", std)\n",
    "print('P-value :')\n",
    "stats.mannwhitneyu(x=prior_stroke_df['pa_light_convert'], y=prior_stroke_df['dep_diag_yes'], alternative = 'two-sided')\n",
    "split_df = prior_stroke_df[prior_stroke_df['dep_diag_yes'] == 0]\n",
    "mean = split_df['pa_light_convert'].mean()\n",
    "std = split_df['pa_light_convert'].std()\n",
    "\n",
    "print(\"Mean with control cohort:\", mean)\n",
    "print(\"Standard Deviation with control cohort:\", std)\n",
    "print('P-value:')\n",
    "stats.mannwhitneyu(x=prior_stroke_df['pa_light_convert'], y=prior_stroke_df['dep_diag_yes'], alternative = 'two-sided')"
   ]
  },
  {
   "cell_type": "code",
   "execution_count": 113,
   "id": "74f62ce1-ac14-4129-9ee6-7fdb1b5fd900",
   "metadata": {
    "tags": []
   },
   "outputs": [
    {
     "name": "stdout",
     "output_type": "stream",
     "text": [
      "Mean with exp cohort: 7.831604065399913\n",
      "Standard Deviation with exp cohort: 6.412880205105883\n",
      "P-value :\n",
      "Mean with control cohort: 9.798374706728222\n",
      "Standard Deviation with control cohort: 6.412880205105883\n",
      "P-value:\n"
     ]
    },
    {
     "data": {
      "text/plain": [
       "MannwhitneyuResult(statistic=2550234.0, pvalue=0.0)"
      ]
     },
     "execution_count": 113,
     "metadata": {},
     "output_type": "execute_result"
    }
   ],
   "source": [
    "prior_stroke_df['stroke_t2e'] = pd.to_numeric(prior_stroke_df['stroke_t2e'])\n",
    "prior_stroke_df['stroke_t2e'] = (prior_stroke_df['stroke_t2e'])/365\n",
    "split_df = prior_stroke_df[prior_stroke_df['dep_diag_yes'] == 1]\n",
    "mean = split_df['stroke_t2e'].mean()\n",
    "std = split_df['stroke_t2e'].std()\n",
    "\n",
    "print(\"Mean with exp cohort:\", mean)\n",
    "print(\"Standard Deviation with exp cohort:\", std)\n",
    "print('P-value :')\n",
    "stats.mannwhitneyu(x=prior_stroke_df['stroke_t2e'], y=prior_stroke_df['dep_diag_yes'], alternative = 'two-sided')\n",
    "split_df = prior_stroke_df[prior_stroke_df['dep_diag_yes'] == 0]\n",
    "mean = split_df['stroke_t2e'].mean()\n",
    "age = split_df['stroke_t2e'].std()\n",
    "\n",
    "print(\"Mean with control cohort:\", mean)\n",
    "print(\"Standard Deviation with control cohort:\", std)\n",
    "print('P-value:')\n",
    "stats.mannwhitneyu(x=prior_stroke_df['stroke_t2e'], y=prior_stroke_df['dep_diag_yes'], alternative = 'two-sided')"
   ]
  },
  {
   "cell_type": "code",
   "execution_count": 114,
   "id": "0be2a39e-8332-4cba-8fd0-1a206f6c373a",
   "metadata": {
    "tags": []
   },
   "outputs": [
    {
     "name": "stdout",
     "output_type": "stream",
     "text": [
      "Mean with exp cohort: 580.1202580645161\n",
      "Standard Deviation with exp cohort: 114.36291161370517\n",
      "P-value :\n",
      "Mean with control cohort: 583.566076243094\n",
      "Standard Deviation with control cohort: 112.81497916863921\n",
      "P-value:\n"
     ]
    },
    {
     "data": {
      "text/plain": [
       "MannwhitneyuResult(statistic=2569609.0, pvalue=0.0)"
      ]
     },
     "execution_count": 114,
     "metadata": {},
     "output_type": "execute_result"
    }
   ],
   "source": [
    "split_df = prior_stroke_df[prior_stroke_df['dep_diag_yes'] == 1]\n",
    "mean = split_df['pa_sed_convert'].mean()\n",
    "std = split_df['pa_sed_convert'].std()\n",
    "\n",
    "print(\"Mean with exp cohort:\", mean)\n",
    "print(\"Standard Deviation with exp cohort:\", std)\n",
    "print('P-value :')\n",
    "stats.mannwhitneyu(x=prior_stroke_df['pa_sed_convert'], y=prior_stroke_df['dep_diag_yes'], alternative = 'two-sided')\n",
    "split_df = prior_stroke_df[prior_stroke_df['dep_diag_yes'] == 0]\n",
    "mean = split_df['pa_sed_convert'].mean()\n",
    "std = split_df['pa_sed_convert'].std()\n",
    "\n",
    "print(\"Mean with control cohort:\", mean)\n",
    "print(\"Standard Deviation with control cohort:\", std)\n",
    "print('P-value:')\n",
    "stats.mannwhitneyu(x=prior_stroke_df['pa_sed_convert'], y=prior_stroke_df['dep_diag_yes'], alternative = 'two-sided')"
   ]
  },
  {
   "cell_type": "code",
   "execution_count": 115,
   "id": "252b38de-28a1-4d57-9c6d-8bbc776ace31",
   "metadata": {
    "tags": []
   },
   "outputs": [
    {
     "name": "stdout",
     "output_type": "stream",
     "text": [
      "Mean with exp cohort: 29.273620645161287\n",
      "Standard Deviation with exp cohort: 31.16490286699417\n",
      "P-value :\n",
      "Mean with control cohort: 37.26568839779005\n",
      "Standard Deviation with control cohort: 32.9992801038225\n",
      "P-value:\n"
     ]
    },
    {
     "data": {
      "text/plain": [
       "MannwhitneyuResult(statistic=2511391.0, pvalue=0.0)"
      ]
     },
     "execution_count": 115,
     "metadata": {},
     "output_type": "execute_result"
    }
   ],
   "source": [
    "split_df = prior_stroke_df[prior_stroke_df['dep_diag_yes'] == 1]\n",
    "mean = split_df['pa_mv_convert'].mean()\n",
    "std = split_df['pa_mv_convert'].std()\n",
    "\n",
    "print(\"Mean with exp cohort:\", mean)\n",
    "print(\"Standard Deviation with exp cohort:\", std)\n",
    "print('P-value :')\n",
    "stats.mannwhitneyu(x=prior_stroke_df['pa_mv_convert'], y=prior_stroke_df['dep_diag_yes'], alternative = 'two-sided')\n",
    "split_df = prior_stroke_df[prior_stroke_df['dep_diag_yes'] == 0]\n",
    "mean = split_df['pa_mv_convert'].mean()\n",
    "std = split_df['pa_mv_convert'].std()\n",
    "\n",
    "print(\"Mean with control cohort:\", mean)\n",
    "print(\"Standard Deviation with control cohort:\", std)\n",
    "print('P-value:')\n",
    "stats.mannwhitneyu(x=prior_stroke_df['pa_mv_convert'], y=prior_stroke_df['dep_diag_yes'], alternative = 'two-sided')"
   ]
  },
  {
   "cell_type": "code",
   "execution_count": 116,
   "id": "7d59a494-6576-4f88-87c4-8627db0f26d1",
   "metadata": {
    "tags": []
   },
   "outputs": [
    {
     "name": "stdout",
     "output_type": "stream",
     "text": [
      "Mean with exp cohort: 1.8161908970393286\n",
      "Standard Deviation with exp cohort: 0.6825283846970494\n",
      "P-value :\n",
      "Mean with control cohort: 1.815986150003784\n",
      "Standard Deviation with control cohort: 0.6456030872899982\n",
      "P-value:\n"
     ]
    },
    {
     "data": {
      "text/plain": [
       "MannwhitneyuResult(statistic=2542406.5, pvalue=0.0)"
      ]
     },
     "execution_count": 116,
     "metadata": {},
     "output_type": "execute_result"
    }
   ],
   "source": [
    "split_df = prior_stroke_df[prior_stroke_df['dep_diag_yes'] == 1]\n",
    "mean = split_df['study_t2e'].mean()\n",
    "std = split_df['study_t2e'].std()\n",
    "\n",
    "print(\"Mean with exp cohort:\", mean)\n",
    "print(\"Standard Deviation with exp cohort:\", std)\n",
    "print('P-value :')\n",
    "stats.mannwhitneyu(x=prior_stroke_df['study_t2e'], y=prior_stroke_df['dep_diag_yes'], alternative = 'two-sided')\n",
    "split_df = prior_stroke_df[prior_stroke_df['dep_diag_yes'] == 0]\n",
    "mean = split_df['study_t2e'].mean()\n",
    "std = split_df['study_t2e'].std()\n",
    "\n",
    "print(\"Mean with control cohort:\", mean)\n",
    "print(\"Standard Deviation with control cohort:\", std)\n",
    "print('P-value:')\n",
    "stats.mannwhitneyu(x=prior_stroke_df['study_t2e'], y=prior_stroke_df['dep_diag_yes'], alternative = 'two-sided')"
   ]
  },
  {
   "cell_type": "code",
   "execution_count": 117,
   "id": "fad67257-04b7-44e7-ac54-e9f8788c6e95",
   "metadata": {
    "tags": []
   },
   "outputs": [],
   "source": [
    "#prior_stroke_df['cevd_t2e'] = prior_stroke_df[[ 'g45_time', 'h34_time', 'i60_time', 'i61_time', 'i62_time', 'i63_time', 'i64_time']].min(axis=1)\n",
    "#prior_stroke_df['cevd_t2e'] = prior_stroke_df['cevd_t2e'].abs()"
   ]
  },
  {
   "cell_type": "code",
   "execution_count": 118,
   "id": "4b606d75-f5c2-4d1f-8808-05fc67f96e12",
   "metadata": {
    "tags": []
   },
   "outputs": [
    {
     "name": "stdout",
     "output_type": "stream",
     "text": [
      "exp Cohort Percent male: 100.0\n",
      "exp Cohort Total male: 155\n",
      "MALE - Chi-square test statistic: 0.0\n",
      "MALE - P-value: 1.0\n"
     ]
    }
   ],
   "source": [
    "#get heart disease data\n",
    "percent_male_d = prior_stroke_df.loc[prior_stroke_df['dep_diag_yes'] == 1, 'card_sum_filter'].mean() * 100\n",
    "male_sum_d = prior_stroke_df.loc[prior_stroke_df['dep_diag_yes'] == 1, 'card_sum_filter'].sum()\n",
    "print('exp Cohort Percent male:', percent_male_d)\n",
    "print('exp Cohort Total male:', male_sum_d)\n",
    "percent_male_c = prior_stroke_df.loc[prior_stroke_df['dep_diag_yes'] == 0, 'card_sum_filter'].mean() * 100\n",
    "male_sum_c = prior_stroke_df.loc[prior_stroke_df['dep_diag_yes'] == 0, 'card_sum_filter'].sum()\n",
    "data = pd.crosstab(prior_stroke_df['card_sum_filter'], prior_stroke_df['dep_diag_yes']).to_numpy()\n",
    "# chi-square test for independence for male data\n",
    "chi2_stat, p_val, dof, expected = chi2_contingency(data)\n",
    "print('MALE - Chi-square test statistic:', chi2_stat)\n",
    "print('MALE - P-value:', p_val)"
   ]
  },
  {
   "cell_type": "code",
   "execution_count": 119,
   "id": "ac7df1bb-8fe7-4b9c-9862-645b4c1373a3",
   "metadata": {
    "tags": []
   },
   "outputs": [
    {
     "name": "stdout",
     "output_type": "stream",
     "text": [
      "exp Cohort Percent male: 13.548387096774196\n",
      "exp Cohort Total male: 21\n",
      "Control Cohort Percent male: 8.977900552486188\n",
      "Control Cohort Total male: 130\n",
      "MALE - Chi-square test statistic: 2.913067530020688\n",
      "MALE - P-value: 0.08786460915452814\n"
     ]
    }
   ],
   "source": [
    "#get diabetes data\n",
    "percent_male_d = prior_stroke_df.loc[prior_stroke_df['dep_diag_yes'] == 1, 'diab_yes'].mean() * 100\n",
    "male_sum_d = prior_stroke_df.loc[prior_stroke_df['dep_diag_yes'] == 1, 'diab_yes'].sum()\n",
    "print('exp Cohort Percent male:', percent_male_d)\n",
    "print('exp Cohort Total male:', male_sum_d)\n",
    "percent_male_c = prior_stroke_df.loc[prior_stroke_df['dep_diag_yes'] == 0, 'diab_yes'].mean() * 100\n",
    "male_sum_c = prior_stroke_df.loc[prior_stroke_df['dep_diag_yes'] == 0, 'diab_yes'].sum()\n",
    "print('Control Cohort Percent male:', percent_male_c)\n",
    "print('Control Cohort Total male:', male_sum_c)\n",
    "data = pd.crosstab(prior_stroke_df['diab_yes'], prior_stroke_df['dep_diag_yes']).to_numpy()\n",
    "# chi-square test for independence for male data\n",
    "chi2_stat, p_val, dof, expected = chi2_contingency(data)\n",
    "print('MALE - Chi-square test statistic:', chi2_stat)\n",
    "print('MALE - P-value:', p_val)"
   ]
  },
  {
   "cell_type": "code",
   "execution_count": 120,
   "id": "58eb2a72-5f5c-439b-8dd7-09139e975cd6",
   "metadata": {
    "tags": []
   },
   "outputs": [
    {
     "name": "stdout",
     "output_type": "stream",
     "text": [
      "exp Cohort Percent male: 49.03225806451613\n",
      "exp Cohort Total male: 76\n",
      "Control Cohort Percent male: 42.472375690607734\n",
      "Control Cohort Total male: 615\n",
      "MALE - Chi-square test statistic: 2.1965062334036114\n",
      "MALE - P-value: 0.13832393676991964\n"
     ]
    }
   ],
   "source": [
    "#get hyperlipidemia data\n",
    "percent_male_d = prior_stroke_df.loc[prior_stroke_df['dep_diag_yes'] == 1, 'hchol_yes'].mean() * 100\n",
    "male_sum_d = prior_stroke_df.loc[prior_stroke_df['dep_diag_yes'] == 1, 'hchol_yes'].sum()\n",
    "print('exp Cohort Percent male:', percent_male_d)\n",
    "print('exp Cohort Total male:', male_sum_d)\n",
    "percent_male_c = prior_stroke_df.loc[prior_stroke_df['dep_diag_yes'] == 0, 'hchol_yes'].mean() * 100\n",
    "male_sum_c = prior_stroke_df.loc[prior_stroke_df['dep_diag_yes'] == 0, 'hchol_yes'].sum()\n",
    "print('Control Cohort Percent male:', percent_male_c)\n",
    "print('Control Cohort Total male:', male_sum_c)\n",
    "data = pd.crosstab(prior_stroke_df['hchol_yes'], prior_stroke_df['dep_diag_yes']).to_numpy()\n",
    "# chi-square test for independence for male data\n",
    "chi2_stat, p_val, dof, expected = chi2_contingency(data)\n",
    "print('MALE - Chi-square test statistic:', chi2_stat)\n",
    "print('MALE - P-value:', p_val)"
   ]
  },
  {
   "cell_type": "code",
   "execution_count": 121,
   "id": "1c06495b-b62e-410f-8a84-70c149e78d38",
   "metadata": {
    "tags": []
   },
   "outputs": [
    {
     "name": "stdout",
     "output_type": "stream",
     "text": [
      "exp Cohort Percent male: 100.0\n",
      "exp Cohort Total male: 155\n",
      "Control Cohort Percent male: 100.0\n",
      "Control Cohort Total male: 1448\n",
      "MALE - Chi-square test statistic: 0.0\n",
      "MALE - P-value: 1.0\n"
     ]
    }
   ],
   "source": [
    "#get hypertension data\n",
    "percent_male_d = prior_stroke_df.loc[prior_stroke_df['dep_diag_yes'] == 1, 'htn_yes'].mean() * 100\n",
    "male_sum_d = prior_stroke_df.loc[prior_stroke_df['dep_diag_yes'] == 1, 'htn_yes'].sum()\n",
    "print('exp Cohort Percent male:', percent_male_d)\n",
    "print('exp Cohort Total male:', male_sum_d)\n",
    "percent_male_c = prior_stroke_df.loc[prior_stroke_df['dep_diag_yes'] == 0, 'htn_yes'].mean() * 100\n",
    "male_sum_c = prior_stroke_df.loc[prior_stroke_df['dep_diag_yes'] == 0, 'htn_yes'].sum()\n",
    "print('Control Cohort Percent male:', percent_male_c)\n",
    "print('Control Cohort Total male:', male_sum_c)\n",
    "data = pd.crosstab(prior_stroke_df['htn_yes'], prior_stroke_df['dep_diag_yes']).to_numpy()\n",
    "# chi-square test for independence for male data\n",
    "chi2_stat, p_val, dof, expected = chi2_contingency(data)\n",
    "print('MALE - Chi-square test statistic:', chi2_stat)\n",
    "print('MALE - P-value:', p_val)"
   ]
  },
  {
   "cell_type": "code",
   "execution_count": 122,
   "id": "7278352e-f6b7-4447-9e38-e8f2777cbade",
   "metadata": {
    "tags": []
   },
   "outputs": [
    {
     "name": "stdout",
     "output_type": "stream",
     "text": [
      "exp Cohort Percent male: 10.967741935483872\n",
      "exp Cohort Total male: 17\n",
      "Control Cohort Percent male: 11.740331491712707\n",
      "Control Cohort Total male: 170\n",
      "MALE - Chi-square test statistic: 0.02345449482869613\n",
      "MALE - P-value: 0.8782810876866242\n"
     ]
    }
   ],
   "source": [
    "#get prior non-stroke cevd diagnosis data\n",
    "percent_male_d = prior_stroke_df.loc[prior_stroke_df['dep_diag_yes'] == 1, 'cevd_priorstroke'].mean() * 100\n",
    "male_sum_d = prior_stroke_df.loc[prior_stroke_df['dep_diag_yes'] == 1, 'cevd_priorstroke'].sum()\n",
    "print('exp Cohort Percent male:', percent_male_d)\n",
    "print('exp Cohort Total male:', male_sum_d)\n",
    "percent_male_c = prior_stroke_df.loc[prior_stroke_df['dep_diag_yes'] == 0, 'cevd_priorstroke'].mean() * 100\n",
    "male_sum_c = prior_stroke_df.loc[prior_stroke_df['dep_diag_yes'] == 0, 'cevd_priorstroke'].sum()\n",
    "print('Control Cohort Percent male:', percent_male_c)\n",
    "print('Control Cohort Total male:', male_sum_c)\n",
    "data = pd.crosstab(prior_stroke_df['cevd_priorstroke'], prior_stroke_df['dep_diag_yes']).to_numpy()\n",
    "# chi-square test for independence for male data\n",
    "chi2_stat, p_val, dof, expected = chi2_contingency(data)\n",
    "print('MALE - Chi-square test statistic:', chi2_stat)\n",
    "print('MALE - P-value:', p_val)"
   ]
  },
  {
   "cell_type": "code",
   "execution_count": 123,
   "id": "ebc81c28-f4e9-4293-a428-9b1bd79540bc",
   "metadata": {
    "tags": []
   },
   "outputs": [
    {
     "name": "stdout",
     "output_type": "stream",
     "text": [
      "exp Cohort Percent male: 25.806451612903224\n",
      "exp Cohort Total male: 40\n",
      "Control Cohort Percent male: 24.03314917127072\n",
      "Control Cohort Total male: 348\n",
      "MALE - Chi-square test statistic: 0.1530628129166109\n",
      "MALE - P-value: 0.6956254404490436\n"
     ]
    }
   ],
   "source": [
    "#get multiple stroke data\n",
    "percent_male_d = prior_stroke_df.loc[prior_stroke_df['dep_diag_yes'] == 1, 'multi_pre_stroke'].mean() * 100\n",
    "male_sum_d = prior_stroke_df.loc[prior_stroke_df['dep_diag_yes'] == 1, 'multi_pre_stroke'].sum()\n",
    "print('exp Cohort Percent male:', percent_male_d)\n",
    "print('exp Cohort Total male:', male_sum_d)\n",
    "percent_male_c = prior_stroke_df.loc[prior_stroke_df['dep_diag_yes'] == 0, 'multi_pre_stroke'].mean() * 100\n",
    "male_sum_c = prior_stroke_df.loc[prior_stroke_df['dep_diag_yes'] == 0, 'multi_pre_stroke'].sum()\n",
    "print('Control Cohort Percent male:', percent_male_c)\n",
    "print('Control Cohort Total male:', male_sum_c)\n",
    "data = pd.crosstab(prior_stroke_df['multi_pre_stroke'], prior_stroke_df['dep_diag_yes']).to_numpy()\n",
    "# chi-square test for independence for male data\n",
    "chi2_stat, p_val, dof, expected = chi2_contingency(data)\n",
    "print('MALE - Chi-square test statistic:', chi2_stat)\n",
    "print('MALE - P-value:', p_val)"
   ]
  },
  {
   "cell_type": "code",
   "execution_count": 124,
   "id": "65a3c8e6-c7c3-4132-9680-1242b9bfd0a2",
   "metadata": {
    "tags": []
   },
   "outputs": [
    {
     "data": {
      "text/plain": [
       "814     0\n",
       "1217    1\n",
       "1717    1\n",
       "2118    0\n",
       "2152    0\n",
       "2334    0\n",
       "2623    1\n",
       "2720    1\n",
       "3508    1\n",
       "3536    1\n",
       "Name: sleep_filter, dtype: int64"
      ]
     },
     "execution_count": 124,
     "metadata": {},
     "output_type": "execute_result"
    }
   ],
   "source": [
    "def filter_sleep(value):\n",
    "    return 1 if 7 <= value <= 9 else 0\n",
    "\n",
    "prior_stroke_df['sleep_filter'] = prior_stroke_df['pa_sleep_convert_hr'].apply(filter_sleep)\n",
    "prior_stroke_df['sleep_filter'].head(10)"
   ]
  },
  {
   "cell_type": "code",
   "execution_count": 125,
   "id": "009f889c-a3f6-42f4-a3f5-1380cb994340",
   "metadata": {
    "tags": []
   },
   "outputs": [
    {
     "name": "stdout",
     "output_type": "stream",
     "text": [
      "exp Cohort Percent male: 45.806451612903224\n",
      "exp Cohort Total male: 71\n",
      "Control Cohort Percent male: 50.82872928176796\n",
      "Control Cohort Total male: 736\n",
      "MALE - Chi-square test statistic: 1.2189376796861087\n",
      "MALE - P-value: 0.26956923358449447\n"
     ]
    }
   ],
   "source": [
    "#get sleep filter data\n",
    "percent_male_d = prior_stroke_df.loc[prior_stroke_df['dep_diag_yes'] == 1, 'sleep_filter'].mean() * 100\n",
    "male_sum_d = prior_stroke_df.loc[prior_stroke_df['dep_diag_yes'] == 1, 'sleep_filter'].sum()\n",
    "print('exp Cohort Percent male:', percent_male_d)\n",
    "print('exp Cohort Total male:', male_sum_d)\n",
    "percent_male_c = prior_stroke_df.loc[prior_stroke_df['dep_diag_yes'] == 0, 'sleep_filter'].mean() * 100\n",
    "male_sum_c = prior_stroke_df.loc[prior_stroke_df['dep_diag_yes'] == 0, 'sleep_filter'].sum()\n",
    "print('Control Cohort Percent male:', percent_male_c)\n",
    "print('Control Cohort Total male:', male_sum_c)\n",
    "data = pd.crosstab(prior_stroke_df['sleep_filter'], prior_stroke_df['dep_diag_yes']).to_numpy()\n",
    "# chi-square test for independence for male data\n",
    "chi2_stat, p_val, dof, expected = chi2_contingency(data)\n",
    "print('MALE - Chi-square test statistic:', chi2_stat)\n",
    "print('MALE - P-value:', p_val)"
   ]
  },
  {
   "cell_type": "code",
   "execution_count": 126,
   "id": "71fa2bde-5ccd-49a0-b6fe-58296a3b6817",
   "metadata": {
    "tags": []
   },
   "outputs": [],
   "source": [
    "#####control baseline data"
   ]
  },
  {
   "cell_type": "code",
   "execution_count": 127,
   "id": "f063898c-d2fe-42be-9494-3b991b729879",
   "metadata": {
    "tags": []
   },
   "outputs": [
    {
     "name": "stdout",
     "output_type": "stream",
     "text": [
      "Mean with exp cohort: 60.32192185309029\n",
      "Standard Deviation with exp cohort: 7.613194461381814\n",
      "P-value :\n",
      "Mean with control cohort: 61.74310072867196\n",
      "Standard Deviation with control cohort: 7.731655971130873\n",
      "P-value:\n"
     ]
    },
    {
     "data": {
      "text/plain": [
       "MannwhitneyuResult(statistic=4717629225.0, pvalue=0.0)"
      ]
     },
     "execution_count": 127,
     "metadata": {},
     "output_type": "execute_result"
    }
   ],
   "source": [
    "subset = control_df[control_df['dep_diag_yes'] == 1]\n",
    "mean_age = subset['acc_age'].mean()\n",
    "std_dev_age = subset['acc_age'].std()\n",
    "\n",
    "print(\"Mean with exp cohort:\", mean_age)\n",
    "print(\"Standard Deviation with exp cohort:\", std_dev_age)\n",
    "print('P-value :')\n",
    "stats.mannwhitneyu(x=control_df['acc_age'], y=control_df['dep_diag_yes'], alternative = 'two-sided')\n",
    "subset = control_df[control_df['dep_diag_yes'] == 0]\n",
    "mean_age = subset['acc_age'].mean()\n",
    "std_dev_age = subset['acc_age'].std()\n",
    "\n",
    "print(\"Mean with control cohort:\", mean_age)\n",
    "print(\"Standard Deviation with control cohort:\", std_dev_age)\n",
    "print('P-value:')\n",
    "stats.mannwhitneyu(x=control_df['acc_age'], y=control_df['dep_diag_yes'], alternative = 'two-sided')"
   ]
  },
  {
   "cell_type": "code",
   "execution_count": 128,
   "id": "5c42777f-beeb-4a46-9665-a6283f77f58b",
   "metadata": {
    "tags": []
   },
   "outputs": [
    {
     "name": "stdout",
     "output_type": "stream",
     "text": [
      "Mean with exp cohort: 9.094625\n",
      "Standard Deviation with exp cohort: 1.7994895003226568\n",
      "P-value :\n",
      "Mean with control cohort: 8.874646937014667\n",
      "Standard Deviation with control cohort: 1.6435071725147052\n",
      "P-value:\n"
     ]
    },
    {
     "data": {
      "text/plain": [
       "MannwhitneyuResult(statistic=4716012144.0, pvalue=0.0)"
      ]
     },
     "execution_count": 128,
     "metadata": {},
     "output_type": "execute_result"
    }
   ],
   "source": [
    "subset = control_df[control_df['dep_diag_yes'] == 1]\n",
    "mean_age = subset['pa_sleep_convert_hr'].mean()\n",
    "std_dev_age = subset['pa_sleep_convert_hr'].std()\n",
    "\n",
    "print(\"Mean with exp cohort:\", mean_age)\n",
    "print(\"Standard Deviation with exp cohort:\", std_dev_age)\n",
    "print('P-value :')\n",
    "stats.mannwhitneyu(x=control_df['pa_sleep_convert_hr'], y=control_df['dep_diag_yes'], alternative = 'two-sided')\n",
    "subset = control_df[control_df['dep_diag_yes'] == 0]\n",
    "mean_age = subset['pa_sleep_convert_hr'].mean()\n",
    "std_dev_age = subset['pa_sleep_convert_hr'].std()\n",
    "\n",
    "print(\"Mean with control cohort:\", mean_age)\n",
    "print(\"Standard Deviation with control cohort:\", std_dev_age)\n",
    "print('P-value:')\n",
    "filtered_control_df = control_df.dropna(subset=['pa_sleep_convert_hr'])\n",
    "stats.mannwhitneyu(x=filtered_control_df['pa_sleep_convert_hr'], y=filtered_control_df['dep_diag_yes'], alternative = 'two-sided')"
   ]
  },
  {
   "cell_type": "code",
   "execution_count": 129,
   "id": "10339234-ad5c-4e7f-950e-747338d012b8",
   "metadata": {
    "tags": []
   },
   "outputs": [
    {
     "name": "stdout",
     "output_type": "stream",
     "text": [
      "Mean with exp cohort: 564.309162992126\n",
      "Standard Deviation with exp cohort: 116.24114508685189\n",
      "P-value :\n",
      "Mean with control cohort: 564.3863178602243\n",
      "Standard Deviation with control cohort: 112.71796524886027\n",
      "P-value:\n"
     ]
    },
    {
     "data": {
      "text/plain": [
       "MannwhitneyuResult(statistic=4716506733.0, pvalue=0.0)"
      ]
     },
     "execution_count": 129,
     "metadata": {},
     "output_type": "execute_result"
    }
   ],
   "source": [
    "subset = control_df[control_df['dep_diag_yes'] == 1]\n",
    "mean_age = subset['pa_sed_convert'].mean()\n",
    "std_dev_age = subset['pa_sed_convert'].std()\n",
    "\n",
    "print(\"Mean with exp cohort:\", mean_age)\n",
    "print(\"Standard Deviation with exp cohort:\", std_dev_age)\n",
    "print('P-value :')\n",
    "stats.mannwhitneyu(x=control_df['pa_sed_convert'], y=control_df['dep_diag_yes'], alternative = 'two-sided')\n",
    "subset = control_df[control_df['dep_diag_yes'] == 0]\n",
    "mean_age = subset['pa_sed_convert'].mean()\n",
    "std_dev_age = subset['pa_sed_convert'].std()\n",
    "\n",
    "print(\"Mean with control cohort:\", mean_age)\n",
    "print(\"Standard Deviation with control cohort:\", std_dev_age)\n",
    "print('P-value:')\n",
    "filtered_control_df = control_df.dropna(subset=['pa_sed_convert'])\n",
    "stats.mannwhitneyu(x=filtered_control_df['pa_sed_convert'], y=filtered_control_df['dep_diag_yes'], alternative = 'two-sided')"
   ]
  },
  {
   "cell_type": "code",
   "execution_count": 130,
   "id": "e5c81d4b-0367-44a0-b8be-b7b269f255ec",
   "metadata": {
    "tags": []
   },
   "outputs": [
    {
     "name": "stdout",
     "output_type": "stream",
     "text": [
      "Mean with exp cohort: 294.99379842519687\n",
      "Standard Deviation with exp cohort: 104.80368466295549\n",
      "P-value :\n",
      "Mean with control cohort: 300.2639174000575\n",
      "Standard Deviation with control cohort: 102.88844084913384\n",
      "P-value:\n"
     ]
    },
    {
     "data": {
      "text/plain": [
       "MannwhitneyuResult(statistic=4710619998.0, pvalue=0.0)"
      ]
     },
     "execution_count": 130,
     "metadata": {},
     "output_type": "execute_result"
    }
   ],
   "source": [
    "subset = control_df[control_df['dep_diag_yes'] == 1]\n",
    "mean_age = subset['pa_light_convert'].mean()\n",
    "std_dev_age = subset['pa_light_convert'].std()\n",
    "\n",
    "print(\"Mean with exp cohort:\", mean_age)\n",
    "print(\"Standard Deviation with exp cohort:\", std_dev_age)\n",
    "print('P-value :')\n",
    "stats.mannwhitneyu(x=control_df['pa_light_convert'], y=control_df['dep_diag_yes'], alternative = 'two-sided')\n",
    "subset = control_df[control_df['dep_diag_yes'] == 0]\n",
    "mean_age = subset['pa_light_convert'].mean()\n",
    "std_dev_age = subset['pa_light_convert'].std()\n",
    "\n",
    "print(\"Mean with control cohort:\", mean_age)\n",
    "print(\"Standard Deviation with control cohort:\", std_dev_age)\n",
    "print('P-value:')\n",
    "filtered_control_df = control_df.dropna(subset=['pa_light_convert'])\n",
    "stats.mannwhitneyu(x=filtered_control_df['pa_light_convert'], y=filtered_control_df['dep_diag_yes'], alternative = 'two-sided')"
   ]
  },
  {
   "cell_type": "code",
   "execution_count": 131,
   "id": "0cf1cd3e-a727-4a2c-9987-fd0f084f267d",
   "metadata": {
    "tags": []
   },
   "outputs": [
    {
     "name": "stdout",
     "output_type": "stream",
     "text": [
      "Mean with exp cohort: 35.01948897637795\n",
      "Standard Deviation with exp cohort: 32.84355482857318\n",
      "P-value :\n",
      "Mean with control cohort: 42.870994535519124\n",
      "Standard Deviation with control cohort: 35.63418722813336\n",
      "P-value:\n"
     ]
    },
    {
     "data": {
      "text/plain": [
       "MannwhitneyuResult(statistic=4651181661.0, pvalue=0.0)"
      ]
     },
     "execution_count": 131,
     "metadata": {},
     "output_type": "execute_result"
    }
   ],
   "source": [
    "subset = control_df[control_df['dep_diag_yes'] == 1]\n",
    "mean_age = subset['pa_mv_convert'].mean()\n",
    "std_dev_age = subset['pa_mv_convert'].std()\n",
    "\n",
    "print(\"Mean with exp cohort:\", mean_age)\n",
    "print(\"Standard Deviation with exp cohort:\", std_dev_age)\n",
    "print('P-value :')\n",
    "stats.mannwhitneyu(x=control_df['pa_mv_convert'], y=control_df['dep_diag_yes'], alternative = 'two-sided')\n",
    "subset = control_df[control_df['dep_diag_yes'] == 0]\n",
    "mean_age = subset['pa_mv_convert'].mean()\n",
    "std_dev_age = subset['pa_mv_convert'].std()\n",
    "\n",
    "print(\"Mean with control cohort:\", mean_age)\n",
    "print(\"Standard Deviation with control cohort:\", std_dev_age)\n",
    "print('P-value:')\n",
    "filtered_control_df = control_df.dropna(subset=['pa_mv_convert'])\n",
    "stats.mannwhitneyu(x=filtered_control_df['pa_mv_convert'], y=filtered_control_df['dep_diag_yes'], alternative = 'two-sided')"
   ]
  },
  {
   "cell_type": "code",
   "execution_count": 132,
   "id": "07476c1c-cbf5-4520-8e33-0f3c710a2c9d",
   "metadata": {
    "tags": []
   },
   "outputs": [
    {
     "name": "stdout",
     "output_type": "stream",
     "text": [
      "Mean with exp cohort: 1.8071791967784847\n",
      "Standard Deviation with exp cohort: 0.6470528512468429\n",
      "P-value :\n",
      "Mean with control cohort: 1.8514249845206725\n",
      "Standard Deviation with control cohort: 0.6567865622472558\n",
      "P-value:\n"
     ]
    },
    {
     "data": {
      "text/plain": [
       "MannwhitneyuResult(statistic=4671790353.0, pvalue=0.0)"
      ]
     },
     "execution_count": 132,
     "metadata": {},
     "output_type": "execute_result"
    }
   ],
   "source": [
    "subset = control_df[control_df['dep_diag_yes'] == 1]\n",
    "mean_age = subset['study_t2e'].mean()\n",
    "std_dev_age = subset['study_t2e'].std()\n",
    "\n",
    "print(\"Mean with exp cohort:\", mean_age)\n",
    "print(\"Standard Deviation with exp cohort:\", std_dev_age)\n",
    "print('P-value :')\n",
    "stats.mannwhitneyu(x=control_df['study_t2e'], y=control_df['dep_diag_yes'], alternative = 'two-sided')\n",
    "subset = control_df[control_df['dep_diag_yes'] == 0]\n",
    "mean_age = subset['study_t2e'].mean()\n",
    "std_dev_age = subset['study_t2e'].std()\n",
    "\n",
    "print(\"Mean with control cohort:\", mean_age)\n",
    "print(\"Standard Deviation with control cohort:\", std_dev_age)\n",
    "print('P-value:')\n",
    "stats.mannwhitneyu(x=control_df['study_t2e'], y=control_df['dep_diag_yes'], alternative = 'two-sided')"
   ]
  },
  {
   "cell_type": "code",
   "execution_count": 133,
   "id": "8a63c854-71c1-4f71-85b6-2c64af83471a",
   "metadata": {
    "tags": []
   },
   "outputs": [
    {
     "name": "stdout",
     "output_type": "stream",
     "text": [
      "exp Cohort Percent male: 30.561023622047244\n",
      "exp Cohort Total male: 1863\n",
      "Control Cohort Percent male: 43.17052517215485\n",
      "Control Cohort Total male: 27020\n",
      "% of men in total 76,505 cohort 37.753088033461864\n",
      "MALE - Chi-square test statistic: 361.9372447286323\n",
      "MALE - P-value: 1.0660009552766117e-80\n"
     ]
    }
   ],
   "source": [
    "#get male/female data\n",
    "percent_male_d = control_df.loc[control_df['dep_diag_yes'] == 1, 'male'].mean() * 100\n",
    "male_sum_d = control_df.loc[control_df['dep_diag_yes'] == 1, 'male'].sum()\n",
    "print('exp Cohort Percent male:', percent_male_d)\n",
    "print('exp Cohort Total male:', male_sum_d)\n",
    "percent_male_c = control_df.loc[control_df['dep_diag_yes'] == 0, 'male'].mean() * 100\n",
    "male_sum_c = control_df.loc[control_df['dep_diag_yes'] == 0, 'male'].sum()\n",
    "print('Control Cohort Percent male:', percent_male_c)\n",
    "print('Control Cohort Total male:', male_sum_c)\n",
    "perc_men_total = ((male_sum_d+male_sum_c)/76505)*100\n",
    "print('% of men in total 76,505 cohort', perc_men_total)\n",
    "data = pd.crosstab(control_df['male'], control_df['dep_diag_yes']).to_numpy()\n",
    "# chi-square test for independence for male data\n",
    "chi2_stat, p_val, dof, expected = chi2_contingency(data)\n",
    "print('MALE - Chi-square test statistic:', chi2_stat)\n",
    "print('MALE - P-value:', p_val)"
   ]
  },
  {
   "cell_type": "code",
   "execution_count": 134,
   "id": "bb3e9ddd-5989-4561-b088-22926f200a81",
   "metadata": {
    "tags": []
   },
   "outputs": [
    {
     "name": "stdout",
     "output_type": "stream",
     "text": [
      "exp Cohort Percent male: 97.71981627296587\n",
      "exp Cohort Total male: 5957.0\n",
      "Control Cohort Percent male: 96.96592052916647\n",
      "Control Cohort Total male: 60690.0\n",
      "% of men in total 76,505 cohort 87.11456767531533\n",
      "MALE - Chi-square test statistic: 10.7055738701577\n",
      "MALE - P-value: 0.0010681325116699309\n"
     ]
    }
   ],
   "source": [
    "#get male/female data\n",
    "percent_male_d = control_df.loc[control_df['dep_diag_yes'] == 1, 'white_yes'].mean() * 100\n",
    "male_sum_d = control_df.loc[control_df['dep_diag_yes'] == 1, 'white_yes'].sum()\n",
    "print('exp Cohort Percent male:', percent_male_d)\n",
    "print('exp Cohort Total male:', male_sum_d)\n",
    "percent_male_c = control_df.loc[control_df['dep_diag_yes'] == 0, 'white_yes'].mean() * 100\n",
    "male_sum_c = control_df.loc[control_df['dep_diag_yes'] == 0, 'white_yes'].sum()\n",
    "print('Control Cohort Percent male:', percent_male_c)\n",
    "print('Control Cohort Total male:', male_sum_c)\n",
    "perc_men_total = ((male_sum_d+male_sum_c)/76505)*100\n",
    "print('% of men in total 76,505 cohort', perc_men_total)\n",
    "data = pd.crosstab(control_df['white_yes'], control_df['dep_diag_yes']).to_numpy()\n",
    "# chi-square test for independence for male data\n",
    "chi2_stat, p_val, dof, expected = chi2_contingency(data)\n",
    "print('MALE - Chi-square test statistic:', chi2_stat)\n",
    "print('MALE - P-value:', p_val)"
   ]
  },
  {
   "cell_type": "code",
   "execution_count": 135,
   "id": "b853dc25-ecfb-4e0b-84c6-3f6b373bbc35",
   "metadata": {
    "tags": []
   },
   "outputs": [
    {
     "name": "stdout",
     "output_type": "stream",
     "text": [
      "exp Cohort Percent male: 100.0\n",
      "exp Cohort Total male: 6096\n",
      "Control Cohort Percent male: 100.0\n",
      "Control Cohort Total male: 62589\n",
      "% of men in total 76,505 cohort 89.7784458532122\n",
      "MALE - Chi-square test statistic: 0.0\n",
      "MALE - P-value: 1.0\n"
     ]
    }
   ],
   "source": [
    "#get male/female data\n",
    "percent_male_d = control_df.loc[control_df['dep_diag_yes'] == 1, 'htn_yes'].mean() * 100\n",
    "male_sum_d = control_df.loc[control_df['dep_diag_yes'] == 1, 'htn_yes'].sum()\n",
    "print('exp Cohort Percent male:', percent_male_d)\n",
    "print('exp Cohort Total male:', male_sum_d)\n",
    "percent_male_c = control_df.loc[control_df['dep_diag_yes'] == 0, 'htn_yes'].mean() * 100\n",
    "male_sum_c = control_df.loc[control_df['dep_diag_yes'] == 0, 'htn_yes'].sum()\n",
    "print('Control Cohort Percent male:', percent_male_c)\n",
    "print('Control Cohort Total male:', male_sum_c)\n",
    "perc_men_total = ((male_sum_d+male_sum_c)/76505)*100\n",
    "print('% of men in total 76,505 cohort', perc_men_total)\n",
    "data = pd.crosstab(control_df['htn_yes'], control_df['dep_diag_yes']).to_numpy()\n",
    "# chi-square test for independence for male data\n",
    "chi2_stat, p_val, dof, expected = chi2_contingency(data)\n",
    "print('MALE - Chi-square test statistic:', chi2_stat)\n",
    "print('MALE - P-value:', p_val)"
   ]
  },
  {
   "cell_type": "code",
   "execution_count": 136,
   "id": "f5618fe1-f75c-4152-8478-a8a47da9d1c0",
   "metadata": {
    "tags": []
   },
   "outputs": [
    {
     "name": "stdout",
     "output_type": "stream",
     "text": [
      "exp Cohort Percent male: 17.880577427821525\n",
      "exp Cohort Total male: 1090\n",
      "Control Cohort Percent male: 14.892393232037579\n",
      "Control Cohort Total male: 9321\n",
      "% of men in total 76,505 cohort 13.608260897980523\n",
      "MALE - Chi-square test statistic: 38.338227301521044\n",
      "MALE - P-value: 5.94858715144034e-10\n"
     ]
    }
   ],
   "source": [
    "#get male/female data\n",
    "percent_male_d = control_df.loc[control_df['dep_diag_yes'] == 1, 'hchol_yes'].mean() * 100\n",
    "male_sum_d = control_df.loc[control_df['dep_diag_yes'] == 1, 'hchol_yes'].sum()\n",
    "print('exp Cohort Percent male:', percent_male_d)\n",
    "print('exp Cohort Total male:', male_sum_d)\n",
    "percent_male_c = control_df.loc[control_df['dep_diag_yes'] == 0, 'hchol_yes'].mean() * 100\n",
    "male_sum_c = control_df.loc[control_df['dep_diag_yes'] == 0, 'hchol_yes'].sum()\n",
    "print('Control Cohort Percent male:', percent_male_c)\n",
    "print('Control Cohort Total male:', male_sum_c)\n",
    "perc_men_total = ((male_sum_d+male_sum_c)/76505)*100\n",
    "print('% of men in total 76,505 cohort', perc_men_total)\n",
    "data = pd.crosstab(control_df['hchol_yes'], control_df['dep_diag_yes']).to_numpy()\n",
    "# chi-square test for independence for male data\n",
    "chi2_stat, p_val, dof, expected = chi2_contingency(data)\n",
    "print('MALE - Chi-square test statistic:', chi2_stat)\n",
    "print('MALE - P-value:', p_val)"
   ]
  },
  {
   "cell_type": "code",
   "execution_count": 137,
   "id": "41203e4c-dcf2-4112-ac6e-c47e8b3c0534",
   "metadata": {
    "tags": []
   },
   "outputs": [
    {
     "name": "stdout",
     "output_type": "stream",
     "text": [
      "exp Cohort Percent male: 4.445538057742782\n",
      "exp Cohort Total male: 271\n",
      "Control Cohort Percent male: 2.8711115371710685\n",
      "Control Cohort Total male: 1797\n",
      "% of men in total 76,505 cohort 2.703091301222142\n",
      "MALE - Chi-square test statistic: 46.61590378195311\n",
      "MALE - P-value: 8.635654241536387e-12\n"
     ]
    }
   ],
   "source": [
    "#get male/female data\n",
    "percent_male_d = control_df.loc[control_df['dep_diag_yes'] == 1, 'diab_yes'].mean() * 100\n",
    "male_sum_d = control_df.loc[control_df['dep_diag_yes'] == 1, 'diab_yes'].sum()\n",
    "print('exp Cohort Percent male:', percent_male_d)\n",
    "print('exp Cohort Total male:', male_sum_d)\n",
    "percent_male_c = control_df.loc[control_df['dep_diag_yes'] == 0, 'diab_yes'].mean() * 100\n",
    "male_sum_c = control_df.loc[control_df['dep_diag_yes'] == 0, 'diab_yes'].sum()\n",
    "print('Control Cohort Percent male:', percent_male_c)\n",
    "print('Control Cohort Total male:', male_sum_c)\n",
    "perc_men_total = ((male_sum_d+male_sum_c)/76505)*100\n",
    "print('% of men in total 76,505 cohort', perc_men_total)\n",
    "data = pd.crosstab(control_df['diab_yes'], control_df['dep_diag_yes']).to_numpy()\n",
    "# chi-square test for independence for male data\n",
    "chi2_stat, p_val, dof, expected = chi2_contingency(data)\n",
    "print('MALE - Chi-square test statistic:', chi2_stat)\n",
    "print('MALE - P-value:', p_val)"
   ]
  },
  {
   "cell_type": "code",
   "execution_count": 138,
   "id": "9d6fa643-aab0-466c-9893-a531877d5511",
   "metadata": {
    "tags": []
   },
   "outputs": [
    {
     "name": "stdout",
     "output_type": "stream",
     "text": [
      "exp Cohort Percent male: 100.0\n",
      "exp Cohort Total male: 6096\n",
      "Control Cohort Percent male: 100.0\n",
      "Control Cohort Total male: 62589\n",
      "% of men in total 76,505 cohort 89.7784458532122\n",
      "MALE - Chi-square test statistic: 0.0\n",
      "MALE - P-value: 1.0\n"
     ]
    }
   ],
   "source": [
    "#get male/female data\n",
    "percent_male_d = control_df.loc[control_df['dep_diag_yes'] == 1, 'card_sum_filter'].mean() * 100\n",
    "male_sum_d = control_df.loc[control_df['dep_diag_yes'] == 1, 'card_sum_filter'].sum()\n",
    "print('exp Cohort Percent male:', percent_male_d)\n",
    "print('exp Cohort Total male:', male_sum_d)\n",
    "percent_male_c = control_df.loc[control_df['dep_diag_yes'] == 0, 'card_sum_filter'].mean() * 100\n",
    "male_sum_c = control_df.loc[control_df['dep_diag_yes'] == 0, 'card_sum_filter'].sum()\n",
    "print('Control Cohort Percent male:', percent_male_c)\n",
    "print('Control Cohort Total male:', male_sum_c)\n",
    "perc_men_total = ((male_sum_d+male_sum_c)/76505)*100\n",
    "print('% of men in total 76,505 cohort', perc_men_total)\n",
    "data = pd.crosstab(control_df['card_sum_filter'], control_df['dep_diag_yes']).to_numpy()\n",
    "# chi-square test for independence for male data\n",
    "chi2_stat, p_val, dof, expected = chi2_contingency(data)\n",
    "print('MALE - Chi-square test statistic:', chi2_stat)\n",
    "print('MALE - P-value:', p_val)"
   ]
  },
  {
   "cell_type": "code",
   "execution_count": 139,
   "id": "fe25ea22-de76-4dc0-8d3e-1b74bcb381e5",
   "metadata": {
    "tags": []
   },
   "outputs": [
    {
     "name": "stdout",
     "output_type": "stream",
     "text": [
      "exp Cohort Percent male: 10.967741935483872\n",
      "exp Cohort Total male: 17\n",
      "Control Cohort Percent male: 11.740331491712707\n",
      "Control Cohort Total male: 170\n",
      "% of men in total 76,505 cohort 0.24442846872753413\n",
      "MALE - Chi-square test statistic: 0.02345449482869613\n",
      "MALE - P-value: 0.8782810876866242\n"
     ]
    }
   ],
   "source": [
    "#check cevd diagnoses in prior stroke cohort - not reported in manuscript\n",
    "percent_male_d = prior_stroke_df.loc[prior_stroke_df['dep_diag_yes'] == 1, 'cevd_priorstroke'].mean() * 100\n",
    "male_sum_d = prior_stroke_df.loc[prior_stroke_df['dep_diag_yes'] == 1, 'cevd_priorstroke'].sum()\n",
    "print('exp Cohort Percent male:', percent_male_d)\n",
    "print('exp Cohort Total male:', male_sum_d)\n",
    "percent_male_c = prior_stroke_df.loc[prior_stroke_df['dep_diag_yes'] == 0, 'cevd_priorstroke'].mean() * 100\n",
    "male_sum_c = prior_stroke_df.loc[prior_stroke_df['dep_diag_yes'] == 0, 'cevd_priorstroke'].sum()\n",
    "print('Control Cohort Percent male:', percent_male_c)\n",
    "print('Control Cohort Total male:', male_sum_c)\n",
    "perc_men_total = ((male_sum_d+male_sum_c)/76505)*100\n",
    "print('% of men in total 76,505 cohort', perc_men_total)\n",
    "data = pd.crosstab(prior_stroke_df['cevd_priorstroke'], prior_stroke_df['dep_diag_yes']).to_numpy()\n",
    "# chi-square test for independence for male data\n",
    "chi2_stat, p_val, dof, expected = chi2_contingency(data)\n",
    "print('MALE - Chi-square test statistic:', chi2_stat)\n",
    "print('MALE - P-value:', p_val)"
   ]
  },
  {
   "cell_type": "code",
   "execution_count": 140,
   "id": "8ed6965a-149e-4a7b-ad2d-5e0f5a8cd9c4",
   "metadata": {
    "tags": []
   },
   "outputs": [
    {
     "data": {
      "text/plain": [
       "650.0"
      ]
     },
     "execution_count": 140,
     "metadata": {},
     "output_type": "execute_result"
    }
   ],
   "source": [
    "control_df['g46_time'].fillna(0,inplace=True)\n",
    "control_df['i65_time'].fillna(0,inplace=True)\n",
    "control_df['i66_time'].fillna(0,inplace=True)\n",
    "control_df['i67_time'].fillna(0,inplace=True)\n",
    "control_df['i68_time'].fillna(0,inplace=True)\n",
    "control_df['i69_time'].fillna(0,inplace=True)\n",
    "control_df['i67_event'].sum()"
   ]
  },
  {
   "cell_type": "code",
   "execution_count": 141,
   "id": "10c8751f-a2ee-4a03-97ed-f7176406e320",
   "metadata": {
    "tags": []
   },
   "outputs": [
    {
     "data": {
      "text/plain": [
       "2      0\n",
       "4      0\n",
       "13     0\n",
       "15     0\n",
       "21     0\n",
       "23     0\n",
       "26     0\n",
       "37     0\n",
       "40     0\n",
       "46     0\n",
       "59     0\n",
       "60     0\n",
       "62     0\n",
       "67     0\n",
       "70     0\n",
       "86     0\n",
       "99     0\n",
       "100    0\n",
       "101    0\n",
       "106    0\n",
       "Name: cevd_control, dtype: int64"
      ]
     },
     "execution_count": 141,
     "metadata": {},
     "output_type": "execute_result"
    }
   ],
   "source": [
    "def create_g46_event(row):\n",
    "    return 1 if (row['g46_time'] > 0) else 0\n",
    "control_df['g46_event'] = control_df.apply(create_g46_event, axis=1)\n",
    "\n",
    "def create_i65_event(row):\n",
    "    return 1 if (row['i65_time'] > 0) else 0\n",
    "control_df['i65_event'] = control_df.apply(create_i65_event, axis=1)\n",
    "\n",
    "def create_i66_event(row):\n",
    "    return 1 if (row['i66_time'] > 0) else 0\n",
    "control_df['i66_event'] = control_df.apply(create_i66_event, axis=1)\n",
    "\n",
    "def create_i67_event(row):\n",
    "    return 1 if (row['i67_time'] > 0) else 0\n",
    "control_df['i67_event'] = control_df.apply(create_i67_event, axis=1)\n",
    "\n",
    "def create_i68_event(row):\n",
    "    return 1 if (row['i68_time'] > 0) else 0\n",
    "control_df['i68_event'] = control_df.apply(create_i68_event, axis=1)\n",
    "\n",
    "def create_i69_event(row):\n",
    "    return 1 if (row['i69_time'] > 0) else 0\n",
    "control_df['i69_event'] = control_df.apply(create_i69_event, axis=1)\n",
    "\n",
    "#create a variable (yes/no) for non-stroke cevds\n",
    "def check_cevds_nonstroke(row):\n",
    "    return 1 if (row['g46_event'] + row['i65_event'] + row['i66_event'] + row['i67_event'] + row['i68_event'] + row['i69_event']) > 0 else 0\n",
    "\n",
    "# Apply the function to each row\n",
    "control_df['cevd_control'] = control_df.apply(check_cevds_nonstroke, axis=1)\n",
    "control_df['cevd_control'].head(20)"
   ]
  },
  {
   "cell_type": "code",
   "execution_count": 142,
   "id": "879f4169-6615-40f3-a5b6-9c28f9b22574",
   "metadata": {
    "tags": []
   },
   "outputs": [
    {
     "name": "stdout",
     "output_type": "stream",
     "text": [
      "exp Cohort Percent male: 0.0\n",
      "exp Cohort Total male: 0\n",
      "Control Cohort Percent male: 0.0\n",
      "Control Cohort Total male: 0\n",
      "MALE - Chi-square test statistic: 0.0\n",
      "MALE - P-value: 1.0\n"
     ]
    }
   ],
   "source": [
    "#get male/female data\n",
    "percent_male_d = control_df.loc[control_df['dep_diag_yes'] == 1, 'cevd_control'].mean() * 100\n",
    "male_sum_d = control_df.loc[control_df['dep_diag_yes'] == 1, 'cevd_control'].sum()\n",
    "print('exp Cohort Percent male:', percent_male_d)\n",
    "print('exp Cohort Total male:', male_sum_d)\n",
    "percent_male_c = control_df.loc[control_df['dep_diag_yes'] == 0, 'cevd_control'].mean() * 100\n",
    "male_sum_c = control_df.loc[control_df['dep_diag_yes'] == 0, 'cevd_control'].sum()\n",
    "print('Control Cohort Percent male:', percent_male_c)\n",
    "print('Control Cohort Total male:', male_sum_c)\n",
    "data = pd.crosstab(control_df['cevd_control'], control_df['dep_diag_yes']).to_numpy()\n",
    "# chi-square test for independence for male data\n",
    "chi2_stat, p_val, dof, expected = chi2_contingency(data)\n",
    "print('MALE - Chi-square test statistic:', chi2_stat)\n",
    "print('MALE - P-value:', p_val)"
   ]
  },
  {
   "cell_type": "code",
   "execution_count": 143,
   "id": "c368178f-caa2-4dd0-a993-16a060c83b79",
   "metadata": {
    "tags": []
   },
   "outputs": [
    {
     "data": {
      "text/plain": [
       "2     0\n",
       "4     1\n",
       "13    1\n",
       "15    1\n",
       "21    1\n",
       "23    1\n",
       "26    0\n",
       "37    0\n",
       "40    1\n",
       "46    1\n",
       "Name: sleep_filter, dtype: int64"
      ]
     },
     "execution_count": 143,
     "metadata": {},
     "output_type": "execute_result"
    }
   ],
   "source": [
    "def filter_sleep(value):\n",
    "    return 1 if 7 <= value <= 9 else 0\n",
    "\n",
    "control_df['sleep_filter'] = control_df['pa_sleep_convert_hr'].apply(filter_sleep)\n",
    "control_df['sleep_filter'].head(10)"
   ]
  },
  {
   "cell_type": "code",
   "execution_count": 144,
   "id": "398b3cf4-a4ab-464f-a50c-7b1b7d557d10",
   "metadata": {
    "tags": []
   },
   "outputs": [
    {
     "name": "stdout",
     "output_type": "stream",
     "text": [
      "exp Cohort Percent male: 49.5242782152231\n",
      "exp Cohort Total male: 3019\n",
      "Control Cohort Percent male: 55.399511096199014\n",
      "Control Cohort Total male: 34674\n",
      "MALE - Chi-square test statistic: 77.19923967893574\n",
      "MALE - P-value: 1.545530291810639e-18\n"
     ]
    }
   ],
   "source": [
    "#get sleep filter data\n",
    "percent_male_d = control_df.loc[control_df['dep_diag_yes'] == 1, 'sleep_filter'].mean() * 100\n",
    "male_sum_d = control_df.loc[control_df['dep_diag_yes'] == 1, 'sleep_filter'].sum()\n",
    "print('exp Cohort Percent male:', percent_male_d)\n",
    "print('exp Cohort Total male:', male_sum_d)\n",
    "percent_male_c = control_df.loc[control_df['dep_diag_yes'] == 0, 'sleep_filter'].mean() * 100\n",
    "male_sum_c = control_df.loc[control_df['dep_diag_yes'] == 0, 'sleep_filter'].sum()\n",
    "print('Control Cohort Percent male:', percent_male_c)\n",
    "print('Control Cohort Total male:', male_sum_c)\n",
    "data = pd.crosstab(control_df['sleep_filter'], control_df['dep_diag_yes']).to_numpy()\n",
    "# chi-square test for independence for male data\n",
    "chi2_stat, p_val, dof, expected = chi2_contingency(data)\n",
    "print('MALE - Chi-square test statistic:', chi2_stat)\n",
    "print('MALE - P-value:', p_val)"
   ]
  },
  {
   "cell_type": "code",
   "execution_count": null,
   "id": "16d30d22-2afd-4bf9-ba41-51d9f44b3519",
   "metadata": {},
   "outputs": [],
   "source": []
  },
  {
   "cell_type": "code",
   "execution_count": 145,
   "id": "95221d6d-0c97-49a7-867c-e9303ea3f8e8",
   "metadata": {
    "tags": []
   },
   "outputs": [],
   "source": [
    "#####incident_stroke"
   ]
  },
  {
   "cell_type": "code",
   "execution_count": 146,
   "id": "72bb3813-f4db-4a11-88f5-95b99edf5d46",
   "metadata": {
    "tags": []
   },
   "outputs": [
    {
     "name": "stdout",
     "output_type": "stream",
     "text": [
      "Mean with exp cohort: 63.75197260273973\n",
      "Standard Deviation with exp cohort: 6.89530992470069\n",
      "P-value :\n",
      "Mean with control cohort: 66.35655759680321\n",
      "Standard Deviation with control cohort: 6.518988252987971\n",
      "P-value:\n"
     ]
    },
    {
     "data": {
      "text/plain": [
       "MannwhitneyuResult(statistic=1375929.0, pvalue=0.0)"
      ]
     },
     "execution_count": 146,
     "metadata": {},
     "output_type": "execute_result"
    }
   ],
   "source": [
    "subset = incidentstroke_df[incidentstroke_df['dep_diag_yes'] == 1]\n",
    "mean_age = subset['acc_age'].mean()\n",
    "std_dev_age = subset['acc_age'].std()\n",
    "\n",
    "print(\"Mean with exp cohort:\", mean_age)\n",
    "print(\"Standard Deviation with exp cohort:\", std_dev_age)\n",
    "print('P-value :')\n",
    "stats.mannwhitneyu(x=incidentstroke_df['acc_age'], y=incidentstroke_df['dep_diag_yes'], alternative = 'two-sided')\n",
    "subset = incidentstroke_df[incidentstroke_df['dep_diag_yes'] == 0]\n",
    "mean_age = subset['acc_age'].mean()\n",
    "std_dev_age = subset['acc_age'].std()\n",
    "\n",
    "print(\"Mean with control cohort:\", mean_age)\n",
    "print(\"Standard Deviation with control cohort:\", std_dev_age)\n",
    "print('P-value:')\n",
    "stats.mannwhitneyu(x=incidentstroke_df['acc_age'], y=incidentstroke_df['dep_diag_yes'], alternative = 'two-sided')"
   ]
  },
  {
   "cell_type": "code",
   "execution_count": 147,
   "id": "0015dce9-5c62-417a-bad2-a75b75adc57e",
   "metadata": {
    "tags": []
   },
   "outputs": [
    {
     "name": "stdout",
     "output_type": "stream",
     "text": [
      "exp Cohort Percent male: 40.0\n",
      "exp Cohort Total male: 40\n",
      "Control Cohort Percent male: 54.426840633737186\n",
      "Control Cohort Total male: 584\n",
      "MALE - Chi-square test statistic: 7.078396651729837\n",
      "MALE - P-value: 0.007801878809650679\n"
     ]
    }
   ],
   "source": [
    "#get male/female data\n",
    "percent_male_d = incidentstroke_df.loc[incidentstroke_df['dep_diag_yes'] == 1, 'male'].mean() * 100\n",
    "male_sum_d = incidentstroke_df.loc[incidentstroke_df['dep_diag_yes'] == 1, 'male'].sum()\n",
    "print('exp Cohort Percent male:', percent_male_d)\n",
    "print('exp Cohort Total male:', male_sum_d)\n",
    "percent_male_c = incidentstroke_df.loc[incidentstroke_df['dep_diag_yes'] == 0, 'male'].mean() * 100\n",
    "male_sum_c = incidentstroke_df.loc[incidentstroke_df['dep_diag_yes'] == 0, 'male'].sum()\n",
    "print('Control Cohort Percent male:', percent_male_c)\n",
    "print('Control Cohort Total male:', male_sum_c)\n",
    "data = pd.crosstab(incidentstroke_df['male'], incidentstroke_df['dep_diag_yes']).to_numpy()\n",
    "# chi-square test for independence for male data\n",
    "chi2_stat, p_val, dof, expected = chi2_contingency(data)\n",
    "print('MALE - Chi-square test statistic:', chi2_stat)\n",
    "print('MALE - P-value:', p_val)"
   ]
  },
  {
   "cell_type": "code",
   "execution_count": 148,
   "id": "9c17af73-9ea2-414e-be67-fcfc5db3ac70",
   "metadata": {
    "tags": []
   },
   "outputs": [
    {
     "name": "stdout",
     "output_type": "stream",
     "text": [
      "exp Cohort Percent male: 99.0\n",
      "exp Cohort Total male: 99.0\n",
      "Control Cohort Percent male: 97.01770736253495\n",
      "Control Cohort Total male: 1041.0\n",
      "MALE - Chi-square test statistic: 0.6896089737444093\n",
      "MALE - P-value: 0.4062974150791021\n"
     ]
    }
   ],
   "source": [
    "#get male/female data\n",
    "percent_male_d = incidentstroke_df.loc[incidentstroke_df['dep_diag_yes'] == 1, 'white_yes'].mean() * 100\n",
    "male_sum_d = incidentstroke_df.loc[incidentstroke_df['dep_diag_yes'] == 1, 'white_yes'].sum()\n",
    "print('exp Cohort Percent male:', percent_male_d)\n",
    "print('exp Cohort Total male:', male_sum_d)\n",
    "percent_male_c = incidentstroke_df.loc[incidentstroke_df['dep_diag_yes'] == 0, 'white_yes'].mean() * 100\n",
    "male_sum_c = incidentstroke_df.loc[incidentstroke_df['dep_diag_yes'] == 0, 'white_yes'].sum()\n",
    "print('Control Cohort Percent male:', percent_male_c)\n",
    "print('Control Cohort Total male:', male_sum_c)\n",
    "data = pd.crosstab(incidentstroke_df['white_yes'], incidentstroke_df['dep_diag_yes']).to_numpy()\n",
    "# chi-square test for independence for male data\n",
    "chi2_stat, p_val, dof, expected = chi2_contingency(data)\n",
    "print('MALE - Chi-square test statistic:', chi2_stat)\n",
    "print('MALE - P-value:', p_val)"
   ]
  },
  {
   "cell_type": "code",
   "execution_count": 149,
   "id": "8e431bb4-4519-487f-8e67-e2d995997697",
   "metadata": {
    "tags": []
   },
   "outputs": [],
   "source": [
    "def filter_sleep(value):\n",
    "    return 1 if 7 <= value <= 9 else 0\n",
    "\n",
    "incidentstroke_df['sleep_filter'] = incidentstroke_df['pa_sleep_convert_hr'].apply(filter_sleep)"
   ]
  },
  {
   "cell_type": "code",
   "execution_count": 150,
   "id": "91b12f42-0773-4f84-b212-96f8419e006e",
   "metadata": {
    "tags": []
   },
   "outputs": [
    {
     "name": "stdout",
     "output_type": "stream",
     "text": [
      "exp Cohort Percent male: 52.0\n",
      "exp Cohort Total male: 52\n",
      "Control Cohort Percent male: 53.86766076421249\n",
      "Control Cohort Total male: 578\n",
      "MALE - Chi-square test statistic: 0.0642102034879234\n",
      "MALE - P-value: 0.7999611958266583\n"
     ]
    }
   ],
   "source": [
    "#get male/female data\n",
    "percent_male_d = incidentstroke_df.loc[incidentstroke_df['dep_diag_yes'] == 1, 'sleep_filter'].mean() * 100\n",
    "male_sum_d = incidentstroke_df.loc[incidentstroke_df['dep_diag_yes'] == 1, 'sleep_filter'].sum()\n",
    "print('exp Cohort Percent male:', percent_male_d)\n",
    "print('exp Cohort Total male:', male_sum_d)\n",
    "percent_male_c = incidentstroke_df.loc[incidentstroke_df['dep_diag_yes'] == 0, 'sleep_filter'].mean() * 100\n",
    "male_sum_c = incidentstroke_df.loc[incidentstroke_df['dep_diag_yes'] == 0, 'sleep_filter'].sum()\n",
    "print('Control Cohort Percent male:', percent_male_c)\n",
    "print('Control Cohort Total male:', male_sum_c)\n",
    "data = pd.crosstab(incidentstroke_df['sleep_filter'], incidentstroke_df['dep_diag_yes']).to_numpy()\n",
    "# chi-square test for independence for male data\n",
    "chi2_stat, p_val, dof, expected = chi2_contingency(data)\n",
    "print('MALE - Chi-square test statistic:', chi2_stat)\n",
    "print('MALE - P-value:', p_val)"
   ]
  },
  {
   "cell_type": "code",
   "execution_count": 151,
   "id": "21230535-3777-4c99-8eea-c6073a232611",
   "metadata": {
    "tags": []
   },
   "outputs": [
    {
     "name": "stdout",
     "output_type": "stream",
     "text": [
      "Mean with exp cohort: 1.8513424657534248\n",
      "Standard Deviation with exp cohort: 0.6710237778022804\n",
      "P-value :\n",
      "Mean with control cohort: 1.8208300884729793\n",
      "Standard Deviation with control cohort: 0.6445331600177142\n",
      "P-value:\n"
     ]
    },
    {
     "data": {
      "text/plain": [
       "MannwhitneyuResult(statistic=1362529.0, pvalue=0.0)"
      ]
     },
     "execution_count": 151,
     "metadata": {},
     "output_type": "execute_result"
    }
   ],
   "source": [
    "subset = incidentstroke_df[incidentstroke_df['dep_diag_yes'] == 1]\n",
    "mean_age = subset['study_t2e'].mean()\n",
    "std_dev_age = subset['study_t2e'].std()\n",
    "\n",
    "print(\"Mean with exp cohort:\", mean_age)\n",
    "print(\"Standard Deviation with exp cohort:\", std_dev_age)\n",
    "print('P-value :')\n",
    "stats.mannwhitneyu(x=incidentstroke_df['study_t2e'], y=incidentstroke_df['dep_diag_yes'], alternative = 'two-sided')\n",
    "subset = incidentstroke_df[incidentstroke_df['dep_diag_yes'] == 0]\n",
    "mean_age = subset['study_t2e'].mean()\n",
    "std_dev_age = subset['study_t2e'].std()\n",
    "\n",
    "print(\"Mean with control cohort:\", mean_age)\n",
    "print(\"Standard Deviation with control cohort:\", std_dev_age)\n",
    "print('P-value:')\n",
    "stats.mannwhitneyu(x=incidentstroke_df['study_t2e'], y=incidentstroke_df['dep_diag_yes'], alternative = 'two-sided')"
   ]
  },
  {
   "cell_type": "code",
   "execution_count": 152,
   "id": "f519cf9a-4ce1-42c7-920e-9a19e91a6016",
   "metadata": {
    "tags": []
   },
   "outputs": [
    {
     "data": {
      "text/plain": [
       "101     1914\n",
       "189      549\n",
       "249       74\n",
       "387      434\n",
       "402     1494\n",
       "423     1354\n",
       "1610     297\n",
       "2037     367\n",
       "2753     960\n",
       "2947    1703\n",
       "3121     489\n",
       "3489     562\n",
       "3615    1600\n",
       "3678      82\n",
       "4099     755\n",
       "4941    1300\n",
       "6597    2261\n",
       "7319     662\n",
       "7597    2195\n",
       "8404    1530\n",
       "Name: cevd_t2e, dtype: Int64"
      ]
     },
     "execution_count": 152,
     "metadata": {},
     "output_type": "execute_result"
    }
   ],
   "source": [
    "incidentstroke_df.cevd_t2e.head(20)"
   ]
  },
  {
   "cell_type": "code",
   "execution_count": 153,
   "id": "1025a7ba-4ce9-4f86-87a4-01d5f1c01c0b",
   "metadata": {
    "tags": []
   },
   "outputs": [
    {
     "data": {
      "text/plain": [
       "1173"
      ]
     },
     "execution_count": 153,
     "metadata": {},
     "output_type": "execute_result"
    }
   ],
   "source": [
    "incidentstroke_df_1 = incidentstroke_df.dropna(subset=['cevd_t2e'])\n",
    "len(incidentstroke_df_1)"
   ]
  },
  {
   "cell_type": "code",
   "execution_count": 154,
   "id": "c6eb26ea-eb3c-4126-9b5e-7880b46d7062",
   "metadata": {
    "tags": []
   },
   "outputs": [],
   "source": [
    "incidentstroke_df['cevd_t2e1'] = pd.to_numeric(incidentstroke_df['cevd_t2e'])"
   ]
  },
  {
   "cell_type": "code",
   "execution_count": 155,
   "id": "0ece3062-2369-4ca1-a81c-54d634b0571b",
   "metadata": {
    "tags": []
   },
   "outputs": [],
   "source": [
    "#export and import the csv file of your data to format it uniformly for easy analysis\n",
    "incidentstroke_df.to_csv('output.csv', index=False)  \n",
    "filename = 'output.csv'\n",
    "incidentstroke_df = pd.read_csv(filename)"
   ]
  },
  {
   "cell_type": "code",
   "execution_count": 156,
   "id": "4015b795-4be6-450b-a847-f643b5c7768f",
   "metadata": {
    "tags": []
   },
   "outputs": [
    {
     "name": "stdout",
     "output_type": "stream",
     "text": [
      "Mean with exp cohort: 2.873150684931507\n",
      "Standard Deviation with exp cohort: 1.760399744825548\n",
      "P-value :\n",
      "Mean with control cohort: 3.3322958291309734\n",
      "Standard Deviation with control cohort: 1.7577601668149128\n",
      "P-value:\n"
     ]
    },
    {
     "data": {
      "text/plain": [
       "MannwhitneyuResult(statistic=1360479.0, pvalue=0.0)"
      ]
     },
     "execution_count": 156,
     "metadata": {},
     "output_type": "execute_result"
    }
   ],
   "source": [
    "#incidentstroke_df['cevd_t2e'] = pd.to_numeric(incidentstroke_df['cevd_t2e'])\n",
    "incidentstroke_df['cevd_t2e'] = incidentstroke_df['cevd_t2e']/365\n",
    "subset = incidentstroke_df[incidentstroke_df['dep_diag_yes'] == 1]\n",
    "mean_age = subset['cevd_t2e'].mean()\n",
    "std_dev_age = subset['cevd_t2e'].std()\n",
    "\n",
    "print(\"Mean with exp cohort:\", mean_age)\n",
    "print(\"Standard Deviation with exp cohort:\", std_dev_age)\n",
    "print('P-value :')\n",
    "stats.mannwhitneyu(x=incidentstroke_df['cevd_t2e'], y=incidentstroke_df['dep_diag_yes'], alternative = 'two-sided')\n",
    "subset = incidentstroke_df[incidentstroke_df['dep_diag_yes'] == 0]\n",
    "mean_age = subset['cevd_t2e'].mean()\n",
    "std_dev_age = subset['cevd_t2e'].std()\n",
    "\n",
    "print(\"Mean with control cohort:\", mean_age)\n",
    "print(\"Standard Deviation with control cohort:\", std_dev_age)\n",
    "print('P-value:')\n",
    "stats.mannwhitneyu(x=incidentstroke_df['cevd_t2e'], y=incidentstroke_df['dep_diag_yes'], alternative = 'two-sided')"
   ]
  },
  {
   "cell_type": "code",
   "execution_count": 157,
   "id": "78c39835-86d3-4a30-aef0-af1530d2c2dd",
   "metadata": {
    "tags": []
   },
   "outputs": [
    {
     "name": "stdout",
     "output_type": "stream",
     "text": [
      "Mean with exp cohort: 1.8513424657534248\n",
      "Standard Deviation with exp cohort: 0.6710237778022804\n",
      "P-value :\n",
      "Mean with control cohort: 1.8208300884729793\n",
      "Standard Deviation with control cohort: 0.6445331600177142\n",
      "P-value:\n"
     ]
    },
    {
     "data": {
      "text/plain": [
       "MannwhitneyuResult(statistic=1362529.0, pvalue=0.0)"
      ]
     },
     "execution_count": 157,
     "metadata": {},
     "output_type": "execute_result"
    }
   ],
   "source": [
    "subset = incidentstroke_df[incidentstroke_df['dep_diag_yes'] == 1]\n",
    "mean_age = subset['study_t2e'].mean()\n",
    "std_dev_age = subset['study_t2e'].std()\n",
    "\n",
    "print(\"Mean with exp cohort:\", mean_age)\n",
    "print(\"Standard Deviation with exp cohort:\", std_dev_age)\n",
    "print('P-value :')\n",
    "stats.mannwhitneyu(x=incidentstroke_df['study_t2e'], y=incidentstroke_df['dep_diag_yes'], alternative = 'two-sided')\n",
    "subset = incidentstroke_df[incidentstroke_df['dep_diag_yes'] == 0]\n",
    "mean_age = subset['study_t2e'].mean()\n",
    "std_dev_age = subset['study_t2e'].std()\n",
    "\n",
    "print(\"Mean with control cohort:\", mean_age)\n",
    "print(\"Standard Deviation with control cohort:\", std_dev_age)\n",
    "print('P-value:')\n",
    "stats.mannwhitneyu(x=incidentstroke_df['study_t2e'], y=incidentstroke_df['dep_diag_yes'], alternative = 'two-sided')"
   ]
  },
  {
   "cell_type": "code",
   "execution_count": 158,
   "id": "26680987-cc78-4c60-b949-ee1b69bbd596",
   "metadata": {
    "tags": []
   },
   "outputs": [
    {
     "name": "stdout",
     "output_type": "stream",
     "text": [
      "Mean with exp cohort: 9.0867912\n",
      "Standard Deviation with exp cohort: 1.6572833778529354\n",
      "P-value :\n",
      "Mean with control cohort: 8.994397017707362\n",
      "Standard Deviation with control cohort: 1.731734372958688\n",
      "P-value:\n"
     ]
    },
    {
     "data": {
      "text/plain": [
       "MannwhitneyuResult(statistic=1375929.0, pvalue=0.0)"
      ]
     },
     "execution_count": 158,
     "metadata": {},
     "output_type": "execute_result"
    }
   ],
   "source": [
    "subset = incidentstroke_df[incidentstroke_df['dep_diag_yes'] == 1]\n",
    "mean_age = subset['pa_sleep_convert_hr'].mean()\n",
    "std_dev_age = subset['pa_sleep_convert_hr'].std()\n",
    "\n",
    "print(\"Mean with exp cohort:\", mean_age)\n",
    "print(\"Standard Deviation with exp cohort:\", std_dev_age)\n",
    "print('P-value :')\n",
    "stats.mannwhitneyu(x=incidentstroke_df['pa_sleep_convert_hr'], y=incidentstroke_df['dep_diag_yes'], alternative = 'two-sided')\n",
    "subset = incidentstroke_df[incidentstroke_df['dep_diag_yes'] == 0]\n",
    "mean_age = subset['pa_sleep_convert_hr'].mean()\n",
    "std_dev_age = subset['pa_sleep_convert_hr'].std()\n",
    "\n",
    "print(\"Mean with control cohort:\", mean_age)\n",
    "print(\"Standard Deviation with control cohort:\", std_dev_age)\n",
    "print('P-value:')\n",
    "stats.mannwhitneyu(x=incidentstroke_df['pa_sleep_convert_hr'], y=incidentstroke_df['dep_diag_yes'], alternative = 'two-sided')"
   ]
  },
  {
   "cell_type": "code",
   "execution_count": 159,
   "id": "ba314556-1dc6-48fb-bef7-3258b690f4a3",
   "metadata": {
    "tags": []
   },
   "outputs": [
    {
     "name": "stdout",
     "output_type": "stream",
     "text": [
      "Mean with exp cohort: 31.020623999999998\n",
      "Standard Deviation with exp cohort: 33.363932333521205\n",
      "P-value :\n",
      "Mean with control cohort: 39.50970810810811\n",
      "Standard Deviation with control cohort: 33.15073330805421\n",
      "P-value:\n"
     ]
    },
    {
     "data": {
      "text/plain": [
       "MannwhitneyuResult(statistic=1346823.0, pvalue=0.0)"
      ]
     },
     "execution_count": 159,
     "metadata": {},
     "output_type": "execute_result"
    }
   ],
   "source": [
    "subset = incidentstroke_df[incidentstroke_df['dep_diag_yes'] == 1]\n",
    "mean_age = subset['pa_mv_convert'].mean()\n",
    "std_dev_age = subset['pa_mv_convert'].std()\n",
    "\n",
    "print(\"Mean with exp cohort:\", mean_age)\n",
    "print(\"Standard Deviation with exp cohort:\", std_dev_age)\n",
    "print('P-value :')\n",
    "stats.mannwhitneyu(x=incidentstroke_df['pa_mv_convert'], y=incidentstroke_df['dep_diag_yes'], alternative = 'two-sided')\n",
    "subset = incidentstroke_df[incidentstroke_df['dep_diag_yes'] == 0]\n",
    "mean_age = subset['pa_mv_convert'].mean()\n",
    "std_dev_age = subset['pa_mv_convert'].std()\n",
    "\n",
    "print(\"Mean with control cohort:\", mean_age)\n",
    "print(\"Standard Deviation with control cohort:\", std_dev_age)\n",
    "print('P-value:')\n",
    "stats.mannwhitneyu(x=incidentstroke_df['pa_mv_convert'], y=incidentstroke_df['dep_diag_yes'], alternative = 'two-sided')"
   ]
  },
  {
   "cell_type": "code",
   "execution_count": 160,
   "id": "aa488c95-39bf-4b21-83a8-af1f9ccf6c7e",
   "metadata": {
    "tags": []
   },
   "outputs": [
    {
     "name": "stdout",
     "output_type": "stream",
     "text": [
      "Mean with exp cohort: 577.076688\n",
      "Standard Deviation with exp cohort: 111.58676617098482\n",
      "P-value :\n",
      "Mean with control cohort: 569.8621778191985\n",
      "Standard Deviation with control cohort: 114.63841654629539\n",
      "P-value:\n"
     ]
    },
    {
     "data": {
      "text/plain": [
       "MannwhitneyuResult(statistic=1375929.0, pvalue=0.0)"
      ]
     },
     "execution_count": 160,
     "metadata": {},
     "output_type": "execute_result"
    }
   ],
   "source": [
    "subset = incidentstroke_df[incidentstroke_df['dep_diag_yes'] == 1]\n",
    "mean_age = subset['pa_sed_convert'].mean()\n",
    "std_dev_age = subset['pa_sed_convert'].std()\n",
    "\n",
    "print(\"Mean with exp cohort:\", mean_age)\n",
    "print(\"Standard Deviation with exp cohort:\", std_dev_age)\n",
    "print('P-value :')\n",
    "stats.mannwhitneyu(x=incidentstroke_df['pa_sed_convert'], y=incidentstroke_df['dep_diag_yes'], alternative = 'two-sided')\n",
    "subset = incidentstroke_df[incidentstroke_df['dep_diag_yes'] == 0]\n",
    "mean_age = subset['pa_sed_convert'].mean()\n",
    "std_dev_age = subset['pa_sed_convert'].std()\n",
    "\n",
    "print(\"Mean with control cohort:\", mean_age)\n",
    "print(\"Standard Deviation with control cohort:\", std_dev_age)\n",
    "print('P-value:')\n",
    "stats.mannwhitneyu(x=incidentstroke_df['pa_sed_convert'], y=incidentstroke_df['dep_diag_yes'], alternative = 'two-sided')"
   ]
  },
  {
   "cell_type": "code",
   "execution_count": 161,
   "id": "44c5490f-f9af-4cde-99d9-60942f41ed53",
   "metadata": {
    "tags": []
   },
   "outputs": [
    {
     "name": "stdout",
     "output_type": "stream",
     "text": [
      "Mean with exp cohort: 286.69564799999995\n",
      "Standard Deviation with exp cohort: 96.46335268437646\n",
      "P-value :\n",
      "Mean with control cohort: 290.96380987884436\n",
      "Standard Deviation with control cohort: 103.79948776123112\n",
      "P-value:\n"
     ]
    },
    {
     "data": {
      "text/plain": [
       "MannwhitneyuResult(statistic=1375292.5, pvalue=0.0)"
      ]
     },
     "execution_count": 161,
     "metadata": {},
     "output_type": "execute_result"
    }
   ],
   "source": [
    "subset = incidentstroke_df[incidentstroke_df['dep_diag_yes'] == 1]\n",
    "mean_age = subset['pa_light_convert'].mean()\n",
    "std_dev_age = subset['pa_light_convert'].std()\n",
    "\n",
    "print(\"Mean with exp cohort:\", mean_age)\n",
    "print(\"Standard Deviation with exp cohort:\", std_dev_age)\n",
    "print('P-value :')\n",
    "stats.mannwhitneyu(x=incidentstroke_df['pa_light_convert'], y=incidentstroke_df['dep_diag_yes'], alternative = 'two-sided')\n",
    "subset = incidentstroke_df[incidentstroke_df['dep_diag_yes'] == 0]\n",
    "mean_age = subset['pa_light_convert'].mean()\n",
    "std_dev_age = subset['pa_light_convert'].std()\n",
    "\n",
    "print(\"Mean with control cohort:\", mean_age)\n",
    "print(\"Standard Deviation with control cohort:\", std_dev_age)\n",
    "print('P-value:')\n",
    "stats.mannwhitneyu(x=incidentstroke_df['pa_light_convert'], y=incidentstroke_df['dep_diag_yes'], alternative = 'two-sided')"
   ]
  },
  {
   "cell_type": "code",
   "execution_count": null,
   "id": "7326801f-4fe4-4068-b0d4-e45b7f88aa66",
   "metadata": {},
   "outputs": [],
   "source": []
  },
  {
   "cell_type": "code",
   "execution_count": 162,
   "id": "dcc6fe07-5d98-4bef-9e5e-48ca6ad48a4d",
   "metadata": {
    "tags": []
   },
   "outputs": [
    {
     "name": "stdout",
     "output_type": "stream",
     "text": [
      "exp Cohort Percent male: 100.0\n",
      "exp Cohort Total male: 100\n",
      "Control Cohort Percent male: 100.0\n",
      "Control Cohort Total male: 1073\n",
      "% of men in total 76,505 cohort 1.5332331220181687\n",
      "MALE - Chi-square test statistic: 0.0\n",
      "MALE - P-value: 1.0\n"
     ]
    }
   ],
   "source": [
    "#get male/female data\n",
    "percent_male_d = incidentstroke_df.loc[incidentstroke_df['dep_diag_yes'] == 1, 'card_sum_filter'].mean() * 100\n",
    "male_sum_d = incidentstroke_df.loc[incidentstroke_df['dep_diag_yes'] == 1, 'card_sum_filter'].sum()\n",
    "print('exp Cohort Percent male:', percent_male_d)\n",
    "print('exp Cohort Total male:', male_sum_d)\n",
    "percent_male_c = incidentstroke_df.loc[incidentstroke_df['dep_diag_yes'] == 0, 'card_sum_filter'].mean() * 100\n",
    "male_sum_c = incidentstroke_df.loc[incidentstroke_df['dep_diag_yes'] == 0, 'card_sum_filter'].sum()\n",
    "print('Control Cohort Percent male:', percent_male_c)\n",
    "print('Control Cohort Total male:', male_sum_c)\n",
    "perc_men_total = ((male_sum_d+male_sum_c)/76505)*100\n",
    "print('% of men in total 76,505 cohort', perc_men_total)\n",
    "data = pd.crosstab(incidentstroke_df['card_sum_filter'], incidentstroke_df['dep_diag_yes']).to_numpy()\n",
    "# chi-square test for independence for male data\n",
    "chi2_stat, p_val, dof, expected = chi2_contingency(data)\n",
    "print('MALE - Chi-square test statistic:', chi2_stat)\n",
    "print('MALE - P-value:', p_val)"
   ]
  },
  {
   "cell_type": "code",
   "execution_count": 163,
   "id": "b3d8c85c-e164-4407-ad88-d714f42f626d",
   "metadata": {
    "tags": []
   },
   "outputs": [
    {
     "name": "stdout",
     "output_type": "stream",
     "text": [
      "exp Cohort Percent male: 7.000000000000001\n",
      "exp Cohort Total male: 7\n",
      "Control Cohort Percent male: 5.032618825722274\n",
      "Control Cohort Total male: 54\n",
      "% of men in total 76,505 cohort 0.07973335076138816\n",
      "MALE - Chi-square test statistic: 0.3745575238470862\n",
      "MALE - P-value: 0.540530447479904\n"
     ]
    }
   ],
   "source": [
    "#get male/female data\n",
    "percent_male_d = incidentstroke_df.loc[incidentstroke_df['dep_diag_yes'] == 1, 'diab_yes'].mean() * 100\n",
    "male_sum_d = incidentstroke_df.loc[incidentstroke_df['dep_diag_yes'] == 1, 'diab_yes'].sum()\n",
    "print('exp Cohort Percent male:', percent_male_d)\n",
    "print('exp Cohort Total male:', male_sum_d)\n",
    "percent_male_c = incidentstroke_df.loc[incidentstroke_df['dep_diag_yes'] == 0, 'diab_yes'].mean() * 100\n",
    "male_sum_c = incidentstroke_df.loc[incidentstroke_df['dep_diag_yes'] == 0, 'diab_yes'].sum()\n",
    "print('Control Cohort Percent male:', percent_male_c)\n",
    "print('Control Cohort Total male:', male_sum_c)\n",
    "perc_men_total = ((male_sum_d+male_sum_c)/76505)*100\n",
    "print('% of men in total 76,505 cohort', perc_men_total)\n",
    "data = pd.crosstab(incidentstroke_df['diab_yes'], incidentstroke_df['dep_diag_yes']).to_numpy()\n",
    "# chi-square test for independence for male data\n",
    "chi2_stat, p_val, dof, expected = chi2_contingency(data)\n",
    "print('MALE - Chi-square test statistic:', chi2_stat)\n",
    "print('MALE - P-value:', p_val)"
   ]
  },
  {
   "cell_type": "code",
   "execution_count": 164,
   "id": "96edaa48-6804-463f-91b6-e96c5d788105",
   "metadata": {
    "tags": []
   },
   "outputs": [
    {
     "name": "stdout",
     "output_type": "stream",
     "text": [
      "exp Cohort Percent male: 20.0\n",
      "exp Cohort Total male: 20\n",
      "Control Cohort Percent male: 19.757688723205966\n",
      "Control Cohort Total male: 212\n",
      "% of men in total 76,505 cohort 0.30324815371544345\n",
      "MALE - Chi-square test statistic: 0.0\n",
      "MALE - P-value: 1.0\n"
     ]
    }
   ],
   "source": [
    "#get male/female data\n",
    "percent_male_d = incidentstroke_df.loc[incidentstroke_df['dep_diag_yes'] == 1, 'hchol_yes'].mean() * 100\n",
    "male_sum_d = incidentstroke_df.loc[incidentstroke_df['dep_diag_yes'] == 1, 'hchol_yes'].sum()\n",
    "print('exp Cohort Percent male:', percent_male_d)\n",
    "print('exp Cohort Total male:', male_sum_d)\n",
    "percent_male_c = incidentstroke_df.loc[incidentstroke_df['dep_diag_yes'] == 0, 'hchol_yes'].mean() * 100\n",
    "male_sum_c = incidentstroke_df.loc[incidentstroke_df['dep_diag_yes'] == 0, 'hchol_yes'].sum()\n",
    "print('Control Cohort Percent male:', percent_male_c)\n",
    "print('Control Cohort Total male:', male_sum_c)\n",
    "perc_men_total = ((male_sum_d+male_sum_c)/76505)*100\n",
    "print('% of men in total 76,505 cohort', perc_men_total)\n",
    "data = pd.crosstab(incidentstroke_df['hchol_yes'], incidentstroke_df['dep_diag_yes']).to_numpy()\n",
    "# chi-square test for independence for male data\n",
    "chi2_stat, p_val, dof, expected = chi2_contingency(data)\n",
    "print('MALE - Chi-square test statistic:', chi2_stat)\n",
    "print('MALE - P-value:', p_val)"
   ]
  },
  {
   "cell_type": "code",
   "execution_count": 165,
   "id": "9263a9e2-e414-4128-b5bc-b1452fcee08e",
   "metadata": {
    "tags": []
   },
   "outputs": [
    {
     "name": "stdout",
     "output_type": "stream",
     "text": [
      "exp Cohort Percent male: 100.0\n",
      "exp Cohort Total male: 100\n",
      "Control Cohort Percent male: 100.0\n",
      "Control Cohort Total male: 1073\n",
      "% of men in total 76,505 cohort 1.5332331220181687\n",
      "MALE - Chi-square test statistic: 0.0\n",
      "MALE - P-value: 1.0\n"
     ]
    }
   ],
   "source": [
    "#get male/female data\n",
    "percent_male_d = incidentstroke_df.loc[incidentstroke_df['dep_diag_yes'] == 1, 'htn_yes'].mean() * 100\n",
    "male_sum_d = incidentstroke_df.loc[incidentstroke_df['dep_diag_yes'] == 1, 'htn_yes'].sum()\n",
    "print('exp Cohort Percent male:', percent_male_d)\n",
    "print('exp Cohort Total male:', male_sum_d)\n",
    "percent_male_c = incidentstroke_df.loc[incidentstroke_df['dep_diag_yes'] == 0, 'htn_yes'].mean() * 100\n",
    "male_sum_c = incidentstroke_df.loc[incidentstroke_df['dep_diag_yes'] == 0, 'htn_yes'].sum()\n",
    "print('Control Cohort Percent male:', percent_male_c)\n",
    "print('Control Cohort Total male:', male_sum_c)\n",
    "perc_men_total = ((male_sum_d+male_sum_c)/76505)*100\n",
    "print('% of men in total 76,505 cohort', perc_men_total)\n",
    "data = pd.crosstab(incidentstroke_df['htn_yes'], incidentstroke_df['dep_diag_yes']).to_numpy()\n",
    "# chi-square test for independence for male data\n",
    "chi2_stat, p_val, dof, expected = chi2_contingency(data)\n",
    "print('MALE - Chi-square test statistic:', chi2_stat)\n",
    "print('MALE - P-value:', p_val)"
   ]
  },
  {
   "cell_type": "code",
   "execution_count": null,
   "id": "8f97c16e-692f-49ac-a739-b8d92a3a2995",
   "metadata": {},
   "outputs": [],
   "source": []
  },
  {
   "cell_type": "code",
   "execution_count": 166,
   "id": "280f00c9-67a0-4d03-a2e1-e46a4ae21714",
   "metadata": {
    "tags": []
   },
   "outputs": [],
   "source": [
    "####incedent cevd baseline"
   ]
  },
  {
   "cell_type": "code",
   "execution_count": 167,
   "id": "c87e2e0a-7e70-4a41-96af-3bc31e90f67d",
   "metadata": {
    "tags": []
   },
   "outputs": [
    {
     "name": "stdout",
     "output_type": "stream",
     "text": [
      "Mean with exp cohort: 64.60939077144917\n",
      "Standard Deviation with exp cohort: 6.836712365281547\n",
      "P-value :\n",
      "Mean with control cohort: 66.7140936102982\n",
      "Standard Deviation with control cohort: 6.395583412573935\n",
      "P-value:\n"
     ]
    },
    {
     "data": {
      "text/plain": [
       "MannwhitneyuResult(statistic=2815684.0, pvalue=0.0)"
      ]
     },
     "execution_count": 167,
     "metadata": {},
     "output_type": "execute_result"
    }
   ],
   "source": [
    "subset = incident_cevd_sort[incident_cevd_sort['dep_diag_yes'] == 1]\n",
    "mean_age = subset['acc_age'].mean()\n",
    "std_dev_age = subset['acc_age'].std()\n",
    "\n",
    "print(\"Mean with exp cohort:\", mean_age)\n",
    "print(\"Standard Deviation with exp cohort:\", std_dev_age)\n",
    "print('P-value :')\n",
    "stats.mannwhitneyu(x=incident_cevd_sort['acc_age'], y=incident_cevd_sort['dep_diag_yes'], alternative = 'two-sided')\n",
    "subset = incident_cevd_sort[incident_cevd_sort['dep_diag_yes'] == 0]\n",
    "mean_age = subset['acc_age'].mean()\n",
    "std_dev_age = subset['acc_age'].std()\n",
    "\n",
    "print(\"Mean with control cohort:\", mean_age)\n",
    "print(\"Standard Deviation with control cohort:\", std_dev_age)\n",
    "print('P-value:')\n",
    "stats.mannwhitneyu(x=incident_cevd_sort['acc_age'], y=incident_cevd_sort['dep_diag_yes'], alternative = 'two-sided')"
   ]
  },
  {
   "cell_type": "code",
   "execution_count": 183,
   "id": "04e18fad-e18f-4952-98ec-b37b1d176c23",
   "metadata": {
    "tags": []
   },
   "outputs": [
    {
     "name": "stdout",
     "output_type": "stream",
     "text": [
      "exp Cohort Percent male: 38.15789473684211\n",
      "exp Cohort Total male: 58\n",
      "Control Cohort Percent male: 54.914809960681524\n",
      "Control Cohort Total male: 838\n",
      "MALE - Chi-square test statistic: 14.931687190667077\n",
      "MALE - P-value: 0.00011147481652884338\n"
     ]
    }
   ],
   "source": [
    "#get male/female data\n",
    "percent_male_d = incident_cevd_sort.loc[incident_cevd_sort['dep_diag_yes'] == 1, 'male'].mean() * 100\n",
    "male_sum_d = incident_cevd_sort.loc[incident_cevd_sort['dep_diag_yes'] == 1, 'male'].sum()\n",
    "print('exp Cohort Percent male:', percent_male_d)\n",
    "print('exp Cohort Total male:', male_sum_d)\n",
    "percent_male_c = incident_cevd_sort.loc[incident_cevd_sort['dep_diag_yes'] == 0, 'male'].mean() * 100\n",
    "male_sum_c = incident_cevd_sort.loc[incident_cevd_sort['dep_diag_yes'] == 0, 'male'].sum()\n",
    "print('Control Cohort Percent male:', percent_male_c)\n",
    "print('Control Cohort Total male:', male_sum_c)\n",
    "data = pd.crosstab(incident_cevd_sort['male'], incident_cevd_sort['dep_diag_yes']).to_numpy()\n",
    "# chi-square test for independence for male data\n",
    "chi2_stat, p_val, dof, expected = chi2_contingency(data)\n",
    "print('MALE - Chi-square test statistic:', chi2_stat)\n",
    "print('MALE - P-value:', p_val)"
   ]
  },
  {
   "cell_type": "code",
   "execution_count": 184,
   "id": "041b0257-879c-4a30-b1e6-40a653728310",
   "metadata": {
    "tags": []
   },
   "outputs": [
    {
     "name": "stdout",
     "output_type": "stream",
     "text": [
      "exp Cohort Percent male: 99.3421052631579\n",
      "exp Cohort Total male: 151.0\n",
      "Control Cohort Percent male: 97.11664482306685\n",
      "Control Cohort Total male: 1482.0\n",
      "MALE - Chi-square test statistic: 1.8397787888289578\n",
      "MALE - P-value: 0.17497687676096763\n"
     ]
    }
   ],
   "source": [
    "#get male/female data\n",
    "percent_male_d = incident_cevd_sort.loc[incident_cevd_sort['dep_diag_yes'] == 1, 'white_yes'].mean() * 100\n",
    "male_sum_d = incident_cevd_sort.loc[incident_cevd_sort['dep_diag_yes'] == 1, 'white_yes'].sum()\n",
    "print('exp Cohort Percent male:', percent_male_d)\n",
    "print('exp Cohort Total male:', male_sum_d)\n",
    "percent_male_c = incident_cevd_sort.loc[incident_cevd_sort['dep_diag_yes'] == 0, 'white_yes'].mean() * 100\n",
    "male_sum_c = incident_cevd_sort.loc[incident_cevd_sort['dep_diag_yes'] == 0, 'white_yes'].sum()\n",
    "print('Control Cohort Percent male:', percent_male_c)\n",
    "print('Control Cohort Total male:', male_sum_c)\n",
    "data = pd.crosstab(incident_cevd_sort['white_yes'], incident_cevd_sort['dep_diag_yes']).to_numpy()\n",
    "# chi-square test for independence for male data\n",
    "chi2_stat, p_val, dof, expected = chi2_contingency(data)\n",
    "print('MALE - Chi-square test statistic:', chi2_stat)\n",
    "print('MALE - P-value:', p_val)"
   ]
  },
  {
   "cell_type": "code",
   "execution_count": 168,
   "id": "4611a340-37eb-4b12-b2c3-a6e8502b4377",
   "metadata": {
    "tags": []
   },
   "outputs": [
    {
     "name": "stdout",
     "output_type": "stream",
     "text": [
      "Mean with exp cohort: 9.0375\n",
      "Standard Deviation with exp cohort: 1.5356231769355795\n",
      "P-value :\n",
      "Mean with control cohort: 8.976144377457405\n",
      "Standard Deviation with control cohort: 1.7366130360493373\n",
      "P-value:\n"
     ]
    },
    {
     "data": {
      "text/plain": [
       "MannwhitneyuResult(statistic=2815684.0, pvalue=0.0)"
      ]
     },
     "execution_count": 168,
     "metadata": {},
     "output_type": "execute_result"
    }
   ],
   "source": [
    "subset = incident_cevd_sort[incident_cevd_sort['dep_diag_yes'] == 1]\n",
    "mean_age = subset['pa_sleep_convert_hr'].mean()\n",
    "std_dev_age = subset['pa_sleep_convert_hr'].std()\n",
    "\n",
    "print(\"Mean with exp cohort:\", mean_age)\n",
    "print(\"Standard Deviation with exp cohort:\", std_dev_age)\n",
    "print('P-value :')\n",
    "stats.mannwhitneyu(x=incident_cevd_sort['pa_sleep_convert_hr'], y=incident_cevd_sort['dep_diag_yes'], alternative = 'two-sided')\n",
    "subset = incident_cevd_sort[incident_cevd_sort['dep_diag_yes'] == 0]\n",
    "mean_age = subset['pa_sleep_convert_hr'].mean()\n",
    "std_dev_age = subset['pa_sleep_convert_hr'].std()\n",
    "\n",
    "print(\"Mean with control cohort:\", mean_age)\n",
    "print(\"Standard Deviation with control cohort:\", std_dev_age)\n",
    "print('P-value:')\n",
    "stats.mannwhitneyu(x=incident_cevd_sort['pa_sleep_convert_hr'], y=incident_cevd_sort['dep_diag_yes'], alternative = 'two-sided')"
   ]
  },
  {
   "cell_type": "code",
   "execution_count": 169,
   "id": "619d0537-9d7b-490d-9976-7409fc4e6694",
   "metadata": {
    "tags": []
   },
   "outputs": [
    {
     "name": "stdout",
     "output_type": "stream",
     "text": [
      "Mean with exp cohort: 578.2387263157894\n",
      "Standard Deviation with exp cohort: 112.45410562780607\n",
      "P-value :\n",
      "Mean with control cohort: 575.2530401048492\n",
      "Standard Deviation with control cohort: 116.33792166765573\n",
      "P-value:\n"
     ]
    },
    {
     "data": {
      "text/plain": [
       "MannwhitneyuResult(statistic=2815684.0, pvalue=0.0)"
      ]
     },
     "execution_count": 169,
     "metadata": {},
     "output_type": "execute_result"
    }
   ],
   "source": [
    "subset = incident_cevd_sort[incident_cevd_sort['dep_diag_yes'] == 1]\n",
    "mean_age = subset['pa_sed_convert'].mean()\n",
    "std_dev_age = subset['pa_sed_convert'].std()\n",
    "\n",
    "print(\"Mean with exp cohort:\", mean_age)\n",
    "print(\"Standard Deviation with exp cohort:\", std_dev_age)\n",
    "print('P-value :')\n",
    "stats.mannwhitneyu(x=incident_cevd_sort['pa_sed_convert'], y=incident_cevd_sort['dep_diag_yes'], alternative = 'two-sided')\n",
    "subset = incident_cevd_sort[incident_cevd_sort['dep_diag_yes'] == 0]\n",
    "mean_age = subset['pa_sed_convert'].mean()\n",
    "std_dev_age = subset['pa_sed_convert'].std()\n",
    "\n",
    "print(\"Mean with control cohort:\", mean_age)\n",
    "print(\"Standard Deviation with control cohort:\", std_dev_age)\n",
    "print('P-value:')\n",
    "stats.mannwhitneyu(x=incident_cevd_sort['pa_sed_convert'], y=incident_cevd_sort['dep_diag_yes'], alternative = 'two-sided')"
   ]
  },
  {
   "cell_type": "code",
   "execution_count": 170,
   "id": "60afaeca-1e0c-41fb-a5d3-b85ccb594c4b",
   "metadata": {
    "tags": []
   },
   "outputs": [
    {
     "name": "stdout",
     "output_type": "stream",
     "text": [
      "Mean with exp cohort: 287.50016842105265\n",
      "Standard Deviation with exp cohort: 101.6292969285653\n",
      "P-value :\n",
      "Mean with control cohort: 287.73731795543904\n",
      "Standard Deviation with control cohort: 102.94769398949131\n",
      "P-value:\n"
     ]
    },
    {
     "data": {
      "text/plain": [
       "MannwhitneyuResult(statistic=2812939.0, pvalue=0.0)"
      ]
     },
     "execution_count": 170,
     "metadata": {},
     "output_type": "execute_result"
    }
   ],
   "source": [
    "subset = incident_cevd_sort[incident_cevd_sort['dep_diag_yes'] == 1]\n",
    "mean_age = subset['pa_light_convert'].mean()\n",
    "std_dev_age = subset['pa_light_convert'].std()\n",
    "\n",
    "print(\"Mean with exp cohort:\", mean_age)\n",
    "print(\"Standard Deviation with exp cohort:\", std_dev_age)\n",
    "print('P-value :')\n",
    "stats.mannwhitneyu(x=incident_cevd_sort['pa_light_convert'], y=incident_cevd_sort['dep_diag_yes'], alternative = 'two-sided')\n",
    "subset = incident_cevd_sort[incident_cevd_sort['dep_diag_yes'] == 0]\n",
    "mean_age = subset['pa_light_convert'].mean()\n",
    "std_dev_age = subset['pa_light_convert'].std()\n",
    "\n",
    "print(\"Mean with control cohort:\", mean_age)\n",
    "print(\"Standard Deviation with control cohort:\", std_dev_age)\n",
    "print('P-value:')\n",
    "stats.mannwhitneyu(x=incident_cevd_sort['pa_light_convert'], y=incident_cevd_sort['dep_diag_yes'], alternative = 'two-sided')"
   ]
  },
  {
   "cell_type": "code",
   "execution_count": 171,
   "id": "e70b3ca8-0ed0-4f7d-abc0-39304b00104d",
   "metadata": {
    "tags": []
   },
   "outputs": [
    {
     "name": "stdout",
     "output_type": "stream",
     "text": [
      "Mean with exp cohort: 32.01148421052632\n",
      "Standard Deviation with exp cohort: 34.71865978728793\n",
      "P-value :\n",
      "Mean with control cohort: 38.440516906946264\n",
      "Standard Deviation with control cohort: 32.7757739618524\n",
      "P-value:\n"
     ]
    },
    {
     "data": {
      "text/plain": [
       "MannwhitneyuResult(statistic=2750269.0, pvalue=0.0)"
      ]
     },
     "execution_count": 171,
     "metadata": {},
     "output_type": "execute_result"
    }
   ],
   "source": [
    "subset = incident_cevd_sort[incident_cevd_sort['dep_diag_yes'] == 1]\n",
    "mean_age = subset['pa_mv_convert'].mean()\n",
    "std_dev_age = subset['pa_mv_convert'].std()\n",
    "\n",
    "print(\"Mean with exp cohort:\", mean_age)\n",
    "print(\"Standard Deviation with exp cohort:\", std_dev_age)\n",
    "print('P-value :')\n",
    "stats.mannwhitneyu(x=incident_cevd_sort['pa_mv_convert'], y=incident_cevd_sort['dep_diag_yes'], alternative = 'two-sided')\n",
    "subset = incident_cevd_sort[incident_cevd_sort['dep_diag_yes'] == 0]\n",
    "mean_age = subset['pa_mv_convert'].mean()\n",
    "std_dev_age = subset['pa_mv_convert'].std()\n",
    "\n",
    "print(\"Mean with control cohort:\", mean_age)\n",
    "print(\"Standard Deviation with control cohort:\", std_dev_age)\n",
    "print('P-value:')\n",
    "stats.mannwhitneyu(x=incident_cevd_sort['pa_mv_convert'], y=incident_cevd_sort['dep_diag_yes'], alternative = 'two-sided')"
   ]
  },
  {
   "cell_type": "code",
   "execution_count": null,
   "id": "6d910f8a-bc5a-4ef3-87ac-0217ff06aa6d",
   "metadata": {},
   "outputs": [],
   "source": []
  },
  {
   "cell_type": "code",
   "execution_count": 172,
   "id": "ee8a325c-439a-408a-a510-9a4fa39610e1",
   "metadata": {
    "tags": []
   },
   "outputs": [],
   "source": [
    "#export and import csv file for quick formatting that is uniform\n",
    "incident_cevd_sort.to_csv('output_2.csv', index=False) \n",
    "filename2 = 'output_2.csv'  \n",
    "incident_cevd_sort = pd.read_csv(filename2)"
   ]
  },
  {
   "cell_type": "code",
   "execution_count": 173,
   "id": "7795dd11-32e5-4373-8a35-e45628a247be",
   "metadata": {
    "tags": []
   },
   "outputs": [
    {
     "name": "stdout",
     "output_type": "stream",
     "text": [
      "Mean with exp cohort: 3.1315068493150684\n",
      "Standard Deviation with exp cohort: 1.771212841853417\n",
      "P-value :\n",
      "Mean with control cohort: 3.4825023788577893\n",
      "Standard Deviation with control cohort: 1.7345911087089658\n",
      "P-value:\n"
     ]
    },
    {
     "data": {
      "text/plain": [
       "MannwhitneyuResult(statistic=2786272.0, pvalue=0.0)"
      ]
     },
     "execution_count": 173,
     "metadata": {},
     "output_type": "execute_result"
    }
   ],
   "source": [
    "incident_cevd_sort['cevd_t2e'] = incident_cevd_sort['cevd_t2e']/365\n",
    "subset = incident_cevd_sort[incident_cevd_sort['dep_diag_yes'] == 1]\n",
    "mean_age = subset['cevd_t2e'].mean()\n",
    "std_dev_age = subset['cevd_t2e'].std()\n",
    "\n",
    "print(\"Mean with exp cohort:\", mean_age)\n",
    "print(\"Standard Deviation with exp cohort:\", std_dev_age)\n",
    "print('P-value :')\n",
    "stats.mannwhitneyu(x=incident_cevd_sort['cevd_t2e'], y=incident_cevd_sort['dep_diag_yes'], alternative = 'two-sided')\n",
    "subset = incident_cevd_sort[incident_cevd_sort['dep_diag_yes'] == 0]\n",
    "mean_age = subset['cevd_t2e'].mean()\n",
    "std_dev_age = subset['cevd_t2e'].std()\n",
    "\n",
    "print(\"Mean with control cohort:\", mean_age)\n",
    "print(\"Standard Deviation with control cohort:\", std_dev_age)\n",
    "print('P-value:')\n",
    "stats.mannwhitneyu(x=incident_cevd_sort['cevd_t2e'], y=incident_cevd_sort['dep_diag_yes'], alternative = 'two-sided')"
   ]
  },
  {
   "cell_type": "code",
   "execution_count": 174,
   "id": "89335639-76a1-4f64-8a36-ca0844eae340",
   "metadata": {
    "tags": []
   },
   "outputs": [
    {
     "name": "stdout",
     "output_type": "stream",
     "text": [
      "Mean with exp cohort: 1.8788392213410237\n",
      "Standard Deviation with exp cohort: 0.6637762925348735\n",
      "P-value :\n",
      "Mean with control cohort: 1.8454801702005421\n",
      "Standard Deviation with control cohort: 0.6505606477825052\n",
      "P-value:\n"
     ]
    },
    {
     "data": {
      "text/plain": [
       "MannwhitneyuResult(statistic=2786348.0, pvalue=0.0)"
      ]
     },
     "execution_count": 174,
     "metadata": {},
     "output_type": "execute_result"
    }
   ],
   "source": [
    "subset = incident_cevd_sort[incident_cevd_sort['dep_diag_yes'] == 1]\n",
    "mean_age = subset['study_t2e'].mean()\n",
    "std_dev_age = subset['study_t2e'].std()\n",
    "\n",
    "print(\"Mean with exp cohort:\", mean_age)\n",
    "print(\"Standard Deviation with exp cohort:\", std_dev_age)\n",
    "print('P-value :')\n",
    "stats.mannwhitneyu(x=incident_cevd_sort['study_t2e'], y=incident_cevd_sort['dep_diag_yes'], alternative = 'two-sided')\n",
    "subset = incident_cevd_sort[incident_cevd_sort['dep_diag_yes'] == 0]\n",
    "mean_age = subset['study_t2e'].mean()\n",
    "std_dev_age = subset['study_t2e'].std()\n",
    "\n",
    "print(\"Mean with control cohort:\", mean_age)\n",
    "print(\"Standard Deviation with control cohort:\", std_dev_age)\n",
    "print('P-value:')\n",
    "stats.mannwhitneyu(x=incident_cevd_sort['study_t2e'], y=incident_cevd_sort['dep_diag_yes'], alternative = 'two-sided')"
   ]
  },
  {
   "cell_type": "code",
   "execution_count": 175,
   "id": "dfbd7406-1194-4dec-8973-8e5b3b3e0fcb",
   "metadata": {
    "tags": []
   },
   "outputs": [
    {
     "name": "stdout",
     "output_type": "stream",
     "text": [
      "exp Cohort Percent male: 100.0\n",
      "exp Cohort Total male: 152\n",
      "Control Cohort Percent male: 100.0\n",
      "Control Cohort Total male: 1526\n",
      "MALE - Chi-square test statistic: 0.0\n",
      "MALE - P-value: 1.0\n"
     ]
    }
   ],
   "source": [
    "#get male/female data\n",
    "percent_male_d = incident_cevd_sort.loc[incident_cevd_sort['dep_diag_yes'] == 1, 'htn_yes'].mean() * 100\n",
    "male_sum_d = incident_cevd_sort.loc[incident_cevd_sort['dep_diag_yes'] == 1, 'htn_yes'].sum()\n",
    "print('exp Cohort Percent male:', percent_male_d)\n",
    "print('exp Cohort Total male:', male_sum_d)\n",
    "percent_male_c = incident_cevd_sort.loc[incident_cevd_sort['dep_diag_yes'] == 0, 'htn_yes'].mean() * 100\n",
    "male_sum_c = incident_cevd_sort.loc[incident_cevd_sort['dep_diag_yes'] == 0, 'htn_yes'].sum()\n",
    "print('Control Cohort Percent male:', percent_male_c)\n",
    "print('Control Cohort Total male:', male_sum_c)\n",
    "data = pd.crosstab(incident_cevd_sort['htn_yes'], incident_cevd_sort['dep_diag_yes']).to_numpy()\n",
    "# chi-square test for independence for male data\n",
    "chi2_stat, p_val, dof, expected = chi2_contingency(data)\n",
    "print('MALE - Chi-square test statistic:', chi2_stat)\n",
    "print('MALE - P-value:', p_val)"
   ]
  },
  {
   "cell_type": "code",
   "execution_count": 176,
   "id": "8e8b1920-6385-4c9c-a23a-436432084d16",
   "metadata": {
    "tags": []
   },
   "outputs": [
    {
     "data": {
      "text/plain": [
       "0    0\n",
       "1    0\n",
       "2    0\n",
       "3    0\n",
       "4    0\n",
       "5    0\n",
       "6    0\n",
       "7    1\n",
       "8    1\n",
       "9    0\n",
       "Name: sleep_filter, dtype: int64"
      ]
     },
     "execution_count": 176,
     "metadata": {},
     "output_type": "execute_result"
    }
   ],
   "source": [
    "def filter_sleep(value):\n",
    "    return 1 if 7 <= value <= 9 else 0\n",
    "\n",
    "incident_cevd_sort['sleep_filter'] = incident_cevd_sort['pa_sleep_convert_hr'].apply(filter_sleep)\n",
    "incident_cevd_sort['sleep_filter'].head(10)"
   ]
  },
  {
   "cell_type": "code",
   "execution_count": 177,
   "id": "c580cc0f-3d47-4b9d-9b42-5c3a7397f1c6",
   "metadata": {
    "tags": []
   },
   "outputs": [
    {
     "name": "stdout",
     "output_type": "stream",
     "text": [
      "exp Cohort Percent male: 52.63157894736842\n",
      "exp Cohort Total male: 80\n",
      "Control Cohort Percent male: 53.473132372214934\n",
      "Control Cohort Total male: 816\n",
      "MALE - Chi-square test statistic: 0.012789966320887962\n",
      "MALE - P-value: 0.9099570360341148\n"
     ]
    }
   ],
   "source": [
    "#get male/female data\n",
    "percent_male_d = incident_cevd_sort.loc[incident_cevd_sort['dep_diag_yes'] == 1, 'sleep_filter'].mean() * 100\n",
    "male_sum_d = incident_cevd_sort.loc[incident_cevd_sort['dep_diag_yes'] == 1, 'sleep_filter'].sum()\n",
    "print('exp Cohort Percent male:', percent_male_d)\n",
    "print('exp Cohort Total male:', male_sum_d)\n",
    "percent_male_c = incident_cevd_sort.loc[incident_cevd_sort['dep_diag_yes'] == 0, 'sleep_filter'].mean() * 100\n",
    "male_sum_c = incident_cevd_sort.loc[incident_cevd_sort['dep_diag_yes'] == 0, 'sleep_filter'].sum()\n",
    "print('Control Cohort Percent male:', percent_male_c)\n",
    "print('Control Cohort Total male:', male_sum_c)\n",
    "data = pd.crosstab(incident_cevd_sort['sleep_filter'], incident_cevd_sort['dep_diag_yes']).to_numpy()\n",
    "# chi-square test for independence for male data\n",
    "chi2_stat, p_val, dof, expected = chi2_contingency(data)\n",
    "print('MALE - Chi-square test statistic:', chi2_stat)\n",
    "print('MALE - P-value:', p_val)"
   ]
  },
  {
   "cell_type": "code",
   "execution_count": 178,
   "id": "e90f3f1b-df49-4464-aaef-4d56e130391f",
   "metadata": {
    "tags": []
   },
   "outputs": [
    {
     "name": "stdout",
     "output_type": "stream",
     "text": [
      "exp Cohort Percent male: 23.684210526315788\n",
      "exp Cohort Total male: 36\n",
      "Control Cohort Percent male: 22.14941022280472\n",
      "Control Cohort Total male: 338\n",
      "MALE - Chi-square test statistic: 0.10982512971681402\n",
      "MALE - P-value: 0.7403433109921065\n"
     ]
    }
   ],
   "source": [
    "#get male/female data\n",
    "percent_male_d = incident_cevd_sort.loc[incident_cevd_sort['dep_diag_yes'] == 1, 'hchol_yes'].mean() * 100\n",
    "male_sum_d = incident_cevd_sort.loc[incident_cevd_sort['dep_diag_yes'] == 1, 'hchol_yes'].sum()\n",
    "print('exp Cohort Percent male:', percent_male_d)\n",
    "print('exp Cohort Total male:', male_sum_d)\n",
    "percent_male_c = incident_cevd_sort.loc[incident_cevd_sort['dep_diag_yes'] == 0, 'hchol_yes'].mean() * 100\n",
    "male_sum_c = incident_cevd_sort.loc[incident_cevd_sort['dep_diag_yes'] == 0, 'hchol_yes'].sum()\n",
    "print('Control Cohort Percent male:', percent_male_c)\n",
    "print('Control Cohort Total male:', male_sum_c)\n",
    "data = pd.crosstab(incident_cevd_sort['hchol_yes'], incident_cevd_sort['dep_diag_yes']).to_numpy()\n",
    "# chi-square test for independence for male data\n",
    "chi2_stat, p_val, dof, expected = chi2_contingency(data)\n",
    "print('MALE - Chi-square test statistic:', chi2_stat)\n",
    "print('MALE - P-value:', p_val)"
   ]
  },
  {
   "cell_type": "code",
   "execution_count": 179,
   "id": "a897e346-dded-469f-8fde-a465bd0dcf28",
   "metadata": {
    "tags": []
   },
   "outputs": [
    {
     "name": "stdout",
     "output_type": "stream",
     "text": [
      "exp Cohort Percent male: 6.578947368421052\n",
      "exp Cohort Total male: 10\n",
      "Control Cohort Percent male: 6.094364351245085\n",
      "Control Cohort Total male: 93\n",
      "MALE - Chi-square test statistic: 0.0036221445022294914\n",
      "MALE - P-value: 0.9520088859870741\n"
     ]
    }
   ],
   "source": [
    "#get male/female data\n",
    "percent_male_d = incident_cevd_sort.loc[incident_cevd_sort['dep_diag_yes'] == 1, 'diab_yes'].mean() * 100\n",
    "male_sum_d = incident_cevd_sort.loc[incident_cevd_sort['dep_diag_yes'] == 1, 'diab_yes'].sum()\n",
    "print('exp Cohort Percent male:', percent_male_d)\n",
    "print('exp Cohort Total male:', male_sum_d)\n",
    "percent_male_c = incident_cevd_sort.loc[incident_cevd_sort['dep_diag_yes'] == 0, 'diab_yes'].mean() * 100\n",
    "male_sum_c = incident_cevd_sort.loc[incident_cevd_sort['dep_diag_yes'] == 0, 'diab_yes'].sum()\n",
    "print('Control Cohort Percent male:', percent_male_c)\n",
    "print('Control Cohort Total male:', male_sum_c)\n",
    "data = pd.crosstab(incident_cevd_sort['diab_yes'], incident_cevd_sort['dep_diag_yes']).to_numpy()\n",
    "# chi-square test for independence for male data\n",
    "chi2_stat, p_val, dof, expected = chi2_contingency(data)\n",
    "print('MALE - Chi-square test statistic:', chi2_stat)\n",
    "print('MALE - P-value:', p_val)"
   ]
  },
  {
   "cell_type": "code",
   "execution_count": 180,
   "id": "36d5d97a-4847-4053-8de4-3f4f6e64602b",
   "metadata": {
    "tags": []
   },
   "outputs": [
    {
     "name": "stdout",
     "output_type": "stream",
     "text": [
      "exp Cohort Percent male: 100.0\n",
      "exp Cohort Total male: 152\n",
      "Control Cohort Percent male: 100.0\n",
      "Control Cohort Total male: 1526\n",
      "MALE - Chi-square test statistic: 0.0\n",
      "MALE - P-value: 1.0\n"
     ]
    }
   ],
   "source": [
    "#get male/female data\n",
    "percent_male_d = incident_cevd_sort.loc[incident_cevd_sort['dep_diag_yes'] == 1, 'card_sum_filter'].mean() * 100\n",
    "male_sum_d = incident_cevd_sort.loc[incident_cevd_sort['dep_diag_yes'] == 1, 'card_sum_filter'].sum()\n",
    "print('exp Cohort Percent male:', percent_male_d)\n",
    "print('exp Cohort Total male:', male_sum_d)\n",
    "percent_male_c = incident_cevd_sort.loc[incident_cevd_sort['dep_diag_yes'] == 0, 'card_sum_filter'].mean() * 100\n",
    "male_sum_c = incident_cevd_sort.loc[incident_cevd_sort['dep_diag_yes'] == 0, 'card_sum_filter'].sum()\n",
    "print('Control Cohort Percent male:', percent_male_c)\n",
    "print('Control Cohort Total male:', male_sum_c)\n",
    "data = pd.crosstab(incident_cevd_sort['card_sum_filter'], incident_cevd_sort['dep_diag_yes']).to_numpy()\n",
    "# chi-square test for independence for male data\n",
    "chi2_stat, p_val, dof, expected = chi2_contingency(data)\n",
    "print('MALE - Chi-square test statistic:', chi2_stat)\n",
    "print('MALE - P-value:', p_val)"
   ]
  },
  {
   "cell_type": "code",
   "execution_count": 181,
   "id": "cacc2059-1253-42e4-8f77-80342b80df43",
   "metadata": {
    "tags": []
   },
   "outputs": [
    {
     "data": {
      "text/plain": [
       "1678"
      ]
     },
     "execution_count": 181,
     "metadata": {},
     "output_type": "execute_result"
    }
   ],
   "source": [
    "len(incident_cevd_sort)"
   ]
  },
  {
   "cell_type": "code",
   "execution_count": 182,
   "id": "7d41ba55-86b8-4350-8979-7e3ff2959508",
   "metadata": {
    "tags": []
   },
   "outputs": [],
   "source": [
    "#to csv for dataframe for follow-up cross-sectional analysis\n",
    "prior_stroke_df.to_csv('prior_stroke_model.csv', index=False)\n",
    "#to csv for dataframe for follow-up cross-sectional analysis\n",
    "incident_cevd_sort.to_csv('incident_cevd_sort_model.csv', index=False)\n",
    "#to csv for dataframe for follow-up cross-sectional analysis\n",
    "control_df.to_csv('control_model.csv', index=False)\n",
    "incidentstroke_df.to_csv('incidentstroke_df.csv', index=False)"
   ]
  },
  {
   "cell_type": "code",
   "execution_count": null,
   "id": "22a6b3cf-a7b7-46a1-ab7e-79cef2f127a9",
   "metadata": {},
   "outputs": [],
   "source": []
  }
 ],
 "metadata": {
  "kernelspec": {
   "display_name": "Python 3 (ipykernel)",
   "language": "python",
   "name": "python3"
  },
  "language_info": {
   "codemirror_mode": {
    "name": "ipython",
    "version": 3
   },
   "file_extension": ".py",
   "mimetype": "text/x-python",
   "name": "python",
   "nbconvert_exporter": "python",
   "pygments_lexer": "ipython3",
   "version": "3.9.16"
  }
 },
 "nbformat": 4,
 "nbformat_minor": 5
}
