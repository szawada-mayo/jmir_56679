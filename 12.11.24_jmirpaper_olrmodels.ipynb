{
 "cells": [
  {
   "cell_type": "code",
   "execution_count": 194,
   "id": "ee318ae9-3dda-41df-843c-2895919a2561",
   "metadata": {
    "tags": []
   },
   "outputs": [
    {
     "name": "stderr",
     "output_type": "stream",
     "text": [
      "Installing package into ‘/usr/local/lib/R/site-library’\n",
      "(as ‘lib’ is unspecified)\n",
      "\n"
     ]
    }
   ],
   "source": [
    "install.packages(\"MASS\")\n",
    "library(MASS)"
   ]
  },
  {
   "cell_type": "code",
   "execution_count": 195,
   "id": "5b39f686-5a7e-43aa-8d16-10d878290a41",
   "metadata": {
    "tags": []
   },
   "outputs": [],
   "source": [
    "#import data of px with prior stroke\n",
    "strokedata <- read.csv(\"prior_stroke_model.csv\")"
   ]
  },
  {
   "cell_type": "code",
   "execution_count": 196,
   "id": "793fc9d1-ca82-4eae-abfa-b4e9850c9eed",
   "metadata": {
    "tags": []
   },
   "outputs": [],
   "source": [
    "#create dataframe from data\n",
    "df <- data.frame(strokedata) "
   ]
  },
  {
   "cell_type": "code",
   "execution_count": 197,
   "id": "f1c579a0-b214-436d-bc37-8f7d345bd8ff",
   "metadata": {
    "tags": []
   },
   "outputs": [
    {
     "data": {
      "text/html": [
       "1603"
      ],
      "text/latex": [
       "1603"
      ],
      "text/markdown": [
       "1603"
      ],
      "text/plain": [
       "[1] 1603"
      ]
     },
     "metadata": {},
     "output_type": "display_data"
    }
   ],
   "source": [
    "# check number of rows - should be 1603 px with prior stroke\n",
    "nrow(df)"
   ]
  },
  {
   "cell_type": "code",
   "execution_count": 198,
   "id": "9d486124-6f72-43e1-a007-21a2fe8f08a4",
   "metadata": {
    "tags": []
   },
   "outputs": [],
   "source": [
    "# create 2 separate dataframes, 1 has depressed px, other has non-depressed px\n",
    "data_cevd <- df[df$dep_diag_yes == 1, ]\n",
    "data_cevdno <- df[df$dep_diag_yes == 0, ]"
   ]
  },
  {
   "cell_type": "code",
   "execution_count": 199,
   "id": "ae2451c9-864e-4f8e-8523-09b76aeb437e",
   "metadata": {
    "tags": []
   },
   "outputs": [
    {
     "data": {
      "text/html": [
       "155"
      ],
      "text/latex": [
       "155"
      ],
      "text/markdown": [
       "155"
      ],
      "text/plain": [
       "[1] 155"
      ]
     },
     "metadata": {},
     "output_type": "display_data"
    }
   ],
   "source": [
    "# check number of rows - should be 155 with prior depression diagnosis (pre-stroke)\n",
    "nrow(data_cevd)"
   ]
  },
  {
   "cell_type": "code",
   "execution_count": 200,
   "id": "c76fd4be-4927-40db-a463-c681b83b0c54",
   "metadata": {
    "tags": []
   },
   "outputs": [
    {
     "data": {
      "text/html": [
       "1448"
      ],
      "text/latex": [
       "1448"
      ],
      "text/markdown": [
       "1448"
      ],
      "text/plain": [
       "[1] 1448"
      ]
     },
     "metadata": {},
     "output_type": "display_data"
    }
   ],
   "source": [
    "# check number of rows - should be 1448 with prior depression diagnosis (pre-stroke)\n",
    "nrow(data_cevdno)"
   ]
  },
  {
   "cell_type": "code",
   "execution_count": 201,
   "id": "467d19e0-bc05-4665-b8d9-4f0e2fb944ab",
   "metadata": {
    "tags": []
   },
   "outputs": [
    {
     "data": {
      "text/html": [
       "<style>\n",
       ".list-inline {list-style: none; margin:0; padding: 0}\n",
       ".list-inline>li {display: inline-block}\n",
       ".list-inline>li:not(:last-child)::after {content: \"\\00b7\"; padding: 0 .5ex}\n",
       "</style>\n",
       "<ol class=list-inline><li>0</li><li>1</li><li>0</li><li>0</li><li>0</li><li>1</li><li>1</li><li>1</li><li>1</li><li>1</li><li>1</li><li>1</li><li>1</li><li>1</li><li>0</li><li>1</li><li>1</li><li>1</li><li>1</li><li>0</li><li>0</li><li>0</li><li>1</li><li>0</li><li>1</li><li>0</li><li>0</li><li>1</li><li>1</li><li>1</li></ol>\n"
      ],
      "text/latex": [
       "\\begin{enumerate*}\n",
       "\\item 0\n",
       "\\item 1\n",
       "\\item 0\n",
       "\\item 0\n",
       "\\item 0\n",
       "\\item 1\n",
       "\\item 1\n",
       "\\item 1\n",
       "\\item 1\n",
       "\\item 1\n",
       "\\item 1\n",
       "\\item 1\n",
       "\\item 1\n",
       "\\item 1\n",
       "\\item 0\n",
       "\\item 1\n",
       "\\item 1\n",
       "\\item 1\n",
       "\\item 1\n",
       "\\item 0\n",
       "\\item 0\n",
       "\\item 0\n",
       "\\item 1\n",
       "\\item 0\n",
       "\\item 1\n",
       "\\item 0\n",
       "\\item 0\n",
       "\\item 1\n",
       "\\item 1\n",
       "\\item 1\n",
       "\\end{enumerate*}\n"
      ],
      "text/markdown": [
       "1. 0\n",
       "2. 1\n",
       "3. 0\n",
       "4. 0\n",
       "5. 0\n",
       "6. 1\n",
       "7. 1\n",
       "8. 1\n",
       "9. 1\n",
       "10. 1\n",
       "11. 1\n",
       "12. 1\n",
       "13. 1\n",
       "14. 1\n",
       "15. 0\n",
       "16. 1\n",
       "17. 1\n",
       "18. 1\n",
       "19. 1\n",
       "20. 0\n",
       "21. 0\n",
       "22. 0\n",
       "23. 1\n",
       "24. 0\n",
       "25. 1\n",
       "26. 0\n",
       "27. 0\n",
       "28. 1\n",
       "29. 1\n",
       "30. 1\n",
       "\n",
       "\n"
      ],
      "text/plain": [
       " [1] 0 1 0 0 0 1 1 1 1 1 1 1 1 1 0 1 1 1 1 0 0 0 1 0 1 0 0 1 1 1"
      ]
     },
     "metadata": {},
     "output_type": "display_data"
    }
   ],
   "source": [
    "# make variables into factors or filtered variables\n",
    "data_cevd$p20510 <- factor(data_cevd$p20510, ordered = TRUE, levels = c( 1, 2, 3, 4))\n",
    "data_cevdno$p20510 <- factor(data_cevdno$p20510, ordered = TRUE, levels = c( 1, 2, 3, 4))\n",
    "data_cevd$sleep_filter <- ifelse(data_cevd$pa_sleep_convert_hr >= 7 & data_cevd$pa_sleep_convert_hr <= 9, 1, 0)\n",
    "data_cevdno$sleep_filter <- ifelse(data_cevdno$pa_sleep_convert_hr >= 7 & data_cevdno$pa_sleep_convert_hr <=9, 1, 0)\n",
    "#check it was successful\n",
    "head(data_cevdno$sleep_filter, 30)"
   ]
  },
  {
   "cell_type": "code",
   "execution_count": 207,
   "id": "879761b8-2dcb-4540-aaec-844b8016000d",
   "metadata": {
    "tags": []
   },
   "outputs": [
    {
     "name": "stderr",
     "output_type": "stream",
     "text": [
      "Warning message in polr(p20510 ~ card_sum_filter + hchol_yes + diab_yes + study_t2e + :\n",
      "“design appears to be rank-deficient, so dropping some coefs”\n",
      "Warning message in polr(p20510 ~ card_sum_filter + hchol_yes + diab_yes + study_t2e + :\n",
      "“design appears to be rank-deficient, so dropping some coefs”\n"
     ]
    }
   ],
   "source": [
    "model_dy <- polr(p20510 ~  card_sum_filter +hchol_yes +  diab_yes+ study_t2e+ white_yes+ acc_age + male +sleep_filter +pa_sed_convert  + pa_light_convert + pa_mv_convert_log, data = data_cevd, Hess = TRUE)\n",
    "model_dn <- polr(p20510 ~  card_sum_filter+hchol_yes + diab_yes+ study_t2e+  white_yes+ acc_age + male+ sleep_filter +pa_sed_convert  + pa_light_convert + pa_mv_convert_log, data = data_cevdno, Hess = TRUE)"
   ]
  },
  {
   "cell_type": "code",
   "execution_count": 208,
   "id": "a5d2d951-b1c7-4378-8df9-ed66b760accc",
   "metadata": {
    "tags": []
   },
   "outputs": [
    {
     "name": "stdout",
     "output_type": "stream",
     "text": [
      "                          OR      lower      upper\n",
      "hchol_yes         0.50358105 0.24222535 1.04693370\n",
      "diab_yes          2.62201318 0.91872793 7.48312195\n",
      "study_t2e         0.77368386 0.47791622 1.25249300\n",
      "white_yes         0.37328773 0.04876908 2.85721485\n",
      "acc_age           0.96663995 0.92505738 1.01009172\n",
      "male              0.76692306 0.37583588 1.56496764\n",
      "sleep_filter      0.48585478 0.22930242 1.02944774\n",
      "pa_sed_convert    1.00300796 0.99946729 1.00656117\n",
      "pa_light_convert  0.99758721 0.99388003 1.00130822\n",
      "pa_mv_convert_log 0.86058345 0.63469181 1.16687165\n",
      "1|2               0.03862229 0.02339164 0.06376983\n",
      "2|3               0.37348655 0.17074384 0.81696770\n",
      "3|4               0.89920342 0.34363297 2.35299538\n"
     ]
    }
   ],
   "source": [
    "df_model_dy <- summary(model_dy)\n",
    "#get odds ratios\n",
    "odds_ratios_dy <- exp(df_model_dy$coefficients[, \"Value\"])\n",
    "#get standard errors\n",
    "stde_dy <- df_model_dy$coefficients[, \"Std. Error\"]\n",
    "#get 95% confidence intervals\n",
    "conf_int_dy <- exp(cbind(\n",
    "  OR = df_model_dy$coefficients[, \"Value\"],\n",
    "  lower = df_model_dy$coefficients[, \"Value\"] - 1.96 * stde_dy,\n",
    "  upper = df_model_dy$coefficients[, \"Value\"] + 1.96 * stde_dy \n",
    "))\n",
    "\n",
    "print(conf_int_dy)"
   ]
  },
  {
   "cell_type": "code",
   "execution_count": 209,
   "id": "ae4db7c0-d438-4377-ad20-2a7032dd6de8",
   "metadata": {
    "tags": []
   },
   "outputs": [
    {
     "data": {
      "text/html": [
       "<table class=\"dataframe\">\n",
       "<caption>A matrix: 13 × 4 of type dbl</caption>\n",
       "<thead>\n",
       "\t<tr><th></th><th scope=col>Value</th><th scope=col>Std. Error</th><th scope=col>t value</th><th scope=col>p value</th></tr>\n",
       "</thead>\n",
       "<tbody>\n",
       "\t<tr><th scope=row>hchol_yes</th><td>-0.686010601</td><td>0.373406226</td><td> -1.8371697</td><td>6.618485e-02</td></tr>\n",
       "\t<tr><th scope=row>diab_yes</th><td> 0.963942413</td><td>0.535054931</td><td>  1.8015765</td><td>7.161205e-02</td></tr>\n",
       "\t<tr><th scope=row>study_t2e</th><td>-0.256591932</td><td>0.245779540</td><td> -1.0439922</td><td>2.964890e-01</td></tr>\n",
       "\t<tr><th scope=row>white_yes</th><td>-0.985405768</td><td>1.038394434</td><td> -0.9489706</td><td>3.426356e-01</td></tr>\n",
       "\t<tr><th scope=row>acc_age</th><td>-0.033929186</td><td>0.022433841</td><td> -1.5124109</td><td>1.304294e-01</td></tr>\n",
       "\t<tr><th scope=row>male</th><td>-0.265368791</td><td>0.363894866</td><td> -0.7292458</td><td>4.658513e-01</td></tr>\n",
       "\t<tr><th scope=row>sleep_filter</th><td>-0.721845515</td><td>0.383095919</td><td> -1.8842422</td><td>5.953222e-02</td></tr>\n",
       "\t<tr><th scope=row>pa_sed_convert</th><td> 0.003003442</td><td>0.001804231</td><td>  1.6646656</td><td>9.597950e-02</td></tr>\n",
       "\t<tr><th scope=row>pa_light_convert</th><td>-0.002415701</td><td>0.001899525</td><td> -1.2717397</td><td>2.034656e-01</td></tr>\n",
       "\t<tr><th scope=row>pa_mv_convert_log</th><td>-0.150144687</td><td>0.155342373</td><td> -0.9665405</td><td>3.337738e-01</td></tr>\n",
       "\t<tr><th scope=row>1|2</th><td>-3.253925771</td><td>0.255842185</td><td>-12.7184880</td><td>4.668054e-37</td></tr>\n",
       "\t<tr><th scope=row>2|3</th><td>-0.984873289</td><td>0.399345700</td><td> -2.4662173</td><td>1.365485e-02</td></tr>\n",
       "\t<tr><th scope=row>3|4</th><td>-0.106245999</td><td>0.490783238</td><td> -0.2164825</td><td>8.286116e-01</td></tr>\n",
       "</tbody>\n",
       "</table>\n"
      ],
      "text/latex": [
       "A matrix: 13 × 4 of type dbl\n",
       "\\begin{tabular}{r|llll}\n",
       "  & Value & Std. Error & t value & p value\\\\\n",
       "\\hline\n",
       "\thchol\\_yes & -0.686010601 & 0.373406226 &  -1.8371697 & 6.618485e-02\\\\\n",
       "\tdiab\\_yes &  0.963942413 & 0.535054931 &   1.8015765 & 7.161205e-02\\\\\n",
       "\tstudy\\_t2e & -0.256591932 & 0.245779540 &  -1.0439922 & 2.964890e-01\\\\\n",
       "\twhite\\_yes & -0.985405768 & 1.038394434 &  -0.9489706 & 3.426356e-01\\\\\n",
       "\tacc\\_age & -0.033929186 & 0.022433841 &  -1.5124109 & 1.304294e-01\\\\\n",
       "\tmale & -0.265368791 & 0.363894866 &  -0.7292458 & 4.658513e-01\\\\\n",
       "\tsleep\\_filter & -0.721845515 & 0.383095919 &  -1.8842422 & 5.953222e-02\\\\\n",
       "\tpa\\_sed\\_convert &  0.003003442 & 0.001804231 &   1.6646656 & 9.597950e-02\\\\\n",
       "\tpa\\_light\\_convert & -0.002415701 & 0.001899525 &  -1.2717397 & 2.034656e-01\\\\\n",
       "\tpa\\_mv\\_convert\\_log & -0.150144687 & 0.155342373 &  -0.9665405 & 3.337738e-01\\\\\n",
       "\t1\\textbar{}2 & -3.253925771 & 0.255842185 & -12.7184880 & 4.668054e-37\\\\\n",
       "\t2\\textbar{}3 & -0.984873289 & 0.399345700 &  -2.4662173 & 1.365485e-02\\\\\n",
       "\t3\\textbar{}4 & -0.106245999 & 0.490783238 &  -0.2164825 & 8.286116e-01\\\\\n",
       "\\end{tabular}\n"
      ],
      "text/markdown": [
       "\n",
       "A matrix: 13 × 4 of type dbl\n",
       "\n",
       "| <!--/--> | Value | Std. Error | t value | p value |\n",
       "|---|---|---|---|---|\n",
       "| hchol_yes | -0.686010601 | 0.373406226 |  -1.8371697 | 6.618485e-02 |\n",
       "| diab_yes |  0.963942413 | 0.535054931 |   1.8015765 | 7.161205e-02 |\n",
       "| study_t2e | -0.256591932 | 0.245779540 |  -1.0439922 | 2.964890e-01 |\n",
       "| white_yes | -0.985405768 | 1.038394434 |  -0.9489706 | 3.426356e-01 |\n",
       "| acc_age | -0.033929186 | 0.022433841 |  -1.5124109 | 1.304294e-01 |\n",
       "| male | -0.265368791 | 0.363894866 |  -0.7292458 | 4.658513e-01 |\n",
       "| sleep_filter | -0.721845515 | 0.383095919 |  -1.8842422 | 5.953222e-02 |\n",
       "| pa_sed_convert |  0.003003442 | 0.001804231 |   1.6646656 | 9.597950e-02 |\n",
       "| pa_light_convert | -0.002415701 | 0.001899525 |  -1.2717397 | 2.034656e-01 |\n",
       "| pa_mv_convert_log | -0.150144687 | 0.155342373 |  -0.9665405 | 3.337738e-01 |\n",
       "| 1|2 | -3.253925771 | 0.255842185 | -12.7184880 | 4.668054e-37 |\n",
       "| 2|3 | -0.984873289 | 0.399345700 |  -2.4662173 | 1.365485e-02 |\n",
       "| 3|4 | -0.106245999 | 0.490783238 |  -0.2164825 | 8.286116e-01 |\n",
       "\n"
      ],
      "text/plain": [
       "                  Value        Std. Error  t value     p value     \n",
       "hchol_yes         -0.686010601 0.373406226  -1.8371697 6.618485e-02\n",
       "diab_yes           0.963942413 0.535054931   1.8015765 7.161205e-02\n",
       "study_t2e         -0.256591932 0.245779540  -1.0439922 2.964890e-01\n",
       "white_yes         -0.985405768 1.038394434  -0.9489706 3.426356e-01\n",
       "acc_age           -0.033929186 0.022433841  -1.5124109 1.304294e-01\n",
       "male              -0.265368791 0.363894866  -0.7292458 4.658513e-01\n",
       "sleep_filter      -0.721845515 0.383095919  -1.8842422 5.953222e-02\n",
       "pa_sed_convert     0.003003442 0.001804231   1.6646656 9.597950e-02\n",
       "pa_light_convert  -0.002415701 0.001899525  -1.2717397 2.034656e-01\n",
       "pa_mv_convert_log -0.150144687 0.155342373  -0.9665405 3.337738e-01\n",
       "1|2               -3.253925771 0.255842185 -12.7184880 4.668054e-37\n",
       "2|3               -0.984873289 0.399345700  -2.4662173 1.365485e-02\n",
       "3|4               -0.106245999 0.490783238  -0.2164825 8.286116e-01"
      ]
     },
     "metadata": {},
     "output_type": "display_data"
    }
   ],
   "source": [
    "#make a table of coefficients\n",
    "ctable_dy <- coef(summary(model_dy))\n",
    "#get p values\n",
    "p_dy <- pnorm(abs(ctable_dy[, \"t value\"]), lower.tail = FALSE) * 2\n",
    "#get table\n",
    "(ctable_dy <- cbind(ctable_dy, \"p value\" = p_dy))"
   ]
  },
  {
   "cell_type": "code",
   "execution_count": 212,
   "id": "21f90985-7fb5-462b-aa4f-4041749edd3c",
   "metadata": {
    "tags": []
   },
   "outputs": [
    {
     "name": "stdout",
     "output_type": "stream",
     "text": [
      "                         OR     lower     upper\n",
      "hchol_yes         1.0092582 0.7611973 1.3381579\n",
      "diab_yes          1.1148429 0.7123923 1.7446493\n",
      "study_t2e         1.0817931 0.8839403 1.3239314\n",
      "white_yes         1.1777513 0.5206143 2.6643488\n",
      "acc_age           0.9655556 0.9498226 0.9815493\n",
      "male              0.6481931 0.4869224 0.8628773\n",
      "sleep_filter      0.8815599 0.6548284 1.1867961\n",
      "pa_sed_convert    1.0003175 0.9990416 1.0015950\n",
      "pa_light_convert  0.9992721 0.9977587 1.0007878\n",
      "pa_mv_convert_log 0.7702306 0.6855854 0.8653264\n",
      "1|2               0.1863077 0.1483181 0.2340277\n",
      "2|3               1.2503077 0.8883964 1.7596530\n",
      "3|4               2.7908439 1.7767466 4.3837481\n"
     ]
    }
   ],
   "source": [
    "df_model_dn <- summary(model_dn)\n",
    "#get odds ratios\n",
    "odds_ratios_dn <- exp(df_model_dn$coefficients[, \"Value\"])\n",
    "#get standard errors\n",
    "stde_dn <- df_model_dn$coefficients[, \"Std. Error\"]\n",
    "#get 95% confidence intervals\n",
    "conf_int_dn <- exp(cbind(\n",
    "  OR = df_model_dn$coefficients[, \"Value\"],\n",
    "  lower = df_model_dn$coefficients[, \"Value\"] - 1.96 * stde_dn,\n",
    "  upper = df_model_dn$coefficients[, \"Value\"] + 1.96 * stde_dn \n",
    "))\n",
    "\n",
    "print(conf_int_dn)\n"
   ]
  },
  {
   "cell_type": "code",
   "execution_count": 211,
   "id": "39cf43a9-9b3d-456f-971c-334d86a513b9",
   "metadata": {
    "tags": []
   },
   "outputs": [
    {
     "data": {
      "text/html": [
       "<table class=\"dataframe\">\n",
       "<caption>A matrix: 13 × 4 of type dbl</caption>\n",
       "<thead>\n",
       "\t<tr><th></th><th scope=col>Value</th><th scope=col>Std. Error</th><th scope=col>t value</th><th scope=col>p value</th></tr>\n",
       "</thead>\n",
       "<tbody>\n",
       "\t<tr><th scope=row>hchol_yes</th><td> 0.0092156352</td><td>0.1439175205</td><td>  0.06403414</td><td>9.489430e-01</td></tr>\n",
       "\t<tr><th scope=row>diab_yes</th><td> 0.1087135182</td><td>0.2284898237</td><td>  0.47579151</td><td>6.342229e-01</td></tr>\n",
       "\t<tr><th scope=row>study_t2e</th><td> 0.0786199227</td><td>0.1030539299</td><td>  0.76290077</td><td>4.455226e-01</td></tr>\n",
       "\t<tr><th scope=row>white_yes</th><td> 0.1636069296</td><td>0.4165064960</td><td>  0.39280763</td><td>6.944616e-01</td></tr>\n",
       "\t<tr><th scope=row>acc_age</th><td>-0.0350515615</td><td>0.0083818754</td><td> -4.18182803</td><td>2.891747e-05</td></tr>\n",
       "\t<tr><th scope=row>male</th><td>-0.4335666694</td><td>0.1459611404</td><td> -2.97042534</td><td>2.973877e-03</td></tr>\n",
       "\t<tr><th scope=row>sleep_filter</th><td>-0.1260623511</td><td>0.1516937155</td><td> -0.83103213</td><td>4.059555e-01</td></tr>\n",
       "\t<tr><th scope=row>pa_sed_convert</th><td> 0.0003174369</td><td>0.0006511564</td><td>  0.48749720</td><td>6.259060e-01</td></tr>\n",
       "\t<tr><th scope=row>pa_light_convert</th><td>-0.0007281600</td><td>0.0007732849</td><td> -0.94164521</td><td>3.463743e-01</td></tr>\n",
       "\t<tr><th scope=row>pa_mv_convert_log</th><td>-0.2610653829</td><td>0.0593963567</td><td> -4.39530970</td><td>1.106149e-05</td></tr>\n",
       "\t<tr><th scope=row>1|2</th><td>-1.6803558993</td><td>0.1163468957</td><td>-14.44263630</td><td>2.789643e-47</td></tr>\n",
       "\t<tr><th scope=row>2|3</th><td> 0.2233896634</td><td>0.1743504879</td><td>  1.28126778</td><td>2.000996e-01</td></tr>\n",
       "\t<tr><th scope=row>3|4</th><td> 1.0263440182</td><td>0.2303877964</td><td>  4.45485410</td><td>8.395027e-06</td></tr>\n",
       "</tbody>\n",
       "</table>\n"
      ],
      "text/latex": [
       "A matrix: 13 × 4 of type dbl\n",
       "\\begin{tabular}{r|llll}\n",
       "  & Value & Std. Error & t value & p value\\\\\n",
       "\\hline\n",
       "\thchol\\_yes &  0.0092156352 & 0.1439175205 &   0.06403414 & 9.489430e-01\\\\\n",
       "\tdiab\\_yes &  0.1087135182 & 0.2284898237 &   0.47579151 & 6.342229e-01\\\\\n",
       "\tstudy\\_t2e &  0.0786199227 & 0.1030539299 &   0.76290077 & 4.455226e-01\\\\\n",
       "\twhite\\_yes &  0.1636069296 & 0.4165064960 &   0.39280763 & 6.944616e-01\\\\\n",
       "\tacc\\_age & -0.0350515615 & 0.0083818754 &  -4.18182803 & 2.891747e-05\\\\\n",
       "\tmale & -0.4335666694 & 0.1459611404 &  -2.97042534 & 2.973877e-03\\\\\n",
       "\tsleep\\_filter & -0.1260623511 & 0.1516937155 &  -0.83103213 & 4.059555e-01\\\\\n",
       "\tpa\\_sed\\_convert &  0.0003174369 & 0.0006511564 &   0.48749720 & 6.259060e-01\\\\\n",
       "\tpa\\_light\\_convert & -0.0007281600 & 0.0007732849 &  -0.94164521 & 3.463743e-01\\\\\n",
       "\tpa\\_mv\\_convert\\_log & -0.2610653829 & 0.0593963567 &  -4.39530970 & 1.106149e-05\\\\\n",
       "\t1\\textbar{}2 & -1.6803558993 & 0.1163468957 & -14.44263630 & 2.789643e-47\\\\\n",
       "\t2\\textbar{}3 &  0.2233896634 & 0.1743504879 &   1.28126778 & 2.000996e-01\\\\\n",
       "\t3\\textbar{}4 &  1.0263440182 & 0.2303877964 &   4.45485410 & 8.395027e-06\\\\\n",
       "\\end{tabular}\n"
      ],
      "text/markdown": [
       "\n",
       "A matrix: 13 × 4 of type dbl\n",
       "\n",
       "| <!--/--> | Value | Std. Error | t value | p value |\n",
       "|---|---|---|---|---|\n",
       "| hchol_yes |  0.0092156352 | 0.1439175205 |   0.06403414 | 9.489430e-01 |\n",
       "| diab_yes |  0.1087135182 | 0.2284898237 |   0.47579151 | 6.342229e-01 |\n",
       "| study_t2e |  0.0786199227 | 0.1030539299 |   0.76290077 | 4.455226e-01 |\n",
       "| white_yes |  0.1636069296 | 0.4165064960 |   0.39280763 | 6.944616e-01 |\n",
       "| acc_age | -0.0350515615 | 0.0083818754 |  -4.18182803 | 2.891747e-05 |\n",
       "| male | -0.4335666694 | 0.1459611404 |  -2.97042534 | 2.973877e-03 |\n",
       "| sleep_filter | -0.1260623511 | 0.1516937155 |  -0.83103213 | 4.059555e-01 |\n",
       "| pa_sed_convert |  0.0003174369 | 0.0006511564 |   0.48749720 | 6.259060e-01 |\n",
       "| pa_light_convert | -0.0007281600 | 0.0007732849 |  -0.94164521 | 3.463743e-01 |\n",
       "| pa_mv_convert_log | -0.2610653829 | 0.0593963567 |  -4.39530970 | 1.106149e-05 |\n",
       "| 1|2 | -1.6803558993 | 0.1163468957 | -14.44263630 | 2.789643e-47 |\n",
       "| 2|3 |  0.2233896634 | 0.1743504879 |   1.28126778 | 2.000996e-01 |\n",
       "| 3|4 |  1.0263440182 | 0.2303877964 |   4.45485410 | 8.395027e-06 |\n",
       "\n"
      ],
      "text/plain": [
       "                  Value         Std. Error   t value      p value     \n",
       "hchol_yes          0.0092156352 0.1439175205   0.06403414 9.489430e-01\n",
       "diab_yes           0.1087135182 0.2284898237   0.47579151 6.342229e-01\n",
       "study_t2e          0.0786199227 0.1030539299   0.76290077 4.455226e-01\n",
       "white_yes          0.1636069296 0.4165064960   0.39280763 6.944616e-01\n",
       "acc_age           -0.0350515615 0.0083818754  -4.18182803 2.891747e-05\n",
       "male              -0.4335666694 0.1459611404  -2.97042534 2.973877e-03\n",
       "sleep_filter      -0.1260623511 0.1516937155  -0.83103213 4.059555e-01\n",
       "pa_sed_convert     0.0003174369 0.0006511564   0.48749720 6.259060e-01\n",
       "pa_light_convert  -0.0007281600 0.0007732849  -0.94164521 3.463743e-01\n",
       "pa_mv_convert_log -0.2610653829 0.0593963567  -4.39530970 1.106149e-05\n",
       "1|2               -1.6803558993 0.1163468957 -14.44263630 2.789643e-47\n",
       "2|3                0.2233896634 0.1743504879   1.28126778 2.000996e-01\n",
       "3|4                1.0263440182 0.2303877964   4.45485410 8.395027e-06"
      ]
     },
     "metadata": {},
     "output_type": "display_data"
    }
   ],
   "source": [
    "\n",
    "#make a table of coefficients\n",
    "ctable_dn <- coef(summary(model_dn))\n",
    "#get p values\n",
    "p_dn <- pnorm(abs(ctable_dn[, \"t value\"]), lower.tail = FALSE) * 2\n",
    "#get table\n",
    "(ctable_dn <- cbind(ctable_dn, \"p value\" = p_dn))"
   ]
  },
  {
   "cell_type": "code",
   "execution_count": 213,
   "id": "1bb849ea-d6a7-4940-b9ba-cca62b935607",
   "metadata": {
    "tags": []
   },
   "outputs": [],
   "source": [
    "#full data for all patients who have no prior stroke\n",
    "controldata <- read.csv(\"control_model.csv\")"
   ]
  },
  {
   "cell_type": "code",
   "execution_count": 214,
   "id": "c56c9f7b-7762-4f68-bcbc-03dee36323e1",
   "metadata": {
    "tags": []
   },
   "outputs": [],
   "source": [
    "control_df <- data.frame(controldata) "
   ]
  },
  {
   "cell_type": "code",
   "execution_count": 215,
   "id": "23705a63-1a72-4435-8383-d2713f2ddf66",
   "metadata": {
    "tags": []
   },
   "outputs": [
    {
     "data": {
      "text/html": [
       "68685"
      ],
      "text/latex": [
       "68685"
      ],
      "text/markdown": [
       "68685"
      ],
      "text/plain": [
       "[1] 68685"
      ]
     },
     "metadata": {},
     "output_type": "display_data"
    }
   ],
   "source": [
    "# check number of rows - should be 68685 without a prior stroke\n",
    "nrow(control_df)"
   ]
  },
  {
   "cell_type": "code",
   "execution_count": 216,
   "id": "36190e1d-948c-4de1-8de1-7b3d93721bd1",
   "metadata": {
    "tags": []
   },
   "outputs": [],
   "source": [
    "# create 2 separate dataframes, 1 has depressed px, other has non-depressed px\n",
    "controldata_cevd <- control_df[control_df$dep_diag_yes == 1, ]\n",
    "controldata_cevdno <- control_df[control_df$dep_diag_yes == 0, ]"
   ]
  },
  {
   "cell_type": "code",
   "execution_count": 217,
   "id": "fadd411c-1e0d-4f9a-bd56-eefe78b316c6",
   "metadata": {
    "tags": []
   },
   "outputs": [
    {
     "data": {
      "text/html": [
       "6096"
      ],
      "text/latex": [
       "6096"
      ],
      "text/markdown": [
       "6096"
      ],
      "text/plain": [
       "[1] 6096"
      ]
     },
     "metadata": {},
     "output_type": "display_data"
    }
   ],
   "source": [
    "#should be 6096\n",
    "nrow(controldata_cevd)"
   ]
  },
  {
   "cell_type": "code",
   "execution_count": 218,
   "id": "544d41d4-8e47-4a63-b299-78e1de9fa9b1",
   "metadata": {
    "tags": []
   },
   "outputs": [
    {
     "data": {
      "text/html": [
       "62589"
      ],
      "text/latex": [
       "62589"
      ],
      "text/markdown": [
       "62589"
      ],
      "text/plain": [
       "[1] 62589"
      ]
     },
     "metadata": {},
     "output_type": "display_data"
    }
   ],
   "source": [
    "#should be 62589\n",
    "nrow(controldata_cevdno)"
   ]
  },
  {
   "cell_type": "code",
   "execution_count": 219,
   "id": "cf4f84f0-f14c-414d-a71d-125bdb78d6a9",
   "metadata": {
    "tags": []
   },
   "outputs": [],
   "source": [
    "#create variables from factoring and filter controls\n",
    "controldata_cevd$p20510 <- factor(controldata_cevd$p20510, ordered = TRUE, levels = c( 1, 2, 3, 4))\n",
    "controldata_cevdno$p20510 <- factor(controldata_cevdno$p20510, ordered = TRUE, levels = c( 1, 2, 3, 4))\n",
    "controldata_cevd$sleep_filter <- ifelse(controldata_cevd$pa_sleep_convert_hr >= 7 & controldata_cevd$pa_sleep_convert_hr <= 9, 1, 0)\n",
    "controldata_cevdno$sleep_filter <- ifelse(controldata_cevdno$pa_sleep_convert_hr >= 7 & controldata_cevdno$pa_sleep_convert_hr <=9, 1, 0)"
   ]
  },
  {
   "cell_type": "code",
   "execution_count": 220,
   "id": "562aadf0-7876-471b-aef7-d1c1ab54b5d5",
   "metadata": {
    "tags": []
   },
   "outputs": [
    {
     "name": "stderr",
     "output_type": "stream",
     "text": [
      "Warning message in polr(p20510 ~ card_sum_filter + hchol_yes + diab_yes + study_t2e + :\n",
      "“design appears to be rank-deficient, so dropping some coefs”\n",
      "Warning message in polr(p20510 ~ card_sum_filter + hchol_yes + diab_yes + study_t2e + :\n",
      "“design appears to be rank-deficient, so dropping some coefs”\n"
     ]
    }
   ],
   "source": [
    "model_dy <- polr(p20510 ~ card_sum_filter +hchol_yes +  diab_yes+ study_t2e+   white_yes+ acc_age + male +sleep_filter +pa_sed_convert  + pa_light_convert + pa_mv_convert_log, data = controldata_cevd, Hess = TRUE)\n",
    "model_dn <- polr(p20510 ~ card_sum_filter +hchol_yes +  diab_yes+ study_t2e+   white_yes+ acc_age + male+ sleep_filter +pa_sed_convert  + pa_light_convert + pa_mv_convert_log, data = controldata_cevdno, Hess = TRUE)"
   ]
  },
  {
   "cell_type": "code",
   "execution_count": 222,
   "id": "945d9ca3-fb33-43a1-b041-053de5885715",
   "metadata": {
    "tags": []
   },
   "outputs": [
    {
     "name": "stdout",
     "output_type": "stream",
     "text": [
      "                          OR      lower      upper\n",
      "hchol_yes         1.16308726 1.01805640 1.32877900\n",
      "diab_yes          1.43291210 1.12336488 1.82775619\n",
      "study_t2e         1.08179692 1.00466426 1.16485141\n",
      "white_yes         0.92575461 0.69144055 1.23947258\n",
      "acc_age           0.96472300 0.95922148 0.97025607\n",
      "male              1.09235980 0.97527050 1.22350664\n",
      "sleep_filter      1.02218650 0.91617554 1.14046402\n",
      "pa_sed_convert    1.00003835 0.99957038 1.00050653\n",
      "pa_light_convert  0.99983194 0.99927221 1.00039199\n",
      "pa_mv_convert_log 0.81555437 0.78008214 0.85263961\n",
      "1|2               0.08292241 0.07739713 0.08884213\n",
      "2|3               0.60524616 0.54564963 0.67135191\n",
      "3|4               1.34597146 1.18009675 1.53516157\n"
     ]
    }
   ],
   "source": [
    "df_model_dy <- summary(model_dy)\n",
    "#get odds ratios\n",
    "odds_ratios_dy <- exp(df_model_dy$coefficients[, \"Value\"])\n",
    "#get standard errors\n",
    "stde_dy <- df_model_dy$coefficients[, \"Std. Error\"]\n",
    "#get 95% confidence intervals\n",
    "conf_int_dy <- exp(cbind(\n",
    "  OR = df_model_dy$coefficients[, \"Value\"],\n",
    "  lower = df_model_dy$coefficients[, \"Value\"] - 1.96 * stde_dy,\n",
    "  upper = df_model_dy$coefficients[, \"Value\"] + 1.96 * stde_dy \n",
    "))\n",
    "print(conf_int_dy)"
   ]
  },
  {
   "cell_type": "code",
   "execution_count": 223,
   "id": "8ccda2f5-ffc8-41c3-982d-5afff1f63bf1",
   "metadata": {
    "tags": []
   },
   "outputs": [
    {
     "data": {
      "text/html": [
       "<table class=\"dataframe\">\n",
       "<caption>A matrix: 13 × 4 of type dbl</caption>\n",
       "<thead>\n",
       "\t<tr><th></th><th scope=col>Value</th><th scope=col>Std. Error</th><th scope=col>t value</th><th scope=col>p value</th></tr>\n",
       "</thead>\n",
       "<tbody>\n",
       "\t<tr><th scope=row>hchol_yes</th><td> 0.1510779007</td><td>0.0679502952</td><td>  2.2233590</td><td>2.619160e-02</td></tr>\n",
       "\t<tr><th scope=row>diab_yes</th><td> 0.3597088104</td><td>0.1241736104</td><td>  2.8968217</td><td>3.769639e-03</td></tr>\n",
       "\t<tr><th scope=row>study_t2e</th><td> 0.0786234754</td><td>0.0377398259</td><td>  2.0833025</td><td>3.722365e-02</td></tr>\n",
       "\t<tr><th scope=row>white_yes</th><td>-0.0771460799</td><td>0.1488938916</td><td> -0.5181279</td><td>6.043690e-01</td></tr>\n",
       "\t<tr><th scope=row>acc_age</th><td>-0.0359142639</td><td>0.0029178639</td><td>-12.3084095</td><td>8.161570e-35</td></tr>\n",
       "\t<tr><th scope=row>male</th><td> 0.0883403129</td><td>0.0578473065</td><td>  1.5271292</td><td>1.267289e-01</td></tr>\n",
       "\t<tr><th scope=row>sleep_filter</th><td> 0.0219439613</td><td>0.0558628835</td><td>  0.3928183</td><td>6.944537e-01</td></tr>\n",
       "\t<tr><th scope=row>pa_sed_convert</th><td> 0.0000383451</td><td>0.0002388054</td><td>  0.1605705</td><td>8.724317e-01</td></tr>\n",
       "\t<tr><th scope=row>pa_light_convert</th><td>-0.0001680723</td><td>0.0002857060</td><td> -0.5882699</td><td>5.563512e-01</td></tr>\n",
       "\t<tr><th scope=row>pa_mv_convert_log</th><td>-0.2038871862</td><td>0.0226881989</td><td> -8.9864862</td><td>2.552608e-19</td></tr>\n",
       "\t<tr><th scope=row>1|2</th><td>-2.4898499824</td><td>0.0351814436</td><td>-70.7716832</td><td>0.000000e+00</td></tr>\n",
       "\t<tr><th scope=row>2|3</th><td>-0.5021200223</td><td>0.0528868358</td><td> -9.4942345</td><td>2.218352e-21</td></tr>\n",
       "\t<tr><th scope=row>3|4</th><td> 0.2971160283</td><td>0.0671018380</td><td>  4.4278374</td><td>9.518261e-06</td></tr>\n",
       "</tbody>\n",
       "</table>\n"
      ],
      "text/latex": [
       "A matrix: 13 × 4 of type dbl\n",
       "\\begin{tabular}{r|llll}\n",
       "  & Value & Std. Error & t value & p value\\\\\n",
       "\\hline\n",
       "\thchol\\_yes &  0.1510779007 & 0.0679502952 &   2.2233590 & 2.619160e-02\\\\\n",
       "\tdiab\\_yes &  0.3597088104 & 0.1241736104 &   2.8968217 & 3.769639e-03\\\\\n",
       "\tstudy\\_t2e &  0.0786234754 & 0.0377398259 &   2.0833025 & 3.722365e-02\\\\\n",
       "\twhite\\_yes & -0.0771460799 & 0.1488938916 &  -0.5181279 & 6.043690e-01\\\\\n",
       "\tacc\\_age & -0.0359142639 & 0.0029178639 & -12.3084095 & 8.161570e-35\\\\\n",
       "\tmale &  0.0883403129 & 0.0578473065 &   1.5271292 & 1.267289e-01\\\\\n",
       "\tsleep\\_filter &  0.0219439613 & 0.0558628835 &   0.3928183 & 6.944537e-01\\\\\n",
       "\tpa\\_sed\\_convert &  0.0000383451 & 0.0002388054 &   0.1605705 & 8.724317e-01\\\\\n",
       "\tpa\\_light\\_convert & -0.0001680723 & 0.0002857060 &  -0.5882699 & 5.563512e-01\\\\\n",
       "\tpa\\_mv\\_convert\\_log & -0.2038871862 & 0.0226881989 &  -8.9864862 & 2.552608e-19\\\\\n",
       "\t1\\textbar{}2 & -2.4898499824 & 0.0351814436 & -70.7716832 & 0.000000e+00\\\\\n",
       "\t2\\textbar{}3 & -0.5021200223 & 0.0528868358 &  -9.4942345 & 2.218352e-21\\\\\n",
       "\t3\\textbar{}4 &  0.2971160283 & 0.0671018380 &   4.4278374 & 9.518261e-06\\\\\n",
       "\\end{tabular}\n"
      ],
      "text/markdown": [
       "\n",
       "A matrix: 13 × 4 of type dbl\n",
       "\n",
       "| <!--/--> | Value | Std. Error | t value | p value |\n",
       "|---|---|---|---|---|\n",
       "| hchol_yes |  0.1510779007 | 0.0679502952 |   2.2233590 | 2.619160e-02 |\n",
       "| diab_yes |  0.3597088104 | 0.1241736104 |   2.8968217 | 3.769639e-03 |\n",
       "| study_t2e |  0.0786234754 | 0.0377398259 |   2.0833025 | 3.722365e-02 |\n",
       "| white_yes | -0.0771460799 | 0.1488938916 |  -0.5181279 | 6.043690e-01 |\n",
       "| acc_age | -0.0359142639 | 0.0029178639 | -12.3084095 | 8.161570e-35 |\n",
       "| male |  0.0883403129 | 0.0578473065 |   1.5271292 | 1.267289e-01 |\n",
       "| sleep_filter |  0.0219439613 | 0.0558628835 |   0.3928183 | 6.944537e-01 |\n",
       "| pa_sed_convert |  0.0000383451 | 0.0002388054 |   0.1605705 | 8.724317e-01 |\n",
       "| pa_light_convert | -0.0001680723 | 0.0002857060 |  -0.5882699 | 5.563512e-01 |\n",
       "| pa_mv_convert_log | -0.2038871862 | 0.0226881989 |  -8.9864862 | 2.552608e-19 |\n",
       "| 1|2 | -2.4898499824 | 0.0351814436 | -70.7716832 | 0.000000e+00 |\n",
       "| 2|3 | -0.5021200223 | 0.0528868358 |  -9.4942345 | 2.218352e-21 |\n",
       "| 3|4 |  0.2971160283 | 0.0671018380 |   4.4278374 | 9.518261e-06 |\n",
       "\n"
      ],
      "text/plain": [
       "                  Value         Std. Error   t value     p value     \n",
       "hchol_yes          0.1510779007 0.0679502952   2.2233590 2.619160e-02\n",
       "diab_yes           0.3597088104 0.1241736104   2.8968217 3.769639e-03\n",
       "study_t2e          0.0786234754 0.0377398259   2.0833025 3.722365e-02\n",
       "white_yes         -0.0771460799 0.1488938916  -0.5181279 6.043690e-01\n",
       "acc_age           -0.0359142639 0.0029178639 -12.3084095 8.161570e-35\n",
       "male               0.0883403129 0.0578473065   1.5271292 1.267289e-01\n",
       "sleep_filter       0.0219439613 0.0558628835   0.3928183 6.944537e-01\n",
       "pa_sed_convert     0.0000383451 0.0002388054   0.1605705 8.724317e-01\n",
       "pa_light_convert  -0.0001680723 0.0002857060  -0.5882699 5.563512e-01\n",
       "pa_mv_convert_log -0.2038871862 0.0226881989  -8.9864862 2.552608e-19\n",
       "1|2               -2.4898499824 0.0351814436 -70.7716832 0.000000e+00\n",
       "2|3               -0.5021200223 0.0528868358  -9.4942345 2.218352e-21\n",
       "3|4                0.2971160283 0.0671018380   4.4278374 9.518261e-06"
      ]
     },
     "metadata": {},
     "output_type": "display_data"
    }
   ],
   "source": [
    "#make a table of coefficients\n",
    "ctable_dy <- coef(summary(model_dy))\n",
    "#get p values\n",
    "p_dy <- pnorm(abs(ctable_dy[, \"t value\"]), lower.tail = FALSE) * 2\n",
    "#get table\n",
    "(ctable_dy <- cbind(ctable_dy, \"p value\" = p_dy))"
   ]
  },
  {
   "cell_type": "code",
   "execution_count": 224,
   "id": "5df87ec6-688d-4f6b-8308-69b2f029c696",
   "metadata": {
    "tags": []
   },
   "outputs": [
    {
     "name": "stdout",
     "output_type": "stream",
     "text": [
      "                         OR     lower     upper\n",
      "hchol_yes         1.0610889 0.9992826 1.1267180\n",
      "diab_yes          1.2347396 1.0976645 1.3889327\n",
      "study_t2e         1.0013975 0.9724317 1.0312262\n",
      "white_yes         0.9479395 0.8558139 1.0499822\n",
      "acc_age           0.9646010 0.9624628 0.9667439\n",
      "male              0.8114990 0.7769197 0.8476174\n",
      "sleep_filter      0.9472434 0.9068133 0.9894761\n",
      "pa_sed_convert    1.0002906 1.0001083 1.0004729\n",
      "pa_light_convert  0.9997576 0.9995406 0.9999747\n",
      "pa_mv_convert_log 0.8650631 0.8491652 0.8812586\n",
      "1|2               0.2651575 0.2609231 0.2694605\n",
      "2|3               2.6439879 2.5121603 2.7827333\n",
      "3|4               7.0758318 6.5172097 7.6823362\n"
     ]
    }
   ],
   "source": [
    "df_model_dn <- summary(model_dn)\n",
    "#get odds ratios\n",
    "odds_ratios_dn <- exp(df_model_dn$coefficients[, \"Value\"])\n",
    "#get standard errors\n",
    "stde_dn <- df_model_dn$coefficients[, \"Std. Error\"]\n",
    "#get 95% confidence intervals\n",
    "conf_int_dn <- exp(cbind(\n",
    "  OR = df_model_dn$coefficients[, \"Value\"],\n",
    "  lower = df_model_dn$coefficients[, \"Value\"] - 1.96 * stde_dn,\n",
    "  upper = df_model_dn$coefficients[, \"Value\"] + 1.96 * stde_dn \n",
    "))\n",
    "print(conf_int_dn)"
   ]
  },
  {
   "cell_type": "code",
   "execution_count": 225,
   "id": "96ff1eb4-a76b-4dc7-8261-613021315404",
   "metadata": {
    "tags": []
   },
   "outputs": [
    {
     "data": {
      "text/html": [
       "<table class=\"dataframe\">\n",
       "<caption>A matrix: 13 × 4 of type dbl</caption>\n",
       "<thead>\n",
       "\t<tr><th></th><th scope=col>Value</th><th scope=col>Std. Error</th><th scope=col>t value</th><th scope=col>p value</th></tr>\n",
       "</thead>\n",
       "<tbody>\n",
       "\t<tr><th scope=row>hchol_yes</th><td> 0.0592956512</td><td>3.061905e-02</td><td>   1.93656063</td><td> 5.279907e-02</td></tr>\n",
       "\t<tr><th scope=row>diab_yes</th><td> 0.2108601377</td><td>6.003849e-02</td><td>   3.51208268</td><td> 4.446097e-04</td></tr>\n",
       "\t<tr><th scope=row>study_t2e</th><td> 0.0013965734</td><td>1.497552e-02</td><td>   0.09325707</td><td> 9.256993e-01</td></tr>\n",
       "\t<tr><th scope=row>white_yes</th><td>-0.0534645527</td><td>5.216213e-02</td><td>  -1.02496865</td><td> 3.053780e-01</td></tr>\n",
       "\t<tr><th scope=row>acc_age</th><td>-0.0360407845</td><td>1.132201e-03</td><td> -31.83248748</td><td>2.300204e-222</td></tr>\n",
       "\t<tr><th scope=row>male</th><td>-0.2088721081</td><td>2.221742e-02</td><td>  -9.40127643</td><td> 5.390510e-21</td></tr>\n",
       "\t<tr><th scope=row>sleep_filter</th><td>-0.0541991530</td><td>2.225484e-02</td><td>  -2.43538727</td><td> 1.487586e-02</td></tr>\n",
       "\t<tr><th scope=row>pa_sed_convert</th><td> 0.0002905294</td><td>9.297034e-05</td><td>   3.12496907</td><td> 1.778238e-03</td></tr>\n",
       "\t<tr><th scope=row>pa_light_convert</th><td>-0.0002424287</td><td>1.107618e-04</td><td>  -2.18873850</td><td> 2.861585e-02</td></tr>\n",
       "\t<tr><th scope=row>pa_mv_convert_log</th><td>-0.1449528473</td><td>9.463640e-03</td><td> -15.31681682</td><td> 5.903884e-53</td></tr>\n",
       "\t<tr><th scope=row>1|2</th><td>-1.3274314684</td><td>8.213250e-03</td><td>-161.62072286</td><td> 0.000000e+00</td></tr>\n",
       "\t<tr><th scope=row>2|3</th><td> 0.9722883423</td><td>2.609454e-02</td><td>  37.26022471</td><td>7.237378e-304</td></tr>\n",
       "\t<tr><th scope=row>3|4</th><td> 1.9566850073</td><td>4.195851e-02</td><td>  46.63380219</td><td> 0.000000e+00</td></tr>\n",
       "</tbody>\n",
       "</table>\n"
      ],
      "text/latex": [
       "A matrix: 13 × 4 of type dbl\n",
       "\\begin{tabular}{r|llll}\n",
       "  & Value & Std. Error & t value & p value\\\\\n",
       "\\hline\n",
       "\thchol\\_yes &  0.0592956512 & 3.061905e-02 &    1.93656063 &  5.279907e-02\\\\\n",
       "\tdiab\\_yes &  0.2108601377 & 6.003849e-02 &    3.51208268 &  4.446097e-04\\\\\n",
       "\tstudy\\_t2e &  0.0013965734 & 1.497552e-02 &    0.09325707 &  9.256993e-01\\\\\n",
       "\twhite\\_yes & -0.0534645527 & 5.216213e-02 &   -1.02496865 &  3.053780e-01\\\\\n",
       "\tacc\\_age & -0.0360407845 & 1.132201e-03 &  -31.83248748 & 2.300204e-222\\\\\n",
       "\tmale & -0.2088721081 & 2.221742e-02 &   -9.40127643 &  5.390510e-21\\\\\n",
       "\tsleep\\_filter & -0.0541991530 & 2.225484e-02 &   -2.43538727 &  1.487586e-02\\\\\n",
       "\tpa\\_sed\\_convert &  0.0002905294 & 9.297034e-05 &    3.12496907 &  1.778238e-03\\\\\n",
       "\tpa\\_light\\_convert & -0.0002424287 & 1.107618e-04 &   -2.18873850 &  2.861585e-02\\\\\n",
       "\tpa\\_mv\\_convert\\_log & -0.1449528473 & 9.463640e-03 &  -15.31681682 &  5.903884e-53\\\\\n",
       "\t1\\textbar{}2 & -1.3274314684 & 8.213250e-03 & -161.62072286 &  0.000000e+00\\\\\n",
       "\t2\\textbar{}3 &  0.9722883423 & 2.609454e-02 &   37.26022471 & 7.237378e-304\\\\\n",
       "\t3\\textbar{}4 &  1.9566850073 & 4.195851e-02 &   46.63380219 &  0.000000e+00\\\\\n",
       "\\end{tabular}\n"
      ],
      "text/markdown": [
       "\n",
       "A matrix: 13 × 4 of type dbl\n",
       "\n",
       "| <!--/--> | Value | Std. Error | t value | p value |\n",
       "|---|---|---|---|---|\n",
       "| hchol_yes |  0.0592956512 | 3.061905e-02 |    1.93656063 |  5.279907e-02 |\n",
       "| diab_yes |  0.2108601377 | 6.003849e-02 |    3.51208268 |  4.446097e-04 |\n",
       "| study_t2e |  0.0013965734 | 1.497552e-02 |    0.09325707 |  9.256993e-01 |\n",
       "| white_yes | -0.0534645527 | 5.216213e-02 |   -1.02496865 |  3.053780e-01 |\n",
       "| acc_age | -0.0360407845 | 1.132201e-03 |  -31.83248748 | 2.300204e-222 |\n",
       "| male | -0.2088721081 | 2.221742e-02 |   -9.40127643 |  5.390510e-21 |\n",
       "| sleep_filter | -0.0541991530 | 2.225484e-02 |   -2.43538727 |  1.487586e-02 |\n",
       "| pa_sed_convert |  0.0002905294 | 9.297034e-05 |    3.12496907 |  1.778238e-03 |\n",
       "| pa_light_convert | -0.0002424287 | 1.107618e-04 |   -2.18873850 |  2.861585e-02 |\n",
       "| pa_mv_convert_log | -0.1449528473 | 9.463640e-03 |  -15.31681682 |  5.903884e-53 |\n",
       "| 1|2 | -1.3274314684 | 8.213250e-03 | -161.62072286 |  0.000000e+00 |\n",
       "| 2|3 |  0.9722883423 | 2.609454e-02 |   37.26022471 | 7.237378e-304 |\n",
       "| 3|4 |  1.9566850073 | 4.195851e-02 |   46.63380219 |  0.000000e+00 |\n",
       "\n"
      ],
      "text/plain": [
       "                  Value         Std. Error   t value       p value      \n",
       "hchol_yes          0.0592956512 3.061905e-02    1.93656063  5.279907e-02\n",
       "diab_yes           0.2108601377 6.003849e-02    3.51208268  4.446097e-04\n",
       "study_t2e          0.0013965734 1.497552e-02    0.09325707  9.256993e-01\n",
       "white_yes         -0.0534645527 5.216213e-02   -1.02496865  3.053780e-01\n",
       "acc_age           -0.0360407845 1.132201e-03  -31.83248748 2.300204e-222\n",
       "male              -0.2088721081 2.221742e-02   -9.40127643  5.390510e-21\n",
       "sleep_filter      -0.0541991530 2.225484e-02   -2.43538727  1.487586e-02\n",
       "pa_sed_convert     0.0002905294 9.297034e-05    3.12496907  1.778238e-03\n",
       "pa_light_convert  -0.0002424287 1.107618e-04   -2.18873850  2.861585e-02\n",
       "pa_mv_convert_log -0.1449528473 9.463640e-03  -15.31681682  5.903884e-53\n",
       "1|2               -1.3274314684 8.213250e-03 -161.62072286  0.000000e+00\n",
       "2|3                0.9722883423 2.609454e-02   37.26022471 7.237378e-304\n",
       "3|4                1.9566850073 4.195851e-02   46.63380219  0.000000e+00"
      ]
     },
     "metadata": {},
     "output_type": "display_data"
    }
   ],
   "source": [
    "\n",
    "#make a table of coefficients\n",
    "ctable_dn <- coef(summary(model_dn))\n",
    "#get p values\n",
    "p_dn <- pnorm(abs(ctable_dn[, \"t value\"]), lower.tail = FALSE) * 2\n",
    "#get table\n",
    "(ctable_dn <- cbind(ctable_dn, \"p value\" = p_dn))"
   ]
  },
  {
   "cell_type": "code",
   "execution_count": 226,
   "id": "97b81ede-22f8-4970-872c-7acc6623bb8b",
   "metadata": {
    "tags": []
   },
   "outputs": [],
   "source": [
    "#full data for all patients who have a future ischemic stroke\n",
    "is_data <- read.csv(\"incidentstroke_df.csv\")"
   ]
  },
  {
   "cell_type": "code",
   "execution_count": 227,
   "id": "c520f2e3-8066-4d82-8870-3030cef55987",
   "metadata": {
    "tags": []
   },
   "outputs": [
    {
     "data": {
      "text/html": [
       "1173"
      ],
      "text/latex": [
       "1173"
      ],
      "text/markdown": [
       "1173"
      ],
      "text/plain": [
       "[1] 1173"
      ]
     },
     "metadata": {},
     "output_type": "display_data"
    }
   ],
   "source": [
    "#make a df for IS data\n",
    "is_df <- data.frame(is_data) \n",
    "#check number of rows - should be 1173\n",
    "nrow(is_df)"
   ]
  },
  {
   "cell_type": "code",
   "execution_count": 228,
   "id": "c1ebe855-1e21-4af8-8dc0-18d07ae20383",
   "metadata": {
    "tags": []
   },
   "outputs": [],
   "source": [
    "# create 2 separate dataframes, 1 has depressed px, other has non-depressed px\n",
    "isdata_cevd <- is_df[is_df$dep_diag_yes == 1, ]\n",
    "isdata_cevdno <- is_df[is_df$dep_diag_yes == 0, ]"
   ]
  },
  {
   "cell_type": "code",
   "execution_count": 229,
   "id": "b9b62be5-0a08-443d-8660-f34505b3ee3b",
   "metadata": {
    "tags": []
   },
   "outputs": [
    {
     "data": {
      "text/html": [
       "100"
      ],
      "text/latex": [
       "100"
      ],
      "text/markdown": [
       "100"
      ],
      "text/plain": [
       "[1] 100"
      ]
     },
     "metadata": {},
     "output_type": "display_data"
    }
   ],
   "source": [
    "#check numbers - should be 100\n",
    "nrow(isdata_cevd)"
   ]
  },
  {
   "cell_type": "code",
   "execution_count": 230,
   "id": "f8ee253e-cdeb-4bfa-a165-11f17f4f82b6",
   "metadata": {
    "tags": []
   },
   "outputs": [
    {
     "data": {
      "text/html": [
       "1073"
      ],
      "text/latex": [
       "1073"
      ],
      "text/markdown": [
       "1073"
      ],
      "text/plain": [
       "[1] 1073"
      ]
     },
     "metadata": {},
     "output_type": "display_data"
    }
   ],
   "source": [
    "#check numbers - should be 1073\n",
    "nrow(isdata_cevdno)"
   ]
  },
  {
   "cell_type": "code",
   "execution_count": 231,
   "id": "6053f207-c665-4f8a-90f8-597974b4829d",
   "metadata": {
    "tags": []
   },
   "outputs": [],
   "source": [
    "#create variables with factoring and filtering\n",
    "isdata_cevd$p20510 <- factor(isdata_cevd$p20510, ordered = TRUE, levels = c( 1, 2, 3, 4))\n",
    "isdata_cevdno$p20510 <- factor(isdata_cevdno$p20510, ordered = TRUE, levels = c( 1, 2, 3, 4))\n",
    "isdata_cevd$ethnicity <- ifelse(isdata_cevd$ethnicity > 0, 1, 0)\n",
    "isdata_cevdno$ethnicity <- ifelse(isdata_cevdno$ethnicity > 0, 1, 0)\n",
    "isdata_cevd$sleep_filter <- ifelse(isdata_cevd$pa_sleep_convert_hr >= 7 & isdata_cevd$pa_sleep_convert_hr <= 9, 1, 0)\n",
    "isdata_cevdno$sleep_filter <- ifelse(isdata_cevdno$pa_sleep_convert_hr >= 7 & isdata_cevdno$pa_sleep_convert_hr <=9, 1, 0)"
   ]
  },
  {
   "cell_type": "code",
   "execution_count": 232,
   "id": "341d3014-2850-4c1a-b9c1-a896320cb056",
   "metadata": {
    "tags": []
   },
   "outputs": [
    {
     "name": "stderr",
     "output_type": "stream",
     "text": [
      "Warning message in polr(p20510 ~ card_sum_filter + hchol_yes + diab_yes + study_t2e + :\n",
      "“design appears to be rank-deficient, so dropping some coefs”\n",
      "Warning message in polr(p20510 ~ card_sum_filter + hchol_yes + diab_yes + study_t2e + :\n",
      "“design appears to be rank-deficient, so dropping some coefs”\n"
     ]
    }
   ],
   "source": [
    "model_dy <- polr(p20510 ~  card_sum_filter +hchol_yes +  diab_yes+ study_t2e+ white_yes + acc_age + male +sleep_filter +pa_sed_convert  + pa_light_convert + pa_mv_convert_log, data = isdata_cevd, Hess = TRUE)\n",
    "model_dn <- polr(p20510 ~ card_sum_filter +hchol_yes +  diab_yes+ study_t2e+ white_yes + acc_age + male+ sleep_filter +pa_sed_convert  + pa_light_convert + pa_mv_convert_log, data = isdata_cevdno, Hess = TRUE)"
   ]
  },
  {
   "cell_type": "code",
   "execution_count": 234,
   "id": "64e9f3ec-d4cf-4702-87ef-e0b416dd25ba",
   "metadata": {
    "tags": []
   },
   "outputs": [
    {
     "name": "stdout",
     "output_type": "stream",
     "text": [
      "                            OR        lower        upper\n",
      "hchol_yes         1.366486e+00 4.640430e-01 4.023947e+00\n",
      "diab_yes          7.687180e-01 1.545459e-01 3.823636e+00\n",
      "study_t2e         1.477457e+00 7.823057e-01 2.790315e+00\n",
      "white_yes         8.979685e+05 3.298582e+04 2.444527e+07\n",
      "acc_age           9.592472e-01 9.010016e-01 1.021258e+00\n",
      "male              1.618332e+00 6.754194e-01 3.877590e+00\n",
      "sleep_filter      1.619905e+00 6.435563e-01 4.077484e+00\n",
      "pa_sed_convert    1.004183e+00 9.981583e-01 1.010245e+00\n",
      "pa_light_convert  1.002675e+00 9.962777e-01 1.009113e+00\n",
      "pa_mv_convert_log 8.681865e-01 6.029996e-01 1.249997e+00\n",
      "1|2               3.657908e+06 1.343719e+05 9.957657e+07\n",
      "2|3               5.205134e+07 1.684849e+06 1.608062e+09\n",
      "3|4               7.692291e+07 2.401892e+06 2.463531e+09\n"
     ]
    }
   ],
   "source": [
    "df_model_dy <- summary(model_dy)\n",
    "#get odds ratios\n",
    "odds_ratios_dy <- exp(df_model_dy$coefficients[, \"Value\"])\n",
    "#get standard errors\n",
    "stde_dy <- df_model_dy$coefficients[, \"Std. Error\"]\n",
    "#get 95% confidence intervals\n",
    "conf_int_dy <- exp(cbind(\n",
    "  OR = df_model_dy$coefficients[, \"Value\"],\n",
    "  lower = df_model_dy$coefficients[, \"Value\"] - 1.96 * stde_dy,\n",
    "  upper = df_model_dy$coefficients[, \"Value\"] + 1.96 * stde_dy \n",
    "))\n",
    "print(conf_int_dy)"
   ]
  },
  {
   "cell_type": "code",
   "execution_count": 235,
   "id": "518dd30a-b464-4c16-92ff-a243fb74fb59",
   "metadata": {
    "tags": []
   },
   "outputs": [
    {
     "data": {
      "text/html": [
       "<table class=\"dataframe\">\n",
       "<caption>A matrix: 13 × 4 of type dbl</caption>\n",
       "<thead>\n",
       "\t<tr><th></th><th scope=col>Value</th><th scope=col>Std. Error</th><th scope=col>t value</th><th scope=col>p value</th></tr>\n",
       "</thead>\n",
       "<tbody>\n",
       "\t<tr><th scope=row>hchol_yes</th><td> 0.312242614</td><td>0.551030950</td><td> 0.5666517</td><td>5.709509e-01</td></tr>\n",
       "\t<tr><th scope=row>diab_yes</th><td>-0.263031076</td><td>0.818486108</td><td>-0.3213629</td><td>7.479354e-01</td></tr>\n",
       "\t<tr><th scope=row>study_t2e</th><td> 0.390322419</td><td>0.324404156</td><td> 1.2031980</td><td>2.288997e-01</td></tr>\n",
       "\t<tr><th scope=row>white_yes</th><td>13.707890246</td><td>1.685743415</td><td> 8.1316588</td><td>4.234554e-16</td></tr>\n",
       "\t<tr><th scope=row>acc_age</th><td>-0.041606437</td><td>0.031960131</td><td>-1.3018231</td><td>1.929769e-01</td></tr>\n",
       "\t<tr><th scope=row>male</th><td> 0.481396276</td><td>0.445825344</td><td> 1.0797867</td><td>2.802372e-01</td></tr>\n",
       "\t<tr><th scope=row>sleep_filter</th><td> 0.482367203</td><td>0.470976001</td><td> 1.0241864</td><td>3.057473e-01</td></tr>\n",
       "\t<tr><th scope=row>pa_sed_convert</th><td> 0.004174516</td><td>0.003070385</td><td> 1.3596066</td><td>1.739544e-01</td></tr>\n",
       "\t<tr><th scope=row>pa_light_convert</th><td> 0.002671386</td><td>0.003265633</td><td> 0.8180301</td><td>4.133400e-01</td></tr>\n",
       "\t<tr><th scope=row>pa_mv_convert_log</th><td>-0.141348772</td><td>0.185964312</td><td>-0.7600855</td><td>4.472035e-01</td></tr>\n",
       "\t<tr><th scope=row>1|2</th><td>15.112401924</td><td>1.685732393</td><td> 8.9648879</td><td>3.105966e-19</td></tr>\n",
       "\t<tr><th scope=row>2|3</th><td>17.767741008</td><td>1.750282853</td><td>10.1513541</td><td>3.267972e-24</td></tr>\n",
       "\t<tr><th scope=row>3|4</th><td>18.158314366</td><td>1.768646495</td><td>10.2667856</td><td>9.946361e-25</td></tr>\n",
       "</tbody>\n",
       "</table>\n"
      ],
      "text/latex": [
       "A matrix: 13 × 4 of type dbl\n",
       "\\begin{tabular}{r|llll}\n",
       "  & Value & Std. Error & t value & p value\\\\\n",
       "\\hline\n",
       "\thchol\\_yes &  0.312242614 & 0.551030950 &  0.5666517 & 5.709509e-01\\\\\n",
       "\tdiab\\_yes & -0.263031076 & 0.818486108 & -0.3213629 & 7.479354e-01\\\\\n",
       "\tstudy\\_t2e &  0.390322419 & 0.324404156 &  1.2031980 & 2.288997e-01\\\\\n",
       "\twhite\\_yes & 13.707890246 & 1.685743415 &  8.1316588 & 4.234554e-16\\\\\n",
       "\tacc\\_age & -0.041606437 & 0.031960131 & -1.3018231 & 1.929769e-01\\\\\n",
       "\tmale &  0.481396276 & 0.445825344 &  1.0797867 & 2.802372e-01\\\\\n",
       "\tsleep\\_filter &  0.482367203 & 0.470976001 &  1.0241864 & 3.057473e-01\\\\\n",
       "\tpa\\_sed\\_convert &  0.004174516 & 0.003070385 &  1.3596066 & 1.739544e-01\\\\\n",
       "\tpa\\_light\\_convert &  0.002671386 & 0.003265633 &  0.8180301 & 4.133400e-01\\\\\n",
       "\tpa\\_mv\\_convert\\_log & -0.141348772 & 0.185964312 & -0.7600855 & 4.472035e-01\\\\\n",
       "\t1\\textbar{}2 & 15.112401924 & 1.685732393 &  8.9648879 & 3.105966e-19\\\\\n",
       "\t2\\textbar{}3 & 17.767741008 & 1.750282853 & 10.1513541 & 3.267972e-24\\\\\n",
       "\t3\\textbar{}4 & 18.158314366 & 1.768646495 & 10.2667856 & 9.946361e-25\\\\\n",
       "\\end{tabular}\n"
      ],
      "text/markdown": [
       "\n",
       "A matrix: 13 × 4 of type dbl\n",
       "\n",
       "| <!--/--> | Value | Std. Error | t value | p value |\n",
       "|---|---|---|---|---|\n",
       "| hchol_yes |  0.312242614 | 0.551030950 |  0.5666517 | 5.709509e-01 |\n",
       "| diab_yes | -0.263031076 | 0.818486108 | -0.3213629 | 7.479354e-01 |\n",
       "| study_t2e |  0.390322419 | 0.324404156 |  1.2031980 | 2.288997e-01 |\n",
       "| white_yes | 13.707890246 | 1.685743415 |  8.1316588 | 4.234554e-16 |\n",
       "| acc_age | -0.041606437 | 0.031960131 | -1.3018231 | 1.929769e-01 |\n",
       "| male |  0.481396276 | 0.445825344 |  1.0797867 | 2.802372e-01 |\n",
       "| sleep_filter |  0.482367203 | 0.470976001 |  1.0241864 | 3.057473e-01 |\n",
       "| pa_sed_convert |  0.004174516 | 0.003070385 |  1.3596066 | 1.739544e-01 |\n",
       "| pa_light_convert |  0.002671386 | 0.003265633 |  0.8180301 | 4.133400e-01 |\n",
       "| pa_mv_convert_log | -0.141348772 | 0.185964312 | -0.7600855 | 4.472035e-01 |\n",
       "| 1|2 | 15.112401924 | 1.685732393 |  8.9648879 | 3.105966e-19 |\n",
       "| 2|3 | 17.767741008 | 1.750282853 | 10.1513541 | 3.267972e-24 |\n",
       "| 3|4 | 18.158314366 | 1.768646495 | 10.2667856 | 9.946361e-25 |\n",
       "\n"
      ],
      "text/plain": [
       "                  Value        Std. Error  t value    p value     \n",
       "hchol_yes          0.312242614 0.551030950  0.5666517 5.709509e-01\n",
       "diab_yes          -0.263031076 0.818486108 -0.3213629 7.479354e-01\n",
       "study_t2e          0.390322419 0.324404156  1.2031980 2.288997e-01\n",
       "white_yes         13.707890246 1.685743415  8.1316588 4.234554e-16\n",
       "acc_age           -0.041606437 0.031960131 -1.3018231 1.929769e-01\n",
       "male               0.481396276 0.445825344  1.0797867 2.802372e-01\n",
       "sleep_filter       0.482367203 0.470976001  1.0241864 3.057473e-01\n",
       "pa_sed_convert     0.004174516 0.003070385  1.3596066 1.739544e-01\n",
       "pa_light_convert   0.002671386 0.003265633  0.8180301 4.133400e-01\n",
       "pa_mv_convert_log -0.141348772 0.185964312 -0.7600855 4.472035e-01\n",
       "1|2               15.112401924 1.685732393  8.9648879 3.105966e-19\n",
       "2|3               17.767741008 1.750282853 10.1513541 3.267972e-24\n",
       "3|4               18.158314366 1.768646495 10.2667856 9.946361e-25"
      ]
     },
     "metadata": {},
     "output_type": "display_data"
    }
   ],
   "source": [
    "\n",
    "#make a table of coefficients\n",
    "ctable_dy <- coef(summary(model_dy))\n",
    "#get p values\n",
    "p_dy <- pnorm(abs(ctable_dy[, \"t value\"]), lower.tail = FALSE) * 2\n",
    "#get table\n",
    "(ctable_dy <- cbind(ctable_dy, \"p value\" = p_dy))"
   ]
  },
  {
   "cell_type": "code",
   "execution_count": 236,
   "id": "22032b13-69c8-4acb-acc9-4555d2b3b4df",
   "metadata": {
    "tags": []
   },
   "outputs": [
    {
     "name": "stdout",
     "output_type": "stream",
     "text": [
      "                         OR     lower      upper\n",
      "hchol_yes         1.5694275 1.0574832  2.3292120\n",
      "diab_yes          0.9890082 0.4751320  2.0586643\n",
      "study_t2e         0.8594103 0.6769008  1.0911288\n",
      "white_yes         2.3532968 0.8495922  6.5184281\n",
      "acc_age           0.9632279 0.9446179  0.9822045\n",
      "male              0.6092550 0.4341388  0.8550070\n",
      "sleep_filter      0.7734710 0.5453013  1.0971135\n",
      "pa_sed_convert    0.9995471 0.9980597  1.0010368\n",
      "pa_light_convert  0.9993326 0.9974905  1.0011780\n",
      "pa_mv_convert_log 0.9619771 0.8316904  1.1126735\n",
      "1|2               0.2778664 0.2134102  0.3617902\n",
      "2|3               2.6781473 1.6950480  4.2314277\n",
      "3|4               8.5617645 4.1158377 17.8101803\n"
     ]
    }
   ],
   "source": [
    "df_model_dn <- summary(model_dn)\n",
    "#get odds ratios\n",
    "odds_ratios_dn <- exp(df_model_dn$coefficients[, \"Value\"])\n",
    "#get standard errors\n",
    "stde_dn <- df_model_dn$coefficients[, \"Std. Error\"]\n",
    "#get 95% confidence intervals\n",
    "conf_int_dn <- exp(cbind(\n",
    "  OR = df_model_dn$coefficients[, \"Value\"],\n",
    "  lower = df_model_dn$coefficients[, \"Value\"] - 1.96 * stde_dn,\n",
    "  upper = df_model_dn$coefficients[, \"Value\"] + 1.96 * stde_dn \n",
    "))\n",
    "print(conf_int_dn)"
   ]
  },
  {
   "cell_type": "code",
   "execution_count": 237,
   "id": "1c959247-14af-485f-9e39-6b3006893b0d",
   "metadata": {
    "tags": []
   },
   "outputs": [
    {
     "data": {
      "text/html": [
       "<table class=\"dataframe\">\n",
       "<caption>A matrix: 13 × 4 of type dbl</caption>\n",
       "<thead>\n",
       "\t<tr><th></th><th scope=col>Value</th><th scope=col>Std. Error</th><th scope=col>t value</th><th scope=col>p value</th></tr>\n",
       "</thead>\n",
       "<tbody>\n",
       "\t<tr><th scope=row>hchol_yes</th><td> 0.4507109031</td><td>0.2014383220</td><td> 2.23746355</td><td>2.525606e-02</td></tr>\n",
       "\t<tr><th scope=row>diab_yes</th><td>-0.0110526555</td><td>0.3740357242</td><td>-0.02954973</td><td>9.764262e-01</td></tr>\n",
       "\t<tr><th scope=row>study_t2e</th><td>-0.1515088754</td><td>0.1217967719</td><td>-1.24394820</td><td>2.135186e-01</td></tr>\n",
       "\t<tr><th scope=row>white_yes</th><td> 0.8558172239</td><td>0.5198041009</td><td> 1.64642261</td><td>9.967678e-02</td></tr>\n",
       "\t<tr><th scope=row>acc_age</th><td>-0.0374652800</td><td>0.0099538489</td><td>-3.76389882</td><td>1.672846e-04</td></tr>\n",
       "\t<tr><th scope=row>male</th><td>-0.4955182980</td><td>0.1728942395</td><td>-2.86601971</td><td>4.156684e-03</td></tr>\n",
       "\t<tr><th scope=row>sleep_filter</th><td>-0.2568670626</td><td>0.1783416916</td><td>-1.44030855</td><td>1.497801e-01</td></tr>\n",
       "\t<tr><th scope=row>pa_sed_convert</th><td>-0.0004529671</td><td>0.0007598081</td><td>-0.59615990</td><td>5.510684e-01</td></tr>\n",
       "\t<tr><th scope=row>pa_light_convert</th><td>-0.0006676486</td><td>0.0009413254</td><td>-0.70926436</td><td>4.781604e-01</td></tr>\n",
       "\t<tr><th scope=row>pa_mv_convert_log</th><td>-0.0387646549</td><td>0.0742501890</td><td>-0.52208157</td><td>6.016135e-01</td></tr>\n",
       "\t<tr><th scope=row>1|2</th><td>-1.2806148991</td><td>0.1346551233</td><td>-9.51033179</td><td>1.900554e-21</td></tr>\n",
       "\t<tr><th scope=row>2|3</th><td> 0.9851252587</td><td>0.2333745834</td><td> 4.22121914</td><td>2.429846e-05</td></tr>\n",
       "\t<tr><th scope=row>3|4</th><td> 2.1473063078</td><td>0.3737060790</td><td> 5.74597639</td><td>9.139206e-09</td></tr>\n",
       "</tbody>\n",
       "</table>\n"
      ],
      "text/latex": [
       "A matrix: 13 × 4 of type dbl\n",
       "\\begin{tabular}{r|llll}\n",
       "  & Value & Std. Error & t value & p value\\\\\n",
       "\\hline\n",
       "\thchol\\_yes &  0.4507109031 & 0.2014383220 &  2.23746355 & 2.525606e-02\\\\\n",
       "\tdiab\\_yes & -0.0110526555 & 0.3740357242 & -0.02954973 & 9.764262e-01\\\\\n",
       "\tstudy\\_t2e & -0.1515088754 & 0.1217967719 & -1.24394820 & 2.135186e-01\\\\\n",
       "\twhite\\_yes &  0.8558172239 & 0.5198041009 &  1.64642261 & 9.967678e-02\\\\\n",
       "\tacc\\_age & -0.0374652800 & 0.0099538489 & -3.76389882 & 1.672846e-04\\\\\n",
       "\tmale & -0.4955182980 & 0.1728942395 & -2.86601971 & 4.156684e-03\\\\\n",
       "\tsleep\\_filter & -0.2568670626 & 0.1783416916 & -1.44030855 & 1.497801e-01\\\\\n",
       "\tpa\\_sed\\_convert & -0.0004529671 & 0.0007598081 & -0.59615990 & 5.510684e-01\\\\\n",
       "\tpa\\_light\\_convert & -0.0006676486 & 0.0009413254 & -0.70926436 & 4.781604e-01\\\\\n",
       "\tpa\\_mv\\_convert\\_log & -0.0387646549 & 0.0742501890 & -0.52208157 & 6.016135e-01\\\\\n",
       "\t1\\textbar{}2 & -1.2806148991 & 0.1346551233 & -9.51033179 & 1.900554e-21\\\\\n",
       "\t2\\textbar{}3 &  0.9851252587 & 0.2333745834 &  4.22121914 & 2.429846e-05\\\\\n",
       "\t3\\textbar{}4 &  2.1473063078 & 0.3737060790 &  5.74597639 & 9.139206e-09\\\\\n",
       "\\end{tabular}\n"
      ],
      "text/markdown": [
       "\n",
       "A matrix: 13 × 4 of type dbl\n",
       "\n",
       "| <!--/--> | Value | Std. Error | t value | p value |\n",
       "|---|---|---|---|---|\n",
       "| hchol_yes |  0.4507109031 | 0.2014383220 |  2.23746355 | 2.525606e-02 |\n",
       "| diab_yes | -0.0110526555 | 0.3740357242 | -0.02954973 | 9.764262e-01 |\n",
       "| study_t2e | -0.1515088754 | 0.1217967719 | -1.24394820 | 2.135186e-01 |\n",
       "| white_yes |  0.8558172239 | 0.5198041009 |  1.64642261 | 9.967678e-02 |\n",
       "| acc_age | -0.0374652800 | 0.0099538489 | -3.76389882 | 1.672846e-04 |\n",
       "| male | -0.4955182980 | 0.1728942395 | -2.86601971 | 4.156684e-03 |\n",
       "| sleep_filter | -0.2568670626 | 0.1783416916 | -1.44030855 | 1.497801e-01 |\n",
       "| pa_sed_convert | -0.0004529671 | 0.0007598081 | -0.59615990 | 5.510684e-01 |\n",
       "| pa_light_convert | -0.0006676486 | 0.0009413254 | -0.70926436 | 4.781604e-01 |\n",
       "| pa_mv_convert_log | -0.0387646549 | 0.0742501890 | -0.52208157 | 6.016135e-01 |\n",
       "| 1|2 | -1.2806148991 | 0.1346551233 | -9.51033179 | 1.900554e-21 |\n",
       "| 2|3 |  0.9851252587 | 0.2333745834 |  4.22121914 | 2.429846e-05 |\n",
       "| 3|4 |  2.1473063078 | 0.3737060790 |  5.74597639 | 9.139206e-09 |\n",
       "\n"
      ],
      "text/plain": [
       "                  Value         Std. Error   t value     p value     \n",
       "hchol_yes          0.4507109031 0.2014383220  2.23746355 2.525606e-02\n",
       "diab_yes          -0.0110526555 0.3740357242 -0.02954973 9.764262e-01\n",
       "study_t2e         -0.1515088754 0.1217967719 -1.24394820 2.135186e-01\n",
       "white_yes          0.8558172239 0.5198041009  1.64642261 9.967678e-02\n",
       "acc_age           -0.0374652800 0.0099538489 -3.76389882 1.672846e-04\n",
       "male              -0.4955182980 0.1728942395 -2.86601971 4.156684e-03\n",
       "sleep_filter      -0.2568670626 0.1783416916 -1.44030855 1.497801e-01\n",
       "pa_sed_convert    -0.0004529671 0.0007598081 -0.59615990 5.510684e-01\n",
       "pa_light_convert  -0.0006676486 0.0009413254 -0.70926436 4.781604e-01\n",
       "pa_mv_convert_log -0.0387646549 0.0742501890 -0.52208157 6.016135e-01\n",
       "1|2               -1.2806148991 0.1346551233 -9.51033179 1.900554e-21\n",
       "2|3                0.9851252587 0.2333745834  4.22121914 2.429846e-05\n",
       "3|4                2.1473063078 0.3737060790  5.74597639 9.139206e-09"
      ]
     },
     "metadata": {},
     "output_type": "display_data"
    }
   ],
   "source": [
    "\n",
    "#make a table of coefficients\n",
    "ctable_dn <- coef(summary(model_dn))\n",
    "#get p values\n",
    "p_dn <- pnorm(abs(ctable_dn[, \"t value\"]), lower.tail = FALSE) * 2\n",
    "#get table\n",
    "(ctable_dn <- cbind(ctable_dn, \"p value\" = p_dn))"
   ]
  },
  {
   "cell_type": "code",
   "execution_count": 238,
   "id": "4a25bd48-f5e7-4155-a63e-08337e3bd70e",
   "metadata": {
    "tags": []
   },
   "outputs": [
    {
     "data": {
      "text/html": [
       "1678"
      ],
      "text/latex": [
       "1678"
      ],
      "text/markdown": [
       "1678"
      ],
      "text/plain": [
       "[1] 1678"
      ]
     },
     "metadata": {},
     "output_type": "display_data"
    }
   ],
   "source": [
    "#full data for all patients who have a future CeVD\n",
    "icdata <- read.csv(\"incident_cevd_sort_model.csv\")\n",
    "ic_df <- data.frame(icdata) \n",
    "# check number of rows - should be 1678\n",
    "nrow(ic_df)"
   ]
  },
  {
   "cell_type": "code",
   "execution_count": 239,
   "id": "705b82b8-a4f9-485b-83ed-f655ff3c5e58",
   "metadata": {
    "tags": []
   },
   "outputs": [],
   "source": [
    "# create 2 separate dataframes, 1 has depressed px, other has non-depressed px\n",
    "icdata_cevd <- ic_df[ic_df$dep_diag_yes == 1, ]\n",
    "icdata_cevdno <- ic_df[ic_df$dep_diag_yes == 0, ]"
   ]
  },
  {
   "cell_type": "code",
   "execution_count": 240,
   "id": "24c469a4-da54-4004-9b25-58106b555976",
   "metadata": {
    "tags": []
   },
   "outputs": [
    {
     "data": {
      "text/html": [
       "152"
      ],
      "text/latex": [
       "152"
      ],
      "text/markdown": [
       "152"
      ],
      "text/plain": [
       "[1] 152"
      ]
     },
     "metadata": {},
     "output_type": "display_data"
    }
   ],
   "source": [
    "#check number - should be 152\n",
    "nrow(icdata_cevd)"
   ]
  },
  {
   "cell_type": "code",
   "execution_count": 241,
   "id": "a3534f42-0e29-4197-bb6d-5a4813f06186",
   "metadata": {
    "tags": []
   },
   "outputs": [
    {
     "data": {
      "text/html": [
       "1526"
      ],
      "text/latex": [
       "1526"
      ],
      "text/markdown": [
       "1526"
      ],
      "text/plain": [
       "[1] 1526"
      ]
     },
     "metadata": {},
     "output_type": "display_data"
    }
   ],
   "source": [
    "#check number - should be 1526\n",
    "nrow(icdata_cevdno)"
   ]
  },
  {
   "cell_type": "code",
   "execution_count": 242,
   "id": "eb8cd675-e148-4e84-85c0-20c4a11965b7",
   "metadata": {
    "tags": []
   },
   "outputs": [],
   "source": [
    "# Convert the response variable to a factor with ordered levels\n",
    "icdata_cevd$p20510 <- factor(icdata_cevd$p20510, ordered = TRUE, levels = c( 1, 2, 3, 4))\n",
    "icdata_cevdno$p20510 <- factor(icdata_cevdno$p20510, ordered = TRUE, levels = c( 1, 2, 3, 4))\n",
    "icdata_cevd$ethnicity <- ifelse(icdata_cevd$ethnicity > 0, 1, 0)\n",
    "icdata_cevdno$ethnicity <- ifelse(icdata_cevdno$ethnicity > 0, 1, 0)\n",
    "icdata_cevd$sleep_filter <- ifelse(icdata_cevd$pa_sleep_convert_hr >= 7 & icdata_cevd$pa_sleep_convert_hr <= 9, 1, 0)\n",
    "icdata_cevdno$sleep_filter <- ifelse(icdata_cevdno$pa_sleep_convert_hr >= 7 & icdata_cevdno$pa_sleep_convert_hr <=9, 1, 0)"
   ]
  },
  {
   "cell_type": "code",
   "execution_count": 243,
   "id": "d559d806-cccc-491e-b14c-542e49d0a5d1",
   "metadata": {
    "tags": []
   },
   "outputs": [
    {
     "name": "stderr",
     "output_type": "stream",
     "text": [
      "Warning message in polr(p20510 ~ card_sum_filter + hchol_yes + diab_yes + study_t2e + :\n",
      "“design appears to be rank-deficient, so dropping some coefs”\n",
      "Warning message in polr(p20510 ~ card_sum_filter + hchol_yes + diab_yes + study_t2e + :\n",
      "“design appears to be rank-deficient, so dropping some coefs”\n"
     ]
    }
   ],
   "source": [
    "model_dy <- polr(p20510 ~  card_sum_filter +hchol_yes +  diab_yes+ study_t2e+ white_yes + acc_age + male +sleep_filter +pa_sed_convert  + pa_light_convert + pa_mv_convert_log, data = icdata_cevd, Hess = TRUE)\n",
    "model_dn <- polr(p20510 ~ card_sum_filter +hchol_yes +  diab_yes+ study_t2e+ white_yes + acc_age + male+ sleep_filter +pa_sed_convert  + pa_light_convert + pa_mv_convert_log, data = icdata_cevdno, Hess = TRUE)"
   ]
  },
  {
   "cell_type": "code",
   "execution_count": 244,
   "id": "a0993e11-8f9f-4d98-ad6c-f10ad9e2848f",
   "metadata": {
    "tags": []
   },
   "outputs": [
    {
     "name": "stdout",
     "output_type": "stream",
     "text": [
      "                            OR        lower        upper\n",
      "hchol_yes         1.341062e+00 6.151096e-01 2.923784e+00\n",
      "diab_yes          4.153841e-01 9.488516e-02 1.818451e+00\n",
      "study_t2e         1.276714e+00 7.747996e-01 2.103768e+00\n",
      "white_yes         1.027310e+06 8.186117e+04 1.289214e+07\n",
      "acc_age           9.710613e-01 9.250295e-01 1.019384e+00\n",
      "male              1.157040e+00 5.784279e-01 2.314450e+00\n",
      "sleep_filter      8.839301e-01 4.260109e-01 1.834067e+00\n",
      "pa_sed_convert    1.002669e+00 9.980518e-01 1.007308e+00\n",
      "pa_light_convert  1.001551e+00 9.969191e-01 1.006205e+00\n",
      "pa_mv_convert_log 8.729114e-01 6.498660e-01 1.172510e+00\n",
      "1|2               1.349623e+06 1.075454e+05 1.693685e+07\n",
      "2|3               1.154464e+07 8.542253e+05 1.560229e+08\n",
      "3|4               1.812344e+07 1.301690e+06 2.523329e+08\n"
     ]
    }
   ],
   "source": [
    "df_model_dy <- summary(model_dy)\n",
    "#get odds ratios\n",
    "odds_ratios_dy <- exp(df_model_dy$coefficients[, \"Value\"])\n",
    "#get standard errors\n",
    "stde_dy <- df_model_dy$coefficients[, \"Std. Error\"]\n",
    "#get 95% confidence intervals\n",
    "conf_int_dy <- exp(cbind(\n",
    "  OR = df_model_dy$coefficients[, \"Value\"],\n",
    "  lower = df_model_dy$coefficients[, \"Value\"] - 1.96 * stde_dy,\n",
    "  upper = df_model_dy$coefficients[, \"Value\"] + 1.96 * stde_dy \n",
    "))\n",
    "print(conf_int_dy)"
   ]
  },
  {
   "cell_type": "code",
   "execution_count": 245,
   "id": "8e49e5ec-0d7b-4414-b447-001fdb7f26c8",
   "metadata": {
    "tags": []
   },
   "outputs": [
    {
     "data": {
      "text/html": [
       "<table class=\"dataframe\">\n",
       "<caption>A matrix: 13 × 4 of type dbl</caption>\n",
       "<thead>\n",
       "\t<tr><th></th><th scope=col>Value</th><th scope=col>Std. Error</th><th scope=col>t value</th><th scope=col>p value</th></tr>\n",
       "</thead>\n",
       "<tbody>\n",
       "\t<tr><th scope=row>hchol_yes</th><td> 0.293461961</td><td>0.397661619</td><td> 0.7379690</td><td>4.605333e-01</td></tr>\n",
       "\t<tr><th scope=row>diab_yes</th><td>-0.878551546</td><td>0.753334931</td><td>-1.1662164</td><td>2.435270e-01</td></tr>\n",
       "\t<tr><th scope=row>study_t2e</th><td> 0.244289607</td><td>0.254816569</td><td> 0.9586881</td><td>3.377159e-01</td></tr>\n",
       "\t<tr><th scope=row>white_yes</th><td>13.842454176</td><td>1.290650083</td><td>10.7251798</td><td>7.753615e-27</td></tr>\n",
       "\t<tr><th scope=row>acc_age</th><td>-0.029365643</td><td>0.024777566</td><td>-1.1851706</td><td>2.359500e-01</td></tr>\n",
       "\t<tr><th scope=row>male</th><td> 0.145865373</td><td>0.353727888</td><td> 0.4123661</td><td>6.800711e-01</td></tr>\n",
       "\t<tr><th scope=row>sleep_filter</th><td>-0.123377341</td><td>0.372404601</td><td>-0.3312992</td><td>7.404185e-01</td></tr>\n",
       "\t<tr><th scope=row>pa_sed_convert</th><td> 0.002665812</td><td>0.002355043</td><td> 1.1319589</td><td>2.576517e-01</td></tr>\n",
       "\t<tr><th scope=row>pa_light_convert</th><td> 0.001549892</td><td>0.002365095</td><td> 0.6553192</td><td>5.122622e-01</td></tr>\n",
       "\t<tr><th scope=row>pa_mv_convert_log</th><td>-0.135921263</td><td>0.150544807</td><td>-0.9028625</td><td>3.665989e-01</td></tr>\n",
       "\t<tr><th scope=row>1|2</th><td>14.115335526</td><td>1.290646357</td><td>10.9366407</td><td>7.700034e-28</td></tr>\n",
       "\t<tr><th scope=row>2|3</th><td>16.261731622</td><td>1.328459905</td><td>12.2410406</td><td>1.876117e-34</td></tr>\n",
       "\t<tr><th scope=row>3|4</th><td>16.712716935</td><td>1.343644274</td><td>12.4383494</td><td>1.618132e-35</td></tr>\n",
       "</tbody>\n",
       "</table>\n"
      ],
      "text/latex": [
       "A matrix: 13 × 4 of type dbl\n",
       "\\begin{tabular}{r|llll}\n",
       "  & Value & Std. Error & t value & p value\\\\\n",
       "\\hline\n",
       "\thchol\\_yes &  0.293461961 & 0.397661619 &  0.7379690 & 4.605333e-01\\\\\n",
       "\tdiab\\_yes & -0.878551546 & 0.753334931 & -1.1662164 & 2.435270e-01\\\\\n",
       "\tstudy\\_t2e &  0.244289607 & 0.254816569 &  0.9586881 & 3.377159e-01\\\\\n",
       "\twhite\\_yes & 13.842454176 & 1.290650083 & 10.7251798 & 7.753615e-27\\\\\n",
       "\tacc\\_age & -0.029365643 & 0.024777566 & -1.1851706 & 2.359500e-01\\\\\n",
       "\tmale &  0.145865373 & 0.353727888 &  0.4123661 & 6.800711e-01\\\\\n",
       "\tsleep\\_filter & -0.123377341 & 0.372404601 & -0.3312992 & 7.404185e-01\\\\\n",
       "\tpa\\_sed\\_convert &  0.002665812 & 0.002355043 &  1.1319589 & 2.576517e-01\\\\\n",
       "\tpa\\_light\\_convert &  0.001549892 & 0.002365095 &  0.6553192 & 5.122622e-01\\\\\n",
       "\tpa\\_mv\\_convert\\_log & -0.135921263 & 0.150544807 & -0.9028625 & 3.665989e-01\\\\\n",
       "\t1\\textbar{}2 & 14.115335526 & 1.290646357 & 10.9366407 & 7.700034e-28\\\\\n",
       "\t2\\textbar{}3 & 16.261731622 & 1.328459905 & 12.2410406 & 1.876117e-34\\\\\n",
       "\t3\\textbar{}4 & 16.712716935 & 1.343644274 & 12.4383494 & 1.618132e-35\\\\\n",
       "\\end{tabular}\n"
      ],
      "text/markdown": [
       "\n",
       "A matrix: 13 × 4 of type dbl\n",
       "\n",
       "| <!--/--> | Value | Std. Error | t value | p value |\n",
       "|---|---|---|---|---|\n",
       "| hchol_yes |  0.293461961 | 0.397661619 |  0.7379690 | 4.605333e-01 |\n",
       "| diab_yes | -0.878551546 | 0.753334931 | -1.1662164 | 2.435270e-01 |\n",
       "| study_t2e |  0.244289607 | 0.254816569 |  0.9586881 | 3.377159e-01 |\n",
       "| white_yes | 13.842454176 | 1.290650083 | 10.7251798 | 7.753615e-27 |\n",
       "| acc_age | -0.029365643 | 0.024777566 | -1.1851706 | 2.359500e-01 |\n",
       "| male |  0.145865373 | 0.353727888 |  0.4123661 | 6.800711e-01 |\n",
       "| sleep_filter | -0.123377341 | 0.372404601 | -0.3312992 | 7.404185e-01 |\n",
       "| pa_sed_convert |  0.002665812 | 0.002355043 |  1.1319589 | 2.576517e-01 |\n",
       "| pa_light_convert |  0.001549892 | 0.002365095 |  0.6553192 | 5.122622e-01 |\n",
       "| pa_mv_convert_log | -0.135921263 | 0.150544807 | -0.9028625 | 3.665989e-01 |\n",
       "| 1|2 | 14.115335526 | 1.290646357 | 10.9366407 | 7.700034e-28 |\n",
       "| 2|3 | 16.261731622 | 1.328459905 | 12.2410406 | 1.876117e-34 |\n",
       "| 3|4 | 16.712716935 | 1.343644274 | 12.4383494 | 1.618132e-35 |\n",
       "\n"
      ],
      "text/plain": [
       "                  Value        Std. Error  t value    p value     \n",
       "hchol_yes          0.293461961 0.397661619  0.7379690 4.605333e-01\n",
       "diab_yes          -0.878551546 0.753334931 -1.1662164 2.435270e-01\n",
       "study_t2e          0.244289607 0.254816569  0.9586881 3.377159e-01\n",
       "white_yes         13.842454176 1.290650083 10.7251798 7.753615e-27\n",
       "acc_age           -0.029365643 0.024777566 -1.1851706 2.359500e-01\n",
       "male               0.145865373 0.353727888  0.4123661 6.800711e-01\n",
       "sleep_filter      -0.123377341 0.372404601 -0.3312992 7.404185e-01\n",
       "pa_sed_convert     0.002665812 0.002355043  1.1319589 2.576517e-01\n",
       "pa_light_convert   0.001549892 0.002365095  0.6553192 5.122622e-01\n",
       "pa_mv_convert_log -0.135921263 0.150544807 -0.9028625 3.665989e-01\n",
       "1|2               14.115335526 1.290646357 10.9366407 7.700034e-28\n",
       "2|3               16.261731622 1.328459905 12.2410406 1.876117e-34\n",
       "3|4               16.712716935 1.343644274 12.4383494 1.618132e-35"
      ]
     },
     "metadata": {},
     "output_type": "display_data"
    }
   ],
   "source": [
    "\n",
    "#make a table of coefficients\n",
    "ctable_dy <- coef(summary(model_dy))\n",
    "#get p values\n",
    "p_dy <- pnorm(abs(ctable_dy[, \"t value\"]), lower.tail = FALSE) * 2\n",
    "#get table\n",
    "(ctable_dy <- cbind(ctable_dy, \"p value\" = p_dy))"
   ]
  },
  {
   "cell_type": "code",
   "execution_count": 246,
   "id": "5173b742-8410-45ae-92b5-55d070aea7ad",
   "metadata": {
    "tags": []
   },
   "outputs": [
    {
     "name": "stdout",
     "output_type": "stream",
     "text": [
      "                          OR      lower     upper\n",
      "hchol_yes         1.44938634 1.06633421 1.9700397\n",
      "diab_yes          1.08030865 0.63885276 1.8268165\n",
      "study_t2e         0.80928135 0.66877001 0.9793147\n",
      "white_yes         1.23814908 0.60366927 2.5394918\n",
      "acc_age           0.95973262 0.94540321 0.9742792\n",
      "male              0.68419161 0.51996750 0.9002835\n",
      "sleep_filter      0.90034726 0.68119283 1.1900084\n",
      "pa_sed_convert    0.99989659 0.99870811 1.0010865\n",
      "pa_light_convert  0.99949158 0.99802862 1.0009567\n",
      "pa_mv_convert_log 0.87807646 0.78395583 0.9834971\n",
      "1|2               0.09937998 0.08810998 0.1120915\n",
      "2|3               0.74915513 0.56204519 0.9985557\n",
      "3|4               2.18626251 1.36538363 3.5006599\n"
     ]
    }
   ],
   "source": [
    "df_model_dn <- summary(model_dn)\n",
    "#get odds ratios\n",
    "odds_ratios_dn <- exp(df_model_dn$coefficients[, \"Value\"])\n",
    "#get standard errors\n",
    "stde_dn <- df_model_dn$coefficients[, \"Std. Error\"]\n",
    "#get 95% confidence intervals\n",
    "conf_int_dn <- exp(cbind(\n",
    "  OR = df_model_dn$coefficients[, \"Value\"],\n",
    "  lower = df_model_dn$coefficients[, \"Value\"] - 1.96 * stde_dn,\n",
    "  upper = df_model_dn$coefficients[, \"Value\"] + 1.96 * stde_dn \n",
    "))\n",
    "print(conf_int_dn)"
   ]
  },
  {
   "cell_type": "code",
   "execution_count": 247,
   "id": "d55464f0-0b9f-45a0-be7e-b5264b273bf9",
   "metadata": {
    "tags": []
   },
   "outputs": [
    {
     "data": {
      "text/html": [
       "<table class=\"dataframe\">\n",
       "<caption>A matrix: 13 × 4 of type dbl</caption>\n",
       "<thead>\n",
       "\t<tr><th></th><th scope=col>Value</th><th scope=col>Std. Error</th><th scope=col>t value</th><th scope=col>p value</th></tr>\n",
       "</thead>\n",
       "<tbody>\n",
       "\t<tr><th scope=row>hchol_yes</th><td> 0.3711402521</td><td>0.1565884991</td><td>  2.3701629</td><td>1.778025e-02</td></tr>\n",
       "\t<tr><th scope=row>diab_yes</th><td> 0.0772467881</td><td>0.2680245236</td><td>  0.2882079</td><td>7.731876e-01</td></tr>\n",
       "\t<tr><th scope=row>study_t2e</th><td>-0.2116086415</td><td>0.0972991958</td><td> -2.1748242</td><td>2.964330e-02</td></tr>\n",
       "\t<tr><th scope=row>white_yes</th><td> 0.2136175867</td><td>0.3665032596</td><td>  0.5828532</td><td>5.599921e-01</td></tr>\n",
       "\t<tr><th scope=row>acc_age</th><td>-0.0411005588</td><td>0.0076751047</td><td> -5.3550486</td><td>8.553340e-08</td></tr>\n",
       "\t<tr><th scope=row>male</th><td>-0.3795172722</td><td>0.1400365812</td><td> -2.7101295</td><td>6.725694e-03</td></tr>\n",
       "\t<tr><th scope=row>sleep_filter</th><td>-0.1049747511</td><td>0.1423138320</td><td> -0.7376286</td><td>4.607402e-01</td></tr>\n",
       "\t<tr><th scope=row>pa_sed_convert</th><td>-0.0001034188</td><td>0.0006067912</td><td> -0.1704356</td><td>8.646675e-01</td></tr>\n",
       "\t<tr><th scope=row>pa_light_convert</th><td>-0.0005085509</td><td>0.0007473350</td><td> -0.6804858</td><td>4.961969e-01</td></tr>\n",
       "\t<tr><th scope=row>pa_mv_convert_log</th><td>-0.1300216022</td><td>0.0578474450</td><td> -2.2476637</td><td>2.459764e-02</td></tr>\n",
       "\t<tr><th scope=row>1|2</th><td>-2.3088045561</td><td>0.0614106642</td><td>-37.5961502</td><td>0.000000e+00</td></tr>\n",
       "\t<tr><th scope=row>2|3</th><td>-0.2888091970</td><td>0.1466141931</td><td> -1.9698584</td><td>4.885460e-02</td></tr>\n",
       "\t<tr><th scope=row>3|4</th><td> 0.7821934688</td><td>0.2401826708</td><td>  3.2566607</td><td>1.127311e-03</td></tr>\n",
       "</tbody>\n",
       "</table>\n"
      ],
      "text/latex": [
       "A matrix: 13 × 4 of type dbl\n",
       "\\begin{tabular}{r|llll}\n",
       "  & Value & Std. Error & t value & p value\\\\\n",
       "\\hline\n",
       "\thchol\\_yes &  0.3711402521 & 0.1565884991 &   2.3701629 & 1.778025e-02\\\\\n",
       "\tdiab\\_yes &  0.0772467881 & 0.2680245236 &   0.2882079 & 7.731876e-01\\\\\n",
       "\tstudy\\_t2e & -0.2116086415 & 0.0972991958 &  -2.1748242 & 2.964330e-02\\\\\n",
       "\twhite\\_yes &  0.2136175867 & 0.3665032596 &   0.5828532 & 5.599921e-01\\\\\n",
       "\tacc\\_age & -0.0411005588 & 0.0076751047 &  -5.3550486 & 8.553340e-08\\\\\n",
       "\tmale & -0.3795172722 & 0.1400365812 &  -2.7101295 & 6.725694e-03\\\\\n",
       "\tsleep\\_filter & -0.1049747511 & 0.1423138320 &  -0.7376286 & 4.607402e-01\\\\\n",
       "\tpa\\_sed\\_convert & -0.0001034188 & 0.0006067912 &  -0.1704356 & 8.646675e-01\\\\\n",
       "\tpa\\_light\\_convert & -0.0005085509 & 0.0007473350 &  -0.6804858 & 4.961969e-01\\\\\n",
       "\tpa\\_mv\\_convert\\_log & -0.1300216022 & 0.0578474450 &  -2.2476637 & 2.459764e-02\\\\\n",
       "\t1\\textbar{}2 & -2.3088045561 & 0.0614106642 & -37.5961502 & 0.000000e+00\\\\\n",
       "\t2\\textbar{}3 & -0.2888091970 & 0.1466141931 &  -1.9698584 & 4.885460e-02\\\\\n",
       "\t3\\textbar{}4 &  0.7821934688 & 0.2401826708 &   3.2566607 & 1.127311e-03\\\\\n",
       "\\end{tabular}\n"
      ],
      "text/markdown": [
       "\n",
       "A matrix: 13 × 4 of type dbl\n",
       "\n",
       "| <!--/--> | Value | Std. Error | t value | p value |\n",
       "|---|---|---|---|---|\n",
       "| hchol_yes |  0.3711402521 | 0.1565884991 |   2.3701629 | 1.778025e-02 |\n",
       "| diab_yes |  0.0772467881 | 0.2680245236 |   0.2882079 | 7.731876e-01 |\n",
       "| study_t2e | -0.2116086415 | 0.0972991958 |  -2.1748242 | 2.964330e-02 |\n",
       "| white_yes |  0.2136175867 | 0.3665032596 |   0.5828532 | 5.599921e-01 |\n",
       "| acc_age | -0.0411005588 | 0.0076751047 |  -5.3550486 | 8.553340e-08 |\n",
       "| male | -0.3795172722 | 0.1400365812 |  -2.7101295 | 6.725694e-03 |\n",
       "| sleep_filter | -0.1049747511 | 0.1423138320 |  -0.7376286 | 4.607402e-01 |\n",
       "| pa_sed_convert | -0.0001034188 | 0.0006067912 |  -0.1704356 | 8.646675e-01 |\n",
       "| pa_light_convert | -0.0005085509 | 0.0007473350 |  -0.6804858 | 4.961969e-01 |\n",
       "| pa_mv_convert_log | -0.1300216022 | 0.0578474450 |  -2.2476637 | 2.459764e-02 |\n",
       "| 1|2 | -2.3088045561 | 0.0614106642 | -37.5961502 | 0.000000e+00 |\n",
       "| 2|3 | -0.2888091970 | 0.1466141931 |  -1.9698584 | 4.885460e-02 |\n",
       "| 3|4 |  0.7821934688 | 0.2401826708 |   3.2566607 | 1.127311e-03 |\n",
       "\n"
      ],
      "text/plain": [
       "                  Value         Std. Error   t value     p value     \n",
       "hchol_yes          0.3711402521 0.1565884991   2.3701629 1.778025e-02\n",
       "diab_yes           0.0772467881 0.2680245236   0.2882079 7.731876e-01\n",
       "study_t2e         -0.2116086415 0.0972991958  -2.1748242 2.964330e-02\n",
       "white_yes          0.2136175867 0.3665032596   0.5828532 5.599921e-01\n",
       "acc_age           -0.0411005588 0.0076751047  -5.3550486 8.553340e-08\n",
       "male              -0.3795172722 0.1400365812  -2.7101295 6.725694e-03\n",
       "sleep_filter      -0.1049747511 0.1423138320  -0.7376286 4.607402e-01\n",
       "pa_sed_convert    -0.0001034188 0.0006067912  -0.1704356 8.646675e-01\n",
       "pa_light_convert  -0.0005085509 0.0007473350  -0.6804858 4.961969e-01\n",
       "pa_mv_convert_log -0.1300216022 0.0578474450  -2.2476637 2.459764e-02\n",
       "1|2               -2.3088045561 0.0614106642 -37.5961502 0.000000e+00\n",
       "2|3               -0.2888091970 0.1466141931  -1.9698584 4.885460e-02\n",
       "3|4                0.7821934688 0.2401826708   3.2566607 1.127311e-03"
      ]
     },
     "metadata": {},
     "output_type": "display_data"
    }
   ],
   "source": [
    "#make a table of coefficients\n",
    "ctable_dn <- coef(summary(model_dn))\n",
    "#get p values\n",
    "p_dn <- pnorm(abs(ctable_dn[, \"t value\"]), lower.tail = FALSE) * 2\n",
    "#get table\n",
    "(ctable_dn <- cbind(ctable_dn, \"p value\" = p_dn))"
   ]
  },
  {
   "cell_type": "code",
   "execution_count": null,
   "id": "a977904b-157e-415e-930e-a7e3ab08c7c2",
   "metadata": {},
   "outputs": [],
   "source": []
  }
 ],
 "metadata": {
  "kernelspec": {
   "display_name": "R",
   "language": "R",
   "name": "ir"
  },
  "language_info": {
   "codemirror_mode": "r",
   "file_extension": ".r",
   "mimetype": "text/x-r-source",
   "name": "R",
   "pygments_lexer": "r",
   "version": "4.4.1"
  }
 },
 "nbformat": 4,
 "nbformat_minor": 5
}
